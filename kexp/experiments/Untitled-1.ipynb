{
 "cells": [
  {
   "cell_type": "code",
   "execution_count": null,
   "id": "8ce28fdd",
   "metadata": {},
   "outputs": [
    {
     "data": {
      "text/plain": [
       "array([43.33268856])"
      ]
     },
     "execution_count": 1,
     "metadata": {},
     "output_type": "execute_result"
    }
   ],
   "source": [
    "from kamo import Potassium39\n",
    "atom = Potassium39()\n",
    "atom.get_ground_state_transition_frequency(1,-1,1,0,B=60.)"
   ]
  },
  {
   "cell_type": "code",
   "execution_count": 9,
   "id": "eab740ef",
   "metadata": {},
   "outputs": [
    {
     "data": {
      "text/plain": [
       "0.05313711395235288"
      ]
     },
     "execution_count": 9,
     "metadata": {},
     "output_type": "execute_result"
    }
   ],
   "source": [
    "(atom.get_magnetic_field_from_ground_state_transition_frequency(1,-1,1,0,43.5e6) - atom.get_magnetic_field_from_ground_state_transition_frequency(1,-1,1,0,43.463e6))"
   ]
  },
  {
   "cell_type": "code",
   "execution_count": null,
   "id": "16f34435",
   "metadata": {},
   "outputs": [
    {
     "data": {
      "text/plain": [
       "2222.222222223878"
      ]
     },
     "execution_count": 14,
     "metadata": {},
     "output_type": "execute_result"
    }
   ],
   "source": [
    "import numpy as np\n",
    "np.diff(np.linspace(43.41e6, 43.43e6,5))[0]"
   ]
  },
  {
   "cell_type": "code",
   "execution_count": 10,
   "id": "5b70d99b",
   "metadata": {},
   "outputs": [],
   "source": [
    "from kexp import EthernetRelay\n",
    "EthernetRelay().source_off()"
   ]
  }
 ],
 "metadata": {
  "kernelspec": {
   "display_name": "kpy",
   "language": "python",
   "name": "python3"
  },
  "language_info": {
   "codemirror_mode": {
    "name": "ipython",
    "version": 3
   },
   "file_extension": ".py",
   "mimetype": "text/x-python",
   "name": "python",
   "nbconvert_exporter": "python",
   "pygments_lexer": "ipython3",
   "version": "3.10.11"
  }
 },
 "nbformat": 4,
 "nbformat_minor": 5
}
