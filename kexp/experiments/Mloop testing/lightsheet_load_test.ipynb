{
 "cells": [
  {
   "cell_type": "code",
   "execution_count": 6,
   "metadata": {},
   "outputs": [],
   "source": [
    "import integration.lib_lightsheet_loading_xy as lib\n",
    "import os\n",
    "import numpy as np\n",
    "\n",
    "# from kexp.util.data.load_atomdata import load_atomdata\n",
    "# from kexp.analysis.plotting_1d import *\n",
    "\n",
    "\n"
   ]
  },
  {
   "cell_type": "code",
   "execution_count": 15,
   "metadata": {},
   "outputs": [],
   "source": [
    "# var_names = ['detune_push',\n",
    "#             'amp_push',\n",
    "#             'detune_d2_c_2dmot',\n",
    "#             'detune_d2_r_2dmot',\n",
    "#             'amp_d2_c_2dmot',\n",
    "#             'amp_d2_r_2dmot',\n",
    "#             'v_2d_mot_current',\n",
    "#             'detune_d2_c_mot',\n",
    "#             'detune_d2_r_mot',\n",
    "#             'amp_d2_c_mot',\n",
    "#             'amp_d2_r_mot',\n",
    "#             'i_mot']\n",
    "# var_space = [[-5.4,0.6],\n",
    "#              [0.01,0.2],\n",
    "#              [-4.2,1.8],\n",
    "#              [-5.4,0.6],\n",
    "#              [0.01,0.2],\n",
    "#              [0.01,0.2],\n",
    "#              [0.5,5.],\n",
    "#              [-5.4,0.6],\n",
    "#              [-7.2,-1.2],\n",
    "#              [0.01,0.2],\n",
    "#              [0.01,0.2],\n",
    "#              [15.,25.]]\n",
    "\n",
    "var_names = ['t_lightsheet_rampup',\n",
    "             'i_magtrap_ramp_end',\n",
    "             't_magtrap_ramp',\n",
    "             't_magtrap',\n",
    "             't_magtrap_rampdown',\n",
    "             'v_pd_lightsheet_rampup_end',\n",
    "             'v_pd_lightsheet_rampdown_end',\n",
    "             't_lightsheet_rampdown']\n",
    "var_space = [[0.25,0.45],\n",
    "             [60,90],\n",
    "             [0.05,0.1],\n",
    "             [0,0.1],\n",
    "             [0.04,0.09],\n",
    "             [4,15],\n",
    "             [2,9],\n",
    "             [.4,.10]]"
   ]
  },
  {
   "cell_type": "code",
   "execution_count": 16,
   "metadata": {},
   "outputs": [
    {
     "name": "stdout",
     "output_type": "stream",
     "text": [
      "                  Variable Name  Default Value  Minimum Range Value  Maximum Range Value\n",
      "0           t_lightsheet_rampup          0.300                 0.25                 0.45\n",
      "1            i_magtrap_ramp_end         90.000                60.00                90.00\n",
      "2                t_magtrap_ramp          0.075                 0.05                 0.10\n",
      "3                     t_magtrap          0.000                 0.00                 0.10\n",
      "4            t_magtrap_rampdown          0.075                 0.04                 0.09\n",
      "5    v_pd_lightsheet_rampup_end          8.580                 4.00                15.00\n",
      "6  v_pd_lightsheet_rampdown_end          4.160                 2.00                 9.00\n",
      "7         t_lightsheet_rampdown          0.700                 0.40                 0.10\n"
     ]
    }
   ],
   "source": [
    "#make table for vars\n",
    "import pandas as pd\n",
    "\n",
    "\n",
    "from kexp.config import expt_params\n",
    "# Set display options\n",
    "pd.set_option('display.max_columns', None)  # Show all columns\n",
    "pd.set_option('display.max_colwidth', None)  # Show full column width\n",
    "pd.set_option('display.width', 1000)         # Set the width of the display\n",
    "# Create an instance of the class\n",
    "example_instance = expt_params.ExptParams()\n",
    "\n",
    "# Prepare data for the table\n",
    "data = []\n",
    "for i, name in enumerate(var_names):\n",
    "    default_value = getattr(example_instance, name, None)\n",
    "    min_range, max_range = var_space[i]\n",
    "    data.append([name, default_value, min_range, max_range])\n",
    "\n",
    "# Create a DataFrame\n",
    "df = pd.DataFrame(data, columns=[\"Variable Name\", \"Default Value\", \"Minimum Range Value\", \"Maximum Range Value\"])\n",
    "\n",
    "# Print the DataFrame\n",
    "print(df)\n",
    "\n"
   ]
  },
  {
   "cell_type": "code",
   "execution_count": 8,
   "metadata": {},
   "outputs": [
    {
     "name": "stdout",
     "output_type": "stream",
     "text": [
      "INFO     Optimization started.\n",
      "INFO     Run: 0 (training)\n",
      "INFO     params [2.83544145e-01 1.07473166e+02 9.88141454e-02 8.05664260e-02\n",
      " 5.85916490e-02 1.49143824e+01 7.45267693e+00]\n",
      "1  Traceback (most recent call last):\n",
      "  File \"C:\\Users\\bananas\\.venv\\kpy\\Scripts\\artiq_run-script.py\", line 33, in <module>\n",
      "    sys.exit(load_entry_point('artiq', 'console_scripts', 'artiq_run')())\n",
      "  File \"c:\\users\\bananas\\code\\artiq\\artiq\\frontend\\artiq_run.py\", line 269, in main\n",
      "    return run(with_file=True)\n",
      "  File \"c:\\users\\bananas\\code\\artiq\\artiq\\frontend\\artiq_run.py\", line 235, in run\n",
      "    device_mgr = DeviceManager(DeviceDB(args.device_db),\n",
      "  File \"c:\\users\\bananas\\code\\artiq\\artiq\\master\\databases.py\", line 25, in __init__\n",
      "    self.data = Notifier(device_db_from_file(self.backing_file))\n",
      "  File \"c:\\users\\bananas\\code\\artiq\\artiq\\master\\databases.py\", line 14, in device_db_from_file\n",
      "    mod = file_import(filename)\n",
      "  File \"c:\\users\\bananas\\code\\artiq\\artiq\\tools.py\", line 138, in file_import\n",
      "    spec.loader.exec_module(module)\n",
      "  File \"<frozen importlib._bootstrap_external>\", line 879, in exec_module\n",
      "  File \"<frozen importlib._bootstrap_external>\", line 1016, in get_code\n",
      "  File \"<frozen importlib._bootstrap_external>\", line 1073, in get_data\n",
      "FileNotFoundError: [Errno 2] No such file or directory: 'device_db.py'\n",
      "\n",
      "run id 17231\n",
      "-0.0\n",
      "INFO     cost -0.0 +/- 0.0\n",
      "INFO     Run: 1 (training)\n",
      "INFO     params [3.79841868e-01 1.05996316e+02 8.17831999e-02 4.84416334e-02\n",
      " 8.65222106e-02 4.07454982e+00 3.33183228e+00]\n",
      "1  Traceback (most recent call last):\n",
      "  File \"C:\\Users\\bananas\\.venv\\kpy\\Scripts\\artiq_run-script.py\", line 33, in <module>\n",
      "    sys.exit(load_entry_point('artiq', 'console_scripts', 'artiq_run')())\n",
      "  File \"c:\\users\\bananas\\code\\artiq\\artiq\\frontend\\artiq_run.py\", line 269, in main\n",
      "    return run(with_file=True)\n",
      "  File \"c:\\users\\bananas\\code\\artiq\\artiq\\frontend\\artiq_run.py\", line 235, in run\n",
      "    device_mgr = DeviceManager(DeviceDB(args.device_db),\n",
      "  File \"c:\\users\\bananas\\code\\artiq\\artiq\\master\\databases.py\", line 25, in __init__\n",
      "    self.data = Notifier(device_db_from_file(self.backing_file))\n",
      "  File \"c:\\users\\bananas\\code\\artiq\\artiq\\master\\databases.py\", line 14, in device_db_from_file\n",
      "    mod = file_import(filename)\n",
      "  File \"c:\\users\\bananas\\code\\artiq\\artiq\\tools.py\", line 138, in file_import\n",
      "    spec.loader.exec_module(module)\n",
      "  File \"<frozen importlib._bootstrap_external>\", line 879, in exec_module\n",
      "  File \"<frozen importlib._bootstrap_external>\", line 1016, in get_code\n",
      "  File \"<frozen importlib._bootstrap_external>\", line 1073, in get_data\n",
      "FileNotFoundError: [Errno 2] No such file or directory: 'device_db.py'\n",
      "\n",
      "run id 17231\n",
      "-0.0\n",
      "WARNING  !!! Do not give the interrupt signal again !!! \n",
      " M-LOOP stopped with keyboard interupt or system exit. Please wait at least 1 minute for the threads to safely shut down. \n",
      " \n",
      "WARNING  Closing down controller.\n"
     ]
    }
   ],
   "source": [
    "def main():\n",
    "    #M-LOOP can be run with three commands\n",
    "    \n",
    "    #First create your interface\n",
    "    interface = lib.CustomInterface(var_names)\n",
    "    #Next create the controller. \n",
    "    #The controller must take the variables to be changed in the vars object\n",
    "    #vars = Param()\n",
    "\n",
    "\n",
    "    controller = lib.mlc.create_controller(interface, \n",
    "                                       max_num_runs = 100,\n",
    "                                       target_cost = -109090000000,\n",
    "                                       num_params = len(var_names), \n",
    "                                       min_boundary = np.transpose(var_space)[0],\n",
    "                                       max_boundary = np.transpose(var_space)[1],\n",
    "                                       interface_file_type = 'txt',               #file types of *exp_input.mat* and *exp_output.mat*\n",
    "                                       controller_archive_file_type = 'txt',      #file type of the controller archive\n",
    "                                       learner_archive_file_type = 'txt')      #file type of the learner archive\n",
    "    controller.optimize()\n",
    "\n",
    "main()"
   ]
  },
  {
   "cell_type": "code",
   "execution_count": 1,
   "metadata": {},
   "outputs": [],
   "source": [
    "values = [4.5e-01, 1.2e+02, 1.0e-01, 0.0e+00, 9.0e-02]"
   ]
  },
  {
   "cell_type": "code",
   "execution_count": 5,
   "metadata": {},
   "outputs": [
    {
     "name": "stdout",
     "output_type": "stream",
     "text": [
      "\n",
      "                self.p.t_lightsheet_rampup = 0.45\n",
      "                self.p.i_magtrap_ramp_end = 120.0\n",
      "                self.p.t_magtrap_ramp = 0.1\n",
      "                self.p.t_magtrap = 0.0\n",
      "                self.p.t_magtrap_rampdown = 0.09\n"
     ]
    }
   ],
   "source": [
    "def param_format(param_values,param_keys=var_names):\n",
    "    lines = \"\"\n",
    "    for i in range(len(param_keys)):\n",
    "            lines += f\"\"\"\n",
    "                self.p.{param_keys[i]} = {float(param_values[i])}\"\"\"\n",
    "    print(lines)\n",
    "\n",
    "param_format(values)"
   ]
  },
  {
   "cell_type": "code",
   "execution_count": 7,
   "metadata": {},
   "outputs": [
    {
     "name": "stdout",
     "output_type": "stream",
     "text": [
      "\n",
      "                self.p.t_lightsheet_rampup = 0.3\n",
      "                self.p.i_magtrap_ramp_end = 90.0\n",
      "                self.p.t_magtrap_ramp = 0.075\n",
      "                self.p.t_magtrap = 0.0\n",
      "                self.p.t_magtrap_rampdown = 0.075\n"
     ]
    }
   ],
   "source": [
    "def print_default_params(param_keys=var_names):\n",
    "    from kexp.config import ExptParams\n",
    "    p = ExptParams()\n",
    "    lines = \"\"\n",
    "    for key in param_keys:\n",
    "            val = vars(p)[key]\n",
    "            lines += f\"\"\"\n",
    "                self.p.{key} = {float(val)}\"\"\"\n",
    "    print(lines)\n",
    "print_default_params()"
   ]
  },
  {
   "cell_type": "code",
   "execution_count": 8,
   "metadata": {},
   "outputs": [
    {
     "name": "stdout",
     "output_type": "stream",
     "text": [
      "\n",
      "                self.p.t_lightsheet_rampup ∈ [0.25, 0.45]\n",
      "                self.p.i_magtrap_ramp_end ∈ [60, 120]\n",
      "                self.p.t_magtrap_ramp ∈ [0.05, 0.1]\n",
      "                self.p.t_magtrap ∈ [0, 0.1]\n",
      "                self.p.t_magtrap_rampdown ∈ [0.04, 0.09]\n"
     ]
    }
   ],
   "source": [
    "def print_mloop_param_bounds(param_keys=var_names,param_bounds=var_space):\n",
    "    lines = \"\"\n",
    "    for i in range(len(param_keys)):\n",
    "            lines += f\"\"\"\n",
    "                self.p.{param_keys[i]} \\u2208 {var_space[i]}\"\"\"\n",
    "    print(lines)\n",
    "print_mloop_param_bounds()"
   ]
  },
  {
   "cell_type": "code",
   "execution_count": 10,
   "metadata": {},
   "outputs": [
    {
     "name": "stdout",
     "output_type": "stream",
     "text": [
      "\n",
      "                self.p.t_lightsheet_rampup ∈ [0.25, 0.45]:    mloop = 0.450,    default = 0.300\n",
      "                self.p.i_magtrap_ramp_end ∈ [60, 120]:       mloop = 120.000,   default = 90.000\n",
      "                self.p.t_magtrap_ramp     ∈ [0.05, 0.1]:     mloop = 0.100,    default = 0.075\n",
      "                self.p.t_magtrap          ∈ [0, 0.1]:        mloop = 0.000,    default = 0.000\n",
      "                self.p.t_magtrap_rampdown ∈ [0.04, 0.09]:    mloop = 0.090,    default = 0.075\n"
     ]
    }
   ],
   "source": [
    "def print_param_report(mloop_params,param_keys=var_names,param_bounds=var_space):\n",
    "    from kexp.config import ExptParams\n",
    "    p = ExptParams()\n",
    "    lines = \"\"\n",
    "    for i in range(len(param_keys)):\n",
    "            line = []\n",
    "            line.append(f\"self.p.{param_keys[i]}\".ljust(25,' '))\n",
    "            line.append(f\" \\u2208 {var_space[i]}:\".ljust(20,' '))\n",
    "            line.append(f\"mloop = {mloop_params[i]:1.3f},   \".ljust(18,' '))\n",
    "            line.append(f\"default = {vars(p)[param_keys[i]]:1.3f}\".ljust(15,' '))\n",
    "            s = \"\"\n",
    "            for L in line:\n",
    "                s += L\n",
    "            lines += f\"\"\"\n",
    "                {s}\"\"\"\n",
    "    return lines\n",
    "lines = print_param_report(values)\n",
    "print(lines)"
   ]
  },
  {
   "cell_type": "code",
   "execution_count": null,
   "metadata": {},
   "outputs": [],
   "source": [
    "self.p.t_lightsheet_rampup ∈ [0.25, 0.45]:    mloop = 0.450,    default = 0.300\n",
    "self.p.i_magtrap_ramp_end  ∈ [60, 120]:       mloop = 120.000,   default = 90.000\n",
    "self.p.t_magtrap_ramp      ∈ [0.05, 0.1]:     mloop = 0.100,    default = 0.075\n",
    "self.p.t_magtrap           ∈ [0, 0.1]:        mloop = 0.000,    default = 0.000\n",
    "self.p.t_magtrap_rampdown  ∈ [0.04, 0.09]:    mloop = 0.090,    default = 0.075"
   ]
  },
  {
   "cell_type": "code",
   "execution_count": 4,
   "metadata": {},
   "outputs": [],
   "source": [
    "#### uncomment this and run it if u wanna delete the logs\n",
    "\n",
    "\n",
    "# import os, shutil\n",
    "# # Specify the path of the file to be deleted\n",
    "# folder = r'C:\\Users\\bananas\\code\\k-exp\\kexp\\experiments\\Mloop testing\\M-LOOP_archives'\n",
    "# file_path_2 = r'C:\\Users\\bananas\\code\\k-exp\\kexp\\experiments\\Mloop testing\\M-LOOP_logs'\n",
    "\n",
    "# for filename in os.listdir(folder):\n",
    "#     file_path = os.path.join(folder, filename)\n",
    "#     try:\n",
    "#         if os.path.isfile(file_path) or os.path.islink(file_path):\n",
    "#             os.unlink(file_path)\n",
    "#         elif os.path.isdir(file_path):\n",
    "#             shutil.rmtree(file_path)\n",
    "#     except Exception as e:\n",
    "#         print('Failed to delete %s. Reason: %s' % (file_path, e))\n",
    "\n",
    "# for filename in os.listdir(file_path_2):\n",
    "#     file_path = os.path.join(folder, filename)\n",
    "#     try:\n",
    "#         if os.path.isfile(file_path) or os.path.islink(file_path):\n",
    "#             os.unlink(file_path)\n",
    "#         elif os.path.isdir(file_path):\n",
    "#             shutil.rmtree(file_path)\n",
    "#     except Exception as e:\n",
    "#         print('Failed to delete %s. Reason: %s' % (file_path, e))"
   ]
  }
 ],
 "metadata": {
  "kernelspec": {
   "display_name": "Python 3",
   "language": "python",
   "name": "python3"
  },
  "language_info": {
   "codemirror_mode": {
    "name": "ipython",
    "version": 3
   },
   "file_extension": ".py",
   "mimetype": "text/x-python",
   "name": "python",
   "nbconvert_exporter": "python",
   "pygments_lexer": "ipython3",
   "version": "3.10.11"
  }
 },
 "nbformat": 4,
 "nbformat_minor": 2
}
