{
 "cells": [
  {
   "cell_type": "code",
   "execution_count": 1,
   "metadata": {},
   "outputs": [],
   "source": [
    "##This class takes in experiment paremeter variables and what MLoop thinks they should be, and then generates, and then sends an experiment \n",
    "##\n",
    "\n",
    "import mloop\n",
    "#Imports for M-LOOP\n",
    "import mloop.interfaces as mli\n",
    "import mloop.controllers as mlc\n",
    "import mloop.visualizations as mlv\n",
    "#Other imports\n",
    "import numpy as np\n",
    "import time\n",
    "from subprocess import PIPE, run\n",
    "import matplotlib.pyplot as plt\n",
    "import matplotlib as mpl\n",
    "import numpy as np\n",
    "# %matplotlib inline\n",
    "\n",
    "# %load_ext autoreload\n",
    "# %autoreload 2\n",
    "import os\n",
    "import textwrap\n",
    "\n",
    "from kexp.util.data.load_atomdata import load_atomdata\n",
    "from kexp.analysis.plotting_1d import *\n"
   ]
  },
  {
   "cell_type": "code",
   "execution_count": 14,
   "metadata": {},
   "outputs": [
    {
     "name": "stdout",
     "output_type": "stream",
     "text": [
      "run id 17049\n",
      "Optimal parameters not found: The maximum number of function evaluations is exceeded.\n"
     ]
    },
    {
     "data": {
      "text/plain": [
       "64676331.84222197"
      ]
     },
     "execution_count": 14,
     "metadata": {},
     "output_type": "execute_result"
    }
   ],
   "source": [
    "#Cost Calculator!\n",
    "def getAtomNumber():\n",
    "\n",
    "        #Load the data given a run id.\n",
    "        ad = load_atomdata(0,crop_type='gm',average_repeats = True)\n",
    "        # peakDensity = findPeakOD(ad.od[0])\n",
    "        # print(peakDensity)\n",
    "        return np.max(ad.atom_number_density)*sum(ad.atom_number)/len(ad.atom_number) \n",
    "\n",
    "def findPeakOD(img):\n",
    "     brightest = 0\n",
    "     for i in range(len(img)):\n",
    "          for j in range(len(img[0])):\n",
    "               if img[i][j] > brightest:\n",
    "                    brightest = img[i][j]\n",
    "                    return brightest\n",
    "\n",
    "\n",
    "getAtomNumber()"
   ]
  }
 ],
 "metadata": {
  "kernelspec": {
   "display_name": "kpy",
   "language": "python",
   "name": "python3"
  },
  "language_info": {
   "codemirror_mode": {
    "name": "ipython",
    "version": 3
   },
   "file_extension": ".py",
   "mimetype": "text/x-python",
   "name": "python",
   "nbconvert_exporter": "python",
   "pygments_lexer": "ipython3",
   "version": "3.10.11"
  }
 },
 "nbformat": 4,
 "nbformat_minor": 2
}
