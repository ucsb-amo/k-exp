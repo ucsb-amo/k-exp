{
 "cells": [
  {
   "cell_type": "code",
   "execution_count": 15,
   "metadata": {},
   "outputs": [],
   "source": [
    "import vars \n",
    "import integration.lib as lib\n",
    "import os\n",
    "import numpy as np\n",
    "\n",
    "# from kexp.util.data.load_atomdata import load_atomdata\n",
    "# from kexp.analysis.plotting_1d import *\n",
    "\n",
    "\n"
   ]
  },
  {
   "cell_type": "code",
   "execution_count": 16,
   "metadata": {},
   "outputs": [],
   "source": [
    "\n",
    "class Param():\n",
    "    def __init__(self):\n",
    "        self.var_names = ['detune_gm','i_cmot']\n",
    "        self.var_space = [[5,15],[10,30]]"
   ]
  },
  {
   "cell_type": "code",
   "execution_count": 18,
   "metadata": {},
   "outputs": [
    {
     "ename": "NameError",
     "evalue": "name 'os' is not defined",
     "output_type": "error",
     "traceback": [
      "\u001b[1;31m---------------------------------------------------------------------------\u001b[0m",
      "\u001b[1;31mNameError\u001b[0m                                 Traceback (most recent call last)",
      "Cell \u001b[1;32mIn[18], line 20\u001b[0m\n\u001b[0;32m     11\u001b[0m     controller \u001b[38;5;241m=\u001b[39m lib\u001b[38;5;241m.\u001b[39mmlc\u001b[38;5;241m.\u001b[39mcreate_controller(interface, \n\u001b[0;32m     12\u001b[0m                                        max_num_runs \u001b[38;5;241m=\u001b[39m \u001b[38;5;241m100\u001b[39m,\n\u001b[0;32m     13\u001b[0m                                        target_cost \u001b[38;5;241m=\u001b[39m \u001b[38;5;241m-\u001b[39m\u001b[38;5;241m100000000000\u001b[39m,\n\u001b[0;32m     14\u001b[0m                                        num_params \u001b[38;5;241m=\u001b[39m \u001b[38;5;241m1\u001b[39m, \n\u001b[0;32m     15\u001b[0m                                        min_boundary \u001b[38;5;241m=\u001b[39m [\u001b[38;5;241m6.\u001b[39m],\n\u001b[0;32m     16\u001b[0m                                        max_boundary \u001b[38;5;241m=\u001b[39m [\u001b[38;5;241m14.\u001b[39m])\n\u001b[0;32m     18\u001b[0m     \u001b[38;5;66;03m#controller.optimize()\u001b[39;00m\n\u001b[1;32m---> 20\u001b[0m \u001b[43mmain\u001b[49m\u001b[43m(\u001b[49m\u001b[43m)\u001b[49m\n",
      "Cell \u001b[1;32mIn[18], line 5\u001b[0m, in \u001b[0;36mmain\u001b[1;34m()\u001b[0m\n\u001b[0;32m      1\u001b[0m \u001b[38;5;28;01mdef\u001b[39;00m \u001b[38;5;21mmain\u001b[39m():\n\u001b[0;32m      2\u001b[0m     \u001b[38;5;66;03m#M-LOOP can be run with three commands\u001b[39;00m\n\u001b[0;32m      3\u001b[0m     \n\u001b[0;32m      4\u001b[0m     \u001b[38;5;66;03m#First create your interface\u001b[39;00m\n\u001b[1;32m----> 5\u001b[0m     interface \u001b[38;5;241m=\u001b[39m \u001b[43mlib\u001b[49m\u001b[38;5;241;43m.\u001b[39;49m\u001b[43mCustomInterface\u001b[49m\u001b[43m(\u001b[49m\u001b[43m)\u001b[49m\n\u001b[0;32m      6\u001b[0m     \u001b[38;5;66;03m#Next create the controller. \u001b[39;00m\n\u001b[0;32m      7\u001b[0m     \u001b[38;5;66;03m#The controller must take the variables to be changed in the vars object\u001b[39;00m\n\u001b[0;32m      8\u001b[0m     \u001b[38;5;28mvars\u001b[39m \u001b[38;5;241m=\u001b[39m Param()\n",
      "File \u001b[1;32mc:\\Users\\jacki\\Documents\\GitHub\\k-exp\\kexp\\experiments\\Mloop testing\\integration\\lib.py:123\u001b[0m, in \u001b[0;36mCustomInterface.__init__\u001b[1;34m(self)\u001b[0m\n\u001b[0;32m    120\u001b[0m \u001b[38;5;28;01mdef\u001b[39;00m \u001b[38;5;21m__init__\u001b[39m(\u001b[38;5;28mself\u001b[39m):\n\u001b[0;32m    121\u001b[0m     \u001b[38;5;66;03m#You must include the super command to call the parent class, Interface, constructor \u001b[39;00m\n\u001b[0;32m    122\u001b[0m     \u001b[38;5;28msuper\u001b[39m(CustomInterface,\u001b[38;5;28mself\u001b[39m)\u001b[38;5;241m.\u001b[39m\u001b[38;5;21m__init__\u001b[39m()\n\u001b[1;32m--> 123\u001b[0m     eBuilder \u001b[38;5;241m=\u001b[39m \u001b[43mExptBuilder\u001b[49m\u001b[43m(\u001b[49m\u001b[43m)\u001b[49m\n",
      "File \u001b[1;32mc:\\Users\\jacki\\Documents\\GitHub\\k-exp\\kexp\\experiments\\Mloop testing\\integration\\lib.py:20\u001b[0m, in \u001b[0;36mExptBuilder.__init__\u001b[1;34m(self)\u001b[0m\n\u001b[0;32m     19\u001b[0m \u001b[38;5;28;01mdef\u001b[39;00m \u001b[38;5;21m__init__\u001b[39m(\u001b[38;5;28mself\u001b[39m):\n\u001b[1;32m---> 20\u001b[0m     \u001b[38;5;28mself\u001b[39m\u001b[38;5;241m.\u001b[39m__code_path__ \u001b[38;5;241m=\u001b[39m \u001b[43mos\u001b[49m\u001b[38;5;241m.\u001b[39menviron\u001b[38;5;241m.\u001b[39mget(\u001b[38;5;124m'\u001b[39m\u001b[38;5;124mcode\u001b[39m\u001b[38;5;124m'\u001b[39m)\n\u001b[0;32m     21\u001b[0m     \u001b[38;5;28mself\u001b[39m\u001b[38;5;241m.\u001b[39m__temp_exp_path__ \u001b[38;5;241m=\u001b[39m os\u001b[38;5;241m.\u001b[39mpath\u001b[38;5;241m.\u001b[39mjoin(\u001b[38;5;28mself\u001b[39m\u001b[38;5;241m.\u001b[39m__code_path__, \u001b[38;5;124m\"\u001b[39m\u001b[38;5;124mk-exp\u001b[39m\u001b[38;5;124m\"\u001b[39m, \u001b[38;5;124m\"\u001b[39m\u001b[38;5;124mkexp\u001b[39m\u001b[38;5;124m\"\u001b[39m, \u001b[38;5;124m\"\u001b[39m\u001b[38;5;124mexperiments\u001b[39m\u001b[38;5;124m\"\u001b[39m, \u001b[38;5;124m\"\u001b[39m\u001b[38;5;124mml_expt.py\u001b[39m\u001b[38;5;124m\"\u001b[39m)\n",
      "\u001b[1;31mNameError\u001b[0m: name 'os' is not defined"
     ]
    }
   ],
   "source": [
    "def main():\n",
    "    #M-LOOP can be run with three commands\n",
    "    \n",
    "    #First create your interface\n",
    "    interface = lib.CustomInterface()\n",
    "    #Next create the controller. \n",
    "    #The controller must take the variables to be changed in the vars object\n",
    "    vars = Param()\n",
    "\n",
    "\n",
    "    controller = lib.mlc.create_controller(interface, \n",
    "                                       max_num_runs = 100,\n",
    "                                       target_cost = -100000000000,\n",
    "                                       num_params = 1, \n",
    "                                       min_boundary = [6.],\n",
    "                                       max_boundary = [14.])\n",
    "\n",
    "    #controller.optimize()\n",
    "\n",
    "main()"
   ]
  }
 ],
 "metadata": {
  "kernelspec": {
   "display_name": "Python 3",
   "language": "python",
   "name": "python3"
  },
  "language_info": {
   "codemirror_mode": {
    "name": "ipython",
    "version": 3
   },
   "file_extension": ".py",
   "mimetype": "text/x-python",
   "name": "python",
   "nbconvert_exporter": "python",
   "pygments_lexer": "ipython3",
   "version": "3.12.4"
  }
 },
 "nbformat": 4,
 "nbformat_minor": 2
}
