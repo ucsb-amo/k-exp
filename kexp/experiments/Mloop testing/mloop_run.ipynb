{
 "cells": [
  {
   "cell_type": "code",
   "execution_count": 2,
   "metadata": {},
   "outputs": [],
   "source": [
    "import vars \n",
    "import integration.lib as lib\n",
    "import os\n",
    "import numpy as np\n",
    "\n",
    "# from kexp.util.data.load_atomdata import load_atomdata\n",
    "# from kexp.analysis.plotting_1d import *\n",
    "\n",
    "\n"
   ]
  },
  {
   "cell_type": "code",
   "execution_count": 3,
   "metadata": {},
   "outputs": [],
   "source": [
    "var_names = ['detune_push',\n",
    "            'amp_push',\n",
    "            'detune_d2_c_2dmot',\n",
    "            'detune_d2_r_2dmot',\n",
    "            'amp_d2_c_2dmot',\n",
    "            'amp_d2_r_2dmot',\n",
    "            'v_2d_mot_current',\n",
    "            'detune_d2_c_mot',\n",
    "            'detune_d2_r_mot',\n",
    "            'amp_d2_c_mot',\n",
    "            'amp_d2_r_mot',\n",
    "            'i_mot']\n",
    "var_space = [[-5.4,0.6],\n",
    "             [0.01,0.2],\n",
    "             [-4.2,1.8],\n",
    "             [-5.4,0.6],\n",
    "             [0.01,0.2],\n",
    "             [0.01,0.2],\n",
    "             [0.5,5.],\n",
    "             [-5.4,0.6],\n",
    "             [-7.2,-1.2],\n",
    "             [0.01,0.2],\n",
    "             [0.01,0.2],\n",
    "             [15.,25.]]\n",
    "\n",
    "\n"
   ]
  },
  {
   "cell_type": "code",
   "execution_count": 4,
   "metadata": {},
   "outputs": [
    {
     "name": "stdout",
     "output_type": "stream",
     "text": [
      "INFO     M-LOOP version 3.3.4\n",
      "INFO     Optimization started.\n",
      "INFO     Run: 0 (training)\n",
      "INFO     params [-2.30248921  0.07111082 -3.66415846 -0.13130297  0.18926875  0.06227107\n",
      "  3.57915997  0.16016929 -2.85049412  0.02727023  0.11451217 18.83562291]\n",
      "WARNING  !!! Do not give the interrupt signal again !!! \n",
      " M-LOOP stopped with keyboard interupt or system exit. Please wait at least 1 minute for the threads to safely shut down. \n",
      " \n",
      "WARNING  Closing down controller.\n",
      "INFO     Machine learning learner did not provide best and/or all minima.\n"
     ]
    }
   ],
   "source": [
    "def main():\n",
    "    #M-LOOP can be run with three commands\n",
    "    \n",
    "    #First create your interface\n",
    "    interface = lib.CustomInterface(var_names)\n",
    "    #Next create the controller. \n",
    "    #The controller must take the variables to be changed in the vars object\n",
    "    #vars = Param()\n",
    "\n",
    "\n",
    "    controller = lib.mlc.create_controller(interface, \n",
    "                                       max_num_runs = 400,\n",
    "                                       target_cost = -109090000000,\n",
    "                                       num_params = len(var_names), \n",
    "                                       min_boundary = np.transpose(var_space)[0],\n",
    "                                       max_boundary = np.transpose(var_space)[1],\n",
    "                                       interface_file_type = 'txt',               #file types of *exp_input.mat* and *exp_output.mat*\n",
    "                                       controller_archive_file_type = 'txt',      #file type of the controller archive\n",
    "                                       learner_archive_file_type = 'txt')      #file type of the learner archive\n",
    "    controller.optimize()\n",
    "\n",
    "main()"
   ]
  },
  {
   "cell_type": "code",
   "execution_count": 4,
   "metadata": {},
   "outputs": [
    {
     "name": "stdout",
     "output_type": "stream",
     "text": [
      "\n",
      "                self.p.detune_push = -3.15221506\n",
      "                self.p.amp_push = 0.10830731\n",
      "                self.p.detune_d2_c_2dmot = -1.20206951\n",
      "                self.p.detune_d2_r_2dmot = -2.93364217\n",
      "                self.p.amp_d2_c_2dmot = 0.17977458\n",
      "                self.p.amp_d2_r_2dmot = 0.1727242\n",
      "                self.p.v_2d_mot_current = 1.96822209\n",
      "                self.p.detune_d2_c_mot = -1.59931595\n",
      "                self.p.detune_d2_r_mot = -3.91874333\n",
      "                self.p.amp_d2_c_mot = 0.2\n",
      "                self.p.amp_d2_r_mot = 0.09954919\n",
      "                self.p.i_mot = 17.40341653\n"
     ]
    }
   ],
   "source": [
    "def param_format(param_values,param_keys=var_names):\n",
    "    lines = \"\"\n",
    "    for i in range(len(param_keys)):\n",
    "            lines += f\"\"\"\n",
    "                self.p.{param_keys[i]} = {float(param_values[i])}\"\"\"\n",
    "    print(lines)\n",
    "\n",
    "param_format([-3.15221506,  0.10830731, -1.20206951, -2.93364217,  0.17977458,  0.1727242,\n",
    "  1.96822209, -1.59931595, -3.91874333,  0.2,         0.09954919, 17.40341653])"
   ]
  },
  {
   "cell_type": "code",
   "execution_count": 5,
   "metadata": {},
   "outputs": [
    {
     "name": "stdout",
     "output_type": "stream",
     "text": [
      "\n",
      "                self.p.detune_push = -2.4\n",
      "                self.p.amp_push = 0.13\n",
      "                self.p.detune_d2_c_2dmot = -1.2\n",
      "                self.p.detune_d2_r_2dmot = -2.4\n",
      "                self.p.amp_d2_c_2dmot = 0.188\n",
      "                self.p.amp_d2_r_2dmot = 0.188\n",
      "                self.p.v_2d_mot_current = 2.11\n",
      "                self.p.detune_d2_c_mot = -2.4\n",
      "                self.p.detune_d2_r_mot = -4.2\n",
      "                self.p.amp_d2_c_mot = 0.188\n",
      "                self.p.amp_d2_r_mot = 0.188\n",
      "                self.p.i_mot = 20.0\n"
     ]
    }
   ],
   "source": [
    "def print_default_params(param_keys=var_names):\n",
    "    from kexp.config import ExptParams\n",
    "    p = ExptParams()\n",
    "    lines = \"\"\n",
    "    for key in param_keys:\n",
    "            lines += f\"\"\"\n",
    "                self.p.{key} = {float(vars(p)[key])}\"\"\"\n",
    "    print(lines)\n",
    "print_default_params()"
   ]
  },
  {
   "cell_type": "code",
   "execution_count": 11,
   "metadata": {},
   "outputs": [
    {
     "name": "stdout",
     "output_type": "stream",
     "text": [
      "\n",
      "                self.p.detune_push ∈ [-5.4, 0.6]\n",
      "                self.p.amp_push ∈ [0.01, 0.2]\n",
      "                self.p.detune_d2_c_2dmot ∈ [-4.2, 1.8]\n",
      "                self.p.detune_d2_r_2dmot ∈ [-5.4, 0.6]\n",
      "                self.p.amp_d2_c_2dmot ∈ [0.01, 0.2]\n",
      "                self.p.amp_d2_r_2dmot ∈ [0.01, 0.2]\n",
      "                self.p.v_2d_mot_current ∈ [0.5, 5.0]\n",
      "                self.p.detune_d2_c_mot ∈ [-5.4, 0.6]\n",
      "                self.p.detune_d2_r_mot ∈ [-7.2, -1.2]\n",
      "                self.p.amp_d2_c_mot ∈ [0.01, 0.2]\n",
      "                self.p.amp_d2_r_mot ∈ [0.01, 0.2]\n",
      "                self.p.i_mot ∈ [15.0, 25.0]\n"
     ]
    }
   ],
   "source": [
    "def print_mloop_param_bounds(param_keys=var_names,param_bounds=var_space):\n",
    "    lines = \"\"\n",
    "    for i in range(len(param_keys)):\n",
    "            lines += f\"\"\"\n",
    "                self.p.{param_keys[i]} \\u2208 {var_space[i]}\"\"\"\n",
    "    print(lines)\n",
    "print_mloop_param_bounds()"
   ]
  },
  {
   "cell_type": "code",
   "execution_count": 52,
   "metadata": {},
   "outputs": [
    {
     "name": "stdout",
     "output_type": "stream",
     "text": [
      "\n",
      "                self.p.detune_push        ∈ [-5.4, 0.6]:     mloop = -3.152,   default = -2.400\n",
      "                self.p.amp_push           ∈ [0.01, 0.2]:     mloop = 0.108,    default = 0.130\n",
      "                self.p.detune_d2_c_2dmot  ∈ [-4.2, 1.8]:     mloop = -1.202,   default = -1.200\n",
      "                self.p.detune_d2_r_2dmot  ∈ [-5.4, 0.6]:     mloop = -2.934,   default = -2.400\n",
      "                self.p.amp_d2_c_2dmot     ∈ [0.01, 0.2]:     mloop = 0.180,    default = 0.188\n",
      "                self.p.amp_d2_r_2dmot     ∈ [0.01, 0.2]:     mloop = 0.173,    default = 0.188\n",
      "                self.p.v_2d_mot_current   ∈ [0.5, 5.0]:      mloop = 1.968,    default = 2.110\n",
      "                self.p.detune_d2_c_mot    ∈ [-5.4, 0.6]:     mloop = -1.599,   default = -2.400\n",
      "                self.p.detune_d2_r_mot    ∈ [-7.2, -1.2]:    mloop = -3.919,   default = -4.200\n",
      "                self.p.amp_d2_c_mot       ∈ [0.01, 0.2]:     mloop = 0.200,    default = 0.188\n",
      "                self.p.amp_d2_r_mot       ∈ [0.01, 0.2]:     mloop = 0.100,    default = 0.188\n",
      "                self.p.i_mot              ∈ [15.0, 25.0]:    mloop = 17.403,   default = 20.000\n"
     ]
    }
   ],
   "source": [
    "def print_param_report(mloop_params,param_keys=var_names,param_bounds=var_space):\n",
    "    from kexp.config import ExptParams\n",
    "    p = ExptParams()\n",
    "    lines = \"\"\n",
    "    for i in range(len(param_keys)):\n",
    "            line = []\n",
    "            line.append(f\"self.p.{param_keys[i]}\".ljust(25,' '))\n",
    "            line.append(f\" \\u2208 {var_space[i]}:\".ljust(20,' '))\n",
    "            line.append(f\"mloop = {mloop_params[i]:1.3f},   \".ljust(18,' '))\n",
    "            line.append(f\"default = {vars(p)[param_keys[i]]:1.3f}\".ljust(15,' '))\n",
    "            s = \"\"\n",
    "            for L in line:\n",
    "                s += L\n",
    "            lines += f\"\"\"\n",
    "                {s}\"\"\"\n",
    "    return lines\n",
    "lines = print_param_report([-3.15221506,  0.10830731, -1.20206951, -2.93364217,  0.17977458,  0.1727242,\n",
    "  1.96822209, -1.59931595, -3.91874333,  0.2,         0.09954919, 17.40341653])\n",
    "print(lines)"
   ]
  },
  {
   "cell_type": "code",
   "execution_count": 4,
   "metadata": {},
   "outputs": [],
   "source": [
    "#### uncomment this and run it if u wanna delete the logs\n",
    "\n",
    "\n",
    "# import os, shutil\n",
    "# # Specify the path of the file to be deleted\n",
    "# folder = r'C:\\Users\\bananas\\code\\k-exp\\kexp\\experiments\\Mloop testing\\M-LOOP_archives'\n",
    "# file_path_2 = r'C:\\Users\\bananas\\code\\k-exp\\kexp\\experiments\\Mloop testing\\M-LOOP_logs'\n",
    "\n",
    "# for filename in os.listdir(folder):\n",
    "#     file_path = os.path.join(folder, filename)\n",
    "#     try:\n",
    "#         if os.path.isfile(file_path) or os.path.islink(file_path):\n",
    "#             os.unlink(file_path)\n",
    "#         elif os.path.isdir(file_path):\n",
    "#             shutil.rmtree(file_path)\n",
    "#     except Exception as e:\n",
    "#         print('Failed to delete %s. Reason: %s' % (file_path, e))\n",
    "\n",
    "# for filename in os.listdir(file_path_2):\n",
    "#     file_path = os.path.join(folder, filename)\n",
    "#     try:\n",
    "#         if os.path.isfile(file_path) or os.path.islink(file_path):\n",
    "#             os.unlink(file_path)\n",
    "#         elif os.path.isdir(file_path):\n",
    "#             shutil.rmtree(file_path)\n",
    "#     except Exception as e:\n",
    "#         print('Failed to delete %s. Reason: %s' % (file_path, e))"
   ]
  }
 ],
 "metadata": {
  "kernelspec": {
   "display_name": "Python 3",
   "language": "python",
   "name": "python3"
  },
  "language_info": {
   "codemirror_mode": {
    "name": "ipython",
    "version": 3
   },
   "file_extension": ".py",
   "mimetype": "text/x-python",
   "name": "python",
   "nbconvert_exporter": "python",
   "pygments_lexer": "ipython3",
   "version": "3.10.11"
  }
 },
 "nbformat": 4,
 "nbformat_minor": 2
}
