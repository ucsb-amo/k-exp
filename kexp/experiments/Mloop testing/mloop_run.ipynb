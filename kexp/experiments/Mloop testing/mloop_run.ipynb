{
 "cells": [
  {
   "cell_type": "code",
   "execution_count": 5,
   "metadata": {},
   "outputs": [],
   "source": [
    "import vars \n",
    "import integration.lib as lib\n",
    "import os\n",
    "import numpy as np\n",
    "\n",
    "# from kexp.util.data.load_atomdata import load_atomdata\n",
    "# from kexp.analysis.plotting_1d import *\n",
    "\n",
    "\n"
   ]
  },
  {
   "cell_type": "code",
   "execution_count": 6,
   "metadata": {},
   "outputs": [],
   "source": [
    "var_names = ['detune_push',\n",
    "            'amp_push',\n",
    "            'detune_d2_c_2dmot',\n",
    "            'detune_d2_r_2dmot',\n",
    "            'amp_d2_c_2dmot',\n",
    "            'amp_d2_r_2dmot',\n",
    "            'v_2d_mot_current',\n",
    "            'detune_d2_c_mot',\n",
    "            'detune_d2_r_mot',\n",
    "            'amp_d2_c_mot',\n",
    "            'amp_d2_r_mot',\n",
    "            'i_mot']\n",
    "var_space = [[-5.4,0.6],\n",
    "             [0.01,0.2],\n",
    "             [-4.2,1.8],\n",
    "             [-5.4,0.6],\n",
    "             [0.01,0.2],\n",
    "             [0.01,0.2],\n",
    "             [0.5,5.],\n",
    "             [-5.4,0.6],\n",
    "             [-7.2,-1.2],\n",
    "             [0.01,0.2],\n",
    "             [0.01,0.2],\n",
    "             [15.,25.]]"
   ]
  },
  {
   "cell_type": "code",
   "execution_count": 7,
   "metadata": {},
   "outputs": [],
   "source": [
    "def main():\n",
    "    #M-LOOP can be run with three commands\n",
    "    \n",
    "    #First create your interface\n",
    "    interface = lib.CustomInterface(var_names)\n",
    "    #Next create the controller. \n",
    "    #The controller must take the variables to be changed in the vars object\n",
    "    #vars = Param()\n",
    "\n",
    "\n",
    "    controller = lib.mlc.create_controller(interface, \n",
    "                                       max_num_runs = 10000,\n",
    "                                       target_cost = -109090000000,\n",
    "                                       num_params = len(var_names), \n",
    "                                       min_boundary = np.transpose(var_space)[0],\n",
    "                                       max_boundary = np.transpose(var_space)[1],\n",
    "                                       interface_file_type = 'txt',               #file types of *exp_input.mat* and *exp_output.mat*\n",
    "                                       controller_archive_file_type = 'txt',      #file type of the controller archive\n",
    "                                       learner_archive_file_type = 'txt')      #file type of the learner archive\n",
    "    controller.optimize()\n",
    "\n",
    "main()"
   ]
  },
  {
   "cell_type": "code",
   "execution_count": 15,
   "metadata": {},
   "outputs": [],
   "source": [
    "# import os, shutil\n",
    "# # Specify the path of the file to be deleted\n",
    "# folder = r'C:\\Users\\bananas\\code\\k-exp\\kexp\\experiments\\Mloop testing\\M-LOOP_archives'\n",
    "# file_path_2 = r'C:\\Users\\bananas\\code\\k-exp\\kexp\\experiments\\Mloop testing\\M-LOOP_logs'\n",
    "\n",
    "# for filename in os.listdir(folder):\n",
    "#     file_path = os.path.join(folder, filename)\n",
    "#     try:\n",
    "#         if os.path.isfile(file_path) or os.path.islink(file_path):\n",
    "#             os.unlink(file_path)\n",
    "#         elif os.path.isdir(file_path):\n",
    "#             shutil.rmtree(file_path)\n",
    "#     except Exception as e:\n",
    "#         print('Failed to delete %s. Reason: %s' % (file_path, e))\n",
    "\n",
    "# for filename in os.listdir(file_path_2):\n",
    "#     file_path = os.path.join(folder, filename)\n",
    "#     try:\n",
    "#         if os.path.isfile(file_path) or os.path.islink(file_path):\n",
    "#             os.unlink(file_path)\n",
    "#         elif os.path.isdir(file_path):\n",
    "#             shutil.rmtree(file_path)\n",
    "#     except Exception as e:\n",
    "#         print('Failed to delete %s. Reason: %s' % (file_path, e))"
   ]
  }
 ],
 "metadata": {
  "kernelspec": {
   "display_name": "Python 3",
   "language": "python",
   "name": "python3"
  },
  "language_info": {
   "codemirror_mode": {
    "name": "ipython",
    "version": 3
   },
   "file_extension": ".py",
   "mimetype": "text/x-python",
   "name": "python",
   "nbconvert_exporter": "python",
   "pygments_lexer": "ipython3",
   "version": "3.10.11"
  }
 },
 "nbformat": 4,
 "nbformat_minor": 2
}
