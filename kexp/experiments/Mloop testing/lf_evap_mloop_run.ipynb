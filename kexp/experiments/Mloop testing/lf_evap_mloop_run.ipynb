{
 "cells": [
  {
   "cell_type": "code",
   "execution_count": 11,
   "metadata": {},
   "outputs": [],
   "source": [
    "# import vars \n",
    "import integration.lf_exp as lib\n",
    "import os\n",
    "import numpy as np\n",
    "\n",
    "# from kexp.util.data.load_atomdata import load_atomdata\n",
    "# from kexp.analysis.plotting_1d import *"
   ]
  },
  {
   "cell_type": "code",
   "execution_count": 12,
   "metadata": {},
   "outputs": [
    {
     "name": "stdout",
     "output_type": "stream",
     "text": [
      "9\n"
     ]
    }
   ],
   "source": [
    "#create dictionary of each variable to include in the parameter space, its range of values and an initial value\n",
    "var_dict = {\n",
    "    'i_lf_tweezer_load_current': {\n",
    "        'range': [12.0, 16.0], \n",
    "        'initial': 13.9},\n",
    "    'v_pd_lf_tweezer_1064_ramp_end': {\n",
    "        'range': [5.0, 9.3], \n",
    "        'initial': 9.3},\n",
    "    'v_lf_tweezer_paint_amp_max': {\n",
    "        'range': [-4.0, 3.0], \n",
    "        'initial': -.9},\n",
    "    'i_lf_tweezer_evap1_current': {\n",
    "        'range': [12.0, 14.5], \n",
    "        'initial': 12.7},\n",
    "    'v_pd_lf_tweezer_1064_rampdown_end': {\n",
    "        'range': [0.35, 3.0], \n",
    "        'initial': 0.84},\n",
    "    't_lf_tweezer_1064_rampdown': {\n",
    "        'range': [0.02, 0.4], \n",
    "        'initial': 0.189},\n",
    "    'i_lf_tweezer_evap2_current': {\n",
    "        'range': [12.0, 14.], \n",
    "        'initial': 12.7},\n",
    "    'v_pd_lf_tweezer_1064_rampdown2_end': {\n",
    "        'range': [0.05, 0.25], \n",
    "        'initial': 0.15},\n",
    "    't_lf_tweezer_1064_rampdown2': {\n",
    "        'range': [0.1, 1.0], \n",
    "        'initial': 0.4}\n",
    "}\n",
    "print(len(var_dict))"
   ]
  },
  {
   "cell_type": "code",
   "execution_count": 13,
   "metadata": {},
   "outputs": [
    {
     "name": "stdout",
     "output_type": "stream",
     "text": [
      "[13.9, 9.3, -0.9, 12.7, 0.84, 0.189, 12.7, 0.15, 0.4]\n",
      "[[12.0, 16.0], [5.0, 9.3], [-4.0, 3.0], [12.0, 14.5], [0.35, 3.0], [0.02, 0.4], [12.0, 14.0], [0.05, 0.25], [0.1, 1.0]]\n"
     ]
    }
   ],
   "source": [
    "# generate lists of parameter ranges and initial values to feed to MLOOP controller\n",
    "\n",
    "init_params = [entry['initial'] for entry in var_dict.values()]\n",
    "print(init_params)\n",
    "\n",
    "ranges = [entry['range'] for entry in var_dict.values()]\n",
    "print(ranges)"
   ]
  },
  {
   "cell_type": "code",
   "execution_count": 14,
   "metadata": {},
   "outputs": [
    {
     "name": "stdout",
     "output_type": "stream",
     "text": [
      "                        Variable Name  Default Value  Minimum Range Value  \\\n",
      "0           i_lf_tweezer_load_current          13.90                13.00   \n",
      "1       v_pd_lf_tweezer_1064_ramp_end           9.00                 5.00   \n",
      "2          v_lf_tweezer_paint_amp_max          -0.50                -3.00   \n",
      "3          i_lf_tweezer_evap1_current          13.00                11.00   \n",
      "4   v_pd_lf_tweezer_1064_rampdown_end           1.40                 0.35   \n",
      "5          t_lf_tweezer_1064_rampdown           0.22                 0.02   \n",
      "6          i_lf_tweezer_evap2_current          13.10                11.00   \n",
      "7  v_pd_lf_tweezer_1064_rampdown2_end           0.14                 0.06   \n",
      "8         t_lf_tweezer_1064_rampdown2           0.50                 0.10   \n",
      "\n",
      "   Maximum Range Value  \n",
      "0                18.00  \n",
      "1                 9.30  \n",
      "2                 3.00  \n",
      "3                14.00  \n",
      "4                 3.00  \n",
      "5                 0.40  \n",
      "6                14.00  \n",
      "7                 0.25  \n",
      "8                 1.00  \n"
     ]
    }
   ],
   "source": [
    "#make table for vars\n",
    "import pandas as pd\n",
    "\n",
    "\n",
    "from kexp.config import expt_params\n",
    "\n",
    "# Create an instance of the class\n",
    "example_instance = expt_params.ExptParams()\n",
    "\n",
    "# Prepare data for the table\n",
    "data = []\n",
    "for i, name in enumerate(var_names):\n",
    "    default_value = getattr(example_instance, name, None)\n",
    "    min_range, max_range = var_space[i]\n",
    "    data.append([name, default_value, min_range, max_range])\n",
    "\n",
    "# Create a DataFrame\n",
    "df = pd.DataFrame(data, columns=[\"Variable Name\", \"Default Value\", \"Minimum Range Value\", \"Maximum Range Value\"])\n",
    "\n",
    "# Print the DataFrame\n",
    "print(df)\n",
    "\n"
   ]
  },
  {
   "cell_type": "code",
   "execution_count": 15,
   "metadata": {},
   "outputs": [
    {
     "name": "stdout",
     "output_type": "stream",
     "text": [
      "INFO     M-LOOP version 3.3.4\n",
      "INFO     Optimization started.\n",
      "INFO     Run: 0 (training)\n",
      "INFO     params [13.9    9.3   -0.9   12.7    0.84   0.189 12.7    0.15   0.4  ]\n",
      "0 Run id: 37964\n",
      " 1 values of dummy. 1 total shots. 3 total images expected.\n",
      "andor\n",
      " <synthesized>:1:1-1:68: error: host object does not have an attribute 'v_pd_lightsheet_rampdown2_end'; did you mean 'v_pd_lightsheet_rampdown3_end'?\n",
      "`<kexp.config.expt_params.ExptParams object at 0x000001C257AFD7B0>`\n",
      "^^^^^^^^^^^^^^^^^^^^^^^^^^^^^^^^^^^^^^^^^^^^^^^^^^^^^^^^^^^^^^^^^^^\n",
      "C:\\Users\\jarjarbinks\\code\\k-exp\\kexp\\experiments\\ml_expt.py:121:1: note: expanded from here\n",
      "def run(self):\n",
      "^             \n",
      "C:\\Users\\jarjarbinks\\code\\k-exp\\kexp\\experiments\\ml_expt.py:85:35-85:71: note: attribute accessed here\n",
      "                            v_end=self.p.v_pd_lightsheet_rampdown2_end)\n",
      "                                  ^^^^^^^^^^^^^^^^^^^^^^^^^^^^^^^^^^^^ \n",
      "\n",
      "ROI loaded from run 37963.\n",
      "Saved ROI was found, but is being overridden.\n",
      "ROI specified by Run ID. Attempting to load ROI...\n",
      "ROI loaded from run 28073.\n",
      "Using ROI loaded from run 28073.\n",
      "-67.42592247936543\n",
      "INFO     cost -67.42592247936543 +/- 10.0\n",
      "INFO     Run: 1 (training)\n",
      "INFO     params [14.47886029  5.01739297 -0.22394036 12.6865383   1.82400085  0.105391\n",
      " 13.41260877  0.14532682  0.54274533]\n",
      "0 Run id: 37964\n",
      " 1 values of dummy. 1 total shots. 3 total images expected.\n",
      "andor\n",
      " <synthesized>:1:1-1:68: error: host object does not have an attribute 'v_pd_lightsheet_rampdown2_end'; did you mean 'v_pd_lightsheet_rampdown3_end'?\n",
      "`<kexp.config.expt_params.ExptParams object at 0x000001EB22B00CD0>`\n",
      "^^^^^^^^^^^^^^^^^^^^^^^^^^^^^^^^^^^^^^^^^^^^^^^^^^^^^^^^^^^^^^^^^^^\n",
      "C:\\Users\\jarjarbinks\\code\\k-exp\\kexp\\experiments\\ml_expt.py:121:1: note: expanded from here\n",
      "def run(self):\n",
      "^             \n",
      "C:\\Users\\jarjarbinks\\code\\k-exp\\kexp\\experiments\\ml_expt.py:85:35-85:71: note: attribute accessed here\n",
      "                            v_end=self.p.v_pd_lightsheet_rampdown2_end)\n",
      "                                  ^^^^^^^^^^^^^^^^^^^^^^^^^^^^^^^^^^^^ \n",
      "\n",
      "There are two data files with run ID 37964. Choosing the more recent one.\n",
      "ERROR    The interface raised an error with traceback:\n",
      "  File \"c:\\Users\\jarjarbinks\\.venv\\kpy\\lib\\site-packages\\mloop\\interfaces.py\", line 133, in run\n",
      "    cost_dict = self.get_next_cost_dict(params_dict)\n",
      "\n",
      "  File \"c:\\Users\\jarjarbinks\\code\\k-exp\\kexp\\experiments\\Mloop testing\\integration\\lf_exp.py\", line 256, in get_next_cost_dict\n",
      "    cost = getCost()\n",
      "\n",
      "  File \"c:\\Users\\jarjarbinks\\code\\k-exp\\kexp\\experiments\\Mloop testing\\integration\\lf_exp.py\", line 32, in getCost\n",
      "    atomnumber = getAtomNumber()\n",
      "\n",
      "  File \"c:\\Users\\jarjarbinks\\code\\k-exp\\kexp\\experiments\\Mloop testing\\integration\\lf_exp.py\", line 25, in getAtomNumber\n",
      "    ad = load_atomdata(0,37963)\n",
      "\n",
      "  File \"c:\\users\\jarjarbinks\\code\\k-exp\\kexp\\util\\data\\load_atomdata.py\", line 42, in load_atomdata\n",
      "    ad = atomdata(idx,roi_id,path,\n",
      "\n",
      "  File \"c:\\users\\jarjarbinks\\code\\k-exp\\kexp\\analysis\\atomdata.py\", line 101, in __init__\n",
      "    self._load_data(idx,path,lite)\n",
      "\n",
      "  File \"c:\\users\\jarjarbinks\\code\\k-exp\\kexp\\analysis\\atomdata.py\", line 665, in _load_data\n",
      "    self.xvars = self._unpack_xvars()\n",
      "\n",
      "  File \"c:\\users\\jarjarbinks\\code\\k-exp\\kexp\\analysis\\atomdata.py\", line 570, in _unpack_xvars\n",
      "    self.xvardims[i] = np.int32(len(xvars[i]))\n",
      "\n",
      "WARNING  Controller ended due to exception of some kind. Starting shut down...\n"
     ]
    },
    {
     "ename": "KeyboardInterrupt",
     "evalue": "",
     "output_type": "error",
     "traceback": [
      "\u001b[1;31m---------------------------------------------------------------------------\u001b[0m",
      "\u001b[1;31mEmpty\u001b[0m                                     Traceback (most recent call last)",
      "File \u001b[1;32mc:\\Users\\jarjarbinks\\.venv\\kpy\\lib\\site-packages\\mloop\\controllers.py:498\u001b[0m, in \u001b[0;36mController._get_cost_and_in_dict\u001b[1;34m(self)\u001b[0m\n\u001b[0;32m    497\u001b[0m \u001b[38;5;28;01mtry\u001b[39;00m:\n\u001b[1;32m--> 498\u001b[0m     in_dict \u001b[38;5;241m=\u001b[39m \u001b[38;5;28;43mself\u001b[39;49m\u001b[38;5;241;43m.\u001b[39;49m\u001b[43mcosts_in_queue\u001b[49m\u001b[38;5;241;43m.\u001b[39;49m\u001b[43mget\u001b[49m\u001b[43m(\u001b[49m\u001b[38;5;28;43;01mTrue\u001b[39;49;00m\u001b[43m,\u001b[49m\u001b[43m \u001b[49m\u001b[38;5;28;43mself\u001b[39;49m\u001b[38;5;241;43m.\u001b[39;49m\u001b[43mcontroller_wait\u001b[49m\u001b[43m)\u001b[49m\n\u001b[0;32m    499\u001b[0m \u001b[38;5;28;01mexcept\u001b[39;00m mlu\u001b[38;5;241m.\u001b[39mempty_exception:\n\u001b[0;32m    500\u001b[0m     \u001b[38;5;66;03m# Check for an error from the interface.\u001b[39;00m\n",
      "File \u001b[1;32mC:\\Program Files\\WindowsApps\\PythonSoftwareFoundation.Python.3.10_3.10.3056.0_x64__qbz5n2kfra8p0\\lib\\multiprocessing\\queues.py:114\u001b[0m, in \u001b[0;36mQueue.get\u001b[1;34m(self, block, timeout)\u001b[0m\n\u001b[0;32m    113\u001b[0m     \u001b[38;5;28;01mif\u001b[39;00m \u001b[38;5;129;01mnot\u001b[39;00m \u001b[38;5;28mself\u001b[39m\u001b[38;5;241m.\u001b[39m_poll(timeout):\n\u001b[1;32m--> 114\u001b[0m         \u001b[38;5;28;01mraise\u001b[39;00m Empty\n\u001b[0;32m    115\u001b[0m \u001b[38;5;28;01melif\u001b[39;00m \u001b[38;5;129;01mnot\u001b[39;00m \u001b[38;5;28mself\u001b[39m\u001b[38;5;241m.\u001b[39m_poll():\n",
      "\u001b[1;31mEmpty\u001b[0m: ",
      "\nDuring handling of the above exception, another exception occurred:\n",
      "\u001b[1;31mTypeError\u001b[0m                                 Traceback (most recent call last)",
      "File \u001b[1;32mc:\\Users\\jarjarbinks\\.venv\\kpy\\lib\\site-packages\\mloop\\controllers.py:587\u001b[0m, in \u001b[0;36mController.optimize\u001b[1;34m(self)\u001b[0m\n\u001b[0;32m    586\u001b[0m \u001b[38;5;28mself\u001b[39m\u001b[38;5;241m.\u001b[39m_start_up()\n\u001b[1;32m--> 587\u001b[0m \u001b[38;5;28;43mself\u001b[39;49m\u001b[38;5;241;43m.\u001b[39;49m\u001b[43m_optimization_routine\u001b[49m\u001b[43m(\u001b[49m\u001b[43m)\u001b[49m\n\u001b[0;32m    588\u001b[0m log\u001b[38;5;241m.\u001b[39minfo(\u001b[38;5;124m'\u001b[39m\u001b[38;5;124mController finished. Closing down M-LOOP. Please wait a moment...\u001b[39m\u001b[38;5;124m'\u001b[39m)\n",
      "File \u001b[1;32mc:\\Users\\jarjarbinks\\.venv\\kpy\\lib\\site-packages\\mloop\\controllers.py:890\u001b[0m, in \u001b[0;36mMachineLearnerController._optimization_routine\u001b[1;34m(self)\u001b[0m\n\u001b[0;32m    889\u001b[0m     \u001b[38;5;28mself\u001b[39m\u001b[38;5;241m.\u001b[39msave_archive()\n\u001b[1;32m--> 890\u001b[0m     \u001b[38;5;28;43mself\u001b[39;49m\u001b[38;5;241;43m.\u001b[39;49m\u001b[43m_get_cost_and_in_dict\u001b[49m\u001b[43m(\u001b[49m\u001b[43m)\u001b[49m\n\u001b[0;32m    892\u001b[0m \u001b[38;5;28;01mif\u001b[39;00m \u001b[38;5;28mself\u001b[39m\u001b[38;5;241m.\u001b[39mcheck_end_conditions():\n\u001b[0;32m    893\u001b[0m     \u001b[38;5;66;03m#Start last training run\u001b[39;00m\n",
      "File \u001b[1;32mc:\\Users\\jarjarbinks\\.venv\\kpy\\lib\\site-packages\\mloop\\controllers.py:853\u001b[0m, in \u001b[0;36mMachineLearnerController._get_cost_and_in_dict\u001b[1;34m(self)\u001b[0m\n\u001b[0;32m    847\u001b[0m \u001b[38;5;250m\u001b[39m\u001b[38;5;124;03m'''\u001b[39;00m\n\u001b[0;32m    848\u001b[0m \u001b[38;5;124;03mGet cost, uncertainty, parameters, bad, and extra data from experiment.\u001b[39;00m\n\u001b[0;32m    849\u001b[0m \u001b[38;5;124;03m\u001b[39;00m\n\u001b[0;32m    850\u001b[0m \u001b[38;5;124;03mThis method calls `_get_cost_and_in_dict()` of the parent `Controller`\u001b[39;00m\n\u001b[0;32m    851\u001b[0m \u001b[38;5;124;03mclass and additionally sends the results to machine learning learner.\u001b[39;00m\n\u001b[0;32m    852\u001b[0m \u001b[38;5;124;03m'''\u001b[39;00m\n\u001b[1;32m--> 853\u001b[0m \u001b[38;5;28;43msuper\u001b[39;49m\u001b[43m(\u001b[49m\u001b[43mMachineLearnerController\u001b[49m\u001b[43m,\u001b[49m\u001b[38;5;28;43mself\u001b[39;49m\u001b[43m)\u001b[49m\u001b[38;5;241;43m.\u001b[39;49m\u001b[43m_get_cost_and_in_dict\u001b[49m\u001b[43m(\u001b[49m\u001b[43m)\u001b[49m\n\u001b[0;32m    854\u001b[0m \u001b[38;5;28mself\u001b[39m\u001b[38;5;241m.\u001b[39mml_learner_costs_queue\u001b[38;5;241m.\u001b[39mput((\u001b[38;5;28mself\u001b[39m\u001b[38;5;241m.\u001b[39mcurr_params,\n\u001b[0;32m    855\u001b[0m                                  \u001b[38;5;28mself\u001b[39m\u001b[38;5;241m.\u001b[39mcurr_cost,\n\u001b[0;32m    856\u001b[0m                                  \u001b[38;5;28mself\u001b[39m\u001b[38;5;241m.\u001b[39mcurr_uncer,\n\u001b[0;32m    857\u001b[0m                                  \u001b[38;5;28mself\u001b[39m\u001b[38;5;241m.\u001b[39mcurr_bad))\n",
      "File \u001b[1;32mc:\\Users\\jarjarbinks\\.venv\\kpy\\lib\\site-packages\\mloop\\controllers.py:514\u001b[0m, in \u001b[0;36mController._get_cost_and_in_dict\u001b[1;34m(self)\u001b[0m\n\u001b[0;32m    513\u001b[0m         \u001b[38;5;28mself\u001b[39m\u001b[38;5;241m.\u001b[39mlog\u001b[38;5;241m.\u001b[39merror(msg)\n\u001b[1;32m--> 514\u001b[0m         \u001b[38;5;28;01mraise\u001b[39;00m err\n\u001b[0;32m    515\u001b[0m \u001b[38;5;28;01melse\u001b[39;00m:\n\u001b[0;32m    516\u001b[0m     \u001b[38;5;66;03m# Got a cost dict, so exit this while loop.\u001b[39;00m\n",
      "File \u001b[1;32mc:\\Users\\jarjarbinks\\.venv\\kpy\\lib\\site-packages\\mloop\\interfaces.py:133\u001b[0m, in \u001b[0;36mInterface.run\u001b[1;34m(self)\u001b[0m\n\u001b[0;32m    132\u001b[0m \u001b[38;5;28;01mtry\u001b[39;00m:\n\u001b[1;32m--> 133\u001b[0m     cost_dict \u001b[38;5;241m=\u001b[39m \u001b[38;5;28;43mself\u001b[39;49m\u001b[38;5;241;43m.\u001b[39;49m\u001b[43mget_next_cost_dict\u001b[49m\u001b[43m(\u001b[49m\u001b[43mparams_dict\u001b[49m\u001b[43m)\u001b[49m\n\u001b[0;32m    134\u001b[0m \u001b[38;5;28;01mexcept\u001b[39;00m \u001b[38;5;167;01mException\u001b[39;00m \u001b[38;5;28;01mas\u001b[39;00m err:\n\u001b[0;32m    135\u001b[0m     \u001b[38;5;66;03m# Send the error to the controller and set the end event to shut\u001b[39;00m\n\u001b[0;32m    136\u001b[0m     \u001b[38;5;66;03m# down the interface. Setting the end event here and now\u001b[39;00m\n\u001b[0;32m    137\u001b[0m     \u001b[38;5;66;03m# prevents the interface from running another iteration when\u001b[39;00m\n\u001b[0;32m    138\u001b[0m     \u001b[38;5;66;03m# there are more items in self.params_out_queue already.\u001b[39;00m\n",
      "File \u001b[1;32mc:\\Users\\jarjarbinks\\code\\k-exp\\kexp\\experiments\\Mloop testing\\integration\\lf_exp.py:256\u001b[0m, in \u001b[0;36mCustomInterface.get_next_cost_dict\u001b[1;34m(self, params_dict)\u001b[0m\n\u001b[0;32m    255\u001b[0m \u001b[38;5;66;03m# cost = externalCostFunction.calcCost(params[0])\\\u001b[39;00m\n\u001b[1;32m--> 256\u001b[0m cost \u001b[38;5;241m=\u001b[39m \u001b[43mgetCost\u001b[49m\u001b[43m(\u001b[49m\u001b[43m)\u001b[49m\n\u001b[0;32m    257\u001b[0m \u001b[38;5;28mprint\u001b[39m(cost)\n",
      "File \u001b[1;32mc:\\Users\\jarjarbinks\\code\\k-exp\\kexp\\experiments\\Mloop testing\\integration\\lf_exp.py:32\u001b[0m, in \u001b[0;36mgetCost\u001b[1;34m()\u001b[0m\n\u001b[0;32m     31\u001b[0m \u001b[38;5;28;01mdef\u001b[39;00m \u001b[38;5;21mgetCost\u001b[39m():\n\u001b[1;32m---> 32\u001b[0m     atomnumber \u001b[38;5;241m=\u001b[39m \u001b[43mgetAtomNumber\u001b[49m\u001b[43m(\u001b[49m\u001b[43m)\u001b[49m\n\u001b[0;32m     33\u001b[0m     \u001b[38;5;28;01mreturn\u001b[39;00m \u001b[38;5;241m-\u001b[39m\u001b[38;5;241m1\u001b[39m\u001b[38;5;241m*\u001b[39matomnumber\n",
      "File \u001b[1;32mc:\\Users\\jarjarbinks\\code\\k-exp\\kexp\\experiments\\Mloop testing\\integration\\lf_exp.py:25\u001b[0m, in \u001b[0;36mgetAtomNumber\u001b[1;34m()\u001b[0m\n\u001b[0;32m     22\u001b[0m \u001b[38;5;28;01mdef\u001b[39;00m \u001b[38;5;21mgetAtomNumber\u001b[39m():\n\u001b[0;32m     23\u001b[0m \n\u001b[0;32m     24\u001b[0m         \u001b[38;5;66;03m#Load the data given a run id.\u001b[39;00m\n\u001b[1;32m---> 25\u001b[0m         ad \u001b[38;5;241m=\u001b[39m \u001b[43mload_atomdata\u001b[49m\u001b[43m(\u001b[49m\u001b[38;5;241;43m0\u001b[39;49m\u001b[43m,\u001b[49m\u001b[38;5;241;43m37963\u001b[39;49m\u001b[43m)\u001b[49m\n\u001b[0;32m     26\u001b[0m         \u001b[38;5;66;03m# peakDensity = findPeakOD(ad.od[0])\u001b[39;00m\n\u001b[0;32m     27\u001b[0m         \u001b[38;5;66;03m# print(peakDensity)\u001b[39;00m\n",
      "File \u001b[1;32mc:\\users\\jarjarbinks\\code\\k-exp\\kexp\\util\\data\\load_atomdata.py:42\u001b[0m, in \u001b[0;36mload_atomdata\u001b[1;34m(idx, roi_id, path, skip_saved_roi, transpose_idx, avg_repeats)\u001b[0m\n\u001b[0;32m      7\u001b[0m \u001b[38;5;250m\u001b[39m\u001b[38;5;124;03m'''\u001b[39;00m\n\u001b[0;32m      8\u001b[0m \u001b[38;5;124;03mReturns the atomdata stored in the `idx`th newest file at `path`.\u001b[39;00m\n\u001b[0;32m      9\u001b[0m \n\u001b[1;32m   (...)\u001b[0m\n\u001b[0;32m     39\u001b[0m \u001b[38;5;124;03mad: atomdata\u001b[39;00m\n\u001b[0;32m     40\u001b[0m \u001b[38;5;124;03m'''\u001b[39;00m\n\u001b[1;32m---> 42\u001b[0m ad \u001b[38;5;241m=\u001b[39m \u001b[43matomdata\u001b[49m\u001b[43m(\u001b[49m\u001b[43midx\u001b[49m\u001b[43m,\u001b[49m\u001b[43mroi_id\u001b[49m\u001b[43m,\u001b[49m\u001b[43mpath\u001b[49m\u001b[43m,\u001b[49m\n\u001b[0;32m     43\u001b[0m \u001b[43m              \u001b[49m\u001b[43mskip_saved_roi\u001b[49m\u001b[43m,\u001b[49m\n\u001b[0;32m     44\u001b[0m \u001b[43m              \u001b[49m\u001b[43mtranspose_idx\u001b[49m\u001b[43m,\u001b[49m\n\u001b[0;32m     45\u001b[0m \u001b[43m              \u001b[49m\u001b[43mavg_repeats\u001b[49m\u001b[43m)\u001b[49m\n\u001b[0;32m     46\u001b[0m \u001b[38;5;28;01mreturn\u001b[39;00m ad\n",
      "File \u001b[1;32mc:\\users\\jarjarbinks\\code\\k-exp\\kexp\\analysis\\atomdata.py:101\u001b[0m, in \u001b[0;36matomdata.__init__\u001b[1;34m(self, idx, roi_id, path, lite, skip_saved_roi, transpose_idx, avg_repeats)\u001b[0m\n\u001b[0;32m     99\u001b[0m \u001b[38;5;28mself\u001b[39m\u001b[38;5;241m.\u001b[39m_lite \u001b[38;5;241m=\u001b[39m lite\n\u001b[1;32m--> 101\u001b[0m \u001b[38;5;28;43mself\u001b[39;49m\u001b[38;5;241;43m.\u001b[39;49m\u001b[43m_load_data\u001b[49m\u001b[43m(\u001b[49m\u001b[43midx\u001b[49m\u001b[43m,\u001b[49m\u001b[43mpath\u001b[49m\u001b[43m,\u001b[49m\u001b[43mlite\u001b[49m\u001b[43m)\u001b[49m\n\u001b[0;32m    103\u001b[0m \u001b[38;5;66;03m### Helper objects\u001b[39;00m\n",
      "File \u001b[1;32mc:\\users\\jarjarbinks\\code\\k-exp\\kexp\\analysis\\atomdata.py:665\u001b[0m, in \u001b[0;36matomdata._load_data\u001b[1;34m(self, idx, path, lite)\u001b[0m\n\u001b[0;32m    664\u001b[0m \u001b[38;5;28mself\u001b[39m\u001b[38;5;241m.\u001b[39mxvarnames \u001b[38;5;241m=\u001b[39m f\u001b[38;5;241m.\u001b[39mattrs[\u001b[38;5;124m'\u001b[39m\u001b[38;5;124mxvarnames\u001b[39m\u001b[38;5;124m'\u001b[39m][()]\n\u001b[1;32m--> 665\u001b[0m \u001b[38;5;28mself\u001b[39m\u001b[38;5;241m.\u001b[39mxvars \u001b[38;5;241m=\u001b[39m \u001b[38;5;28;43mself\u001b[39;49m\u001b[38;5;241;43m.\u001b[39;49m\u001b[43m_unpack_xvars\u001b[49m\u001b[43m(\u001b[49m\u001b[43m)\u001b[49m\n\u001b[0;32m    666\u001b[0m \u001b[38;5;28;01mtry\u001b[39;00m:\n",
      "File \u001b[1;32mc:\\users\\jarjarbinks\\code\\k-exp\\kexp\\analysis\\atomdata.py:570\u001b[0m, in \u001b[0;36matomdata._unpack_xvars\u001b[1;34m(self)\u001b[0m\n\u001b[0;32m    569\u001b[0m \u001b[38;5;28;01mfor\u001b[39;00m i \u001b[38;5;129;01min\u001b[39;00m \u001b[38;5;28mrange\u001b[39m(\u001b[38;5;28mself\u001b[39m\u001b[38;5;241m.\u001b[39mNvars):\n\u001b[1;32m--> 570\u001b[0m     \u001b[38;5;28mself\u001b[39m\u001b[38;5;241m.\u001b[39mxvardims[i] \u001b[38;5;241m=\u001b[39m np\u001b[38;5;241m.\u001b[39mint32(\u001b[38;5;28;43mlen\u001b[39;49m\u001b[43m(\u001b[49m\u001b[43mxvars\u001b[49m\u001b[43m[\u001b[49m\u001b[43mi\u001b[49m\u001b[43m]\u001b[49m\u001b[43m)\u001b[49m)\n\u001b[0;32m    572\u001b[0m \u001b[38;5;28;01mreturn\u001b[39;00m xvars\n",
      "\u001b[1;31mTypeError\u001b[0m: object of type 'numpy.int32' has no len()",
      "\nDuring handling of the above exception, another exception occurred:\n",
      "\u001b[1;31mKeyboardInterrupt\u001b[0m                         Traceback (most recent call last)",
      "Cell \u001b[1;32mIn[15], line 24\u001b[0m\n\u001b[0;32m     11\u001b[0m     controller \u001b[38;5;241m=\u001b[39m lib\u001b[38;5;241m.\u001b[39mmlc\u001b[38;5;241m.\u001b[39mcreate_controller(interface, \n\u001b[0;32m     12\u001b[0m                                        controller_type \u001b[38;5;241m=\u001b[39m \u001b[38;5;124m'\u001b[39m\u001b[38;5;124mneural_net\u001b[39m\u001b[38;5;124m'\u001b[39m,\n\u001b[0;32m     13\u001b[0m                                        max_num_runs \u001b[38;5;241m=\u001b[39m \u001b[38;5;241m8000\u001b[39m,\n\u001b[1;32m   (...)\u001b[0m\n\u001b[0;32m     20\u001b[0m                                        controller_archive_file_type \u001b[38;5;241m=\u001b[39m \u001b[38;5;124m'\u001b[39m\u001b[38;5;124mtxt\u001b[39m\u001b[38;5;124m'\u001b[39m,      \u001b[38;5;66;03m#file type of the controller archive\u001b[39;00m\n\u001b[0;32m     21\u001b[0m                                        learner_archive_file_type \u001b[38;5;241m=\u001b[39m \u001b[38;5;124m'\u001b[39m\u001b[38;5;124mtxt\u001b[39m\u001b[38;5;124m'\u001b[39m)      \u001b[38;5;66;03m#file type of the learner archive\u001b[39;00m\n\u001b[0;32m     22\u001b[0m     controller\u001b[38;5;241m.\u001b[39moptimize()\n\u001b[1;32m---> 24\u001b[0m \u001b[43mmain\u001b[49m\u001b[43m(\u001b[49m\u001b[43m)\u001b[49m\n",
      "Cell \u001b[1;32mIn[15], line 22\u001b[0m, in \u001b[0;36mmain\u001b[1;34m()\u001b[0m\n\u001b[0;32m      6\u001b[0m \u001b[38;5;66;03m#Next create the controller. \u001b[39;00m\n\u001b[0;32m      7\u001b[0m \u001b[38;5;66;03m#The controller must take the variables to be changed in the vars object\u001b[39;00m\n\u001b[0;32m      8\u001b[0m \u001b[38;5;66;03m#vars = Param()\u001b[39;00m\n\u001b[0;32m     11\u001b[0m controller \u001b[38;5;241m=\u001b[39m lib\u001b[38;5;241m.\u001b[39mmlc\u001b[38;5;241m.\u001b[39mcreate_controller(interface, \n\u001b[0;32m     12\u001b[0m                                    controller_type \u001b[38;5;241m=\u001b[39m \u001b[38;5;124m'\u001b[39m\u001b[38;5;124mneural_net\u001b[39m\u001b[38;5;124m'\u001b[39m,\n\u001b[0;32m     13\u001b[0m                                    max_num_runs \u001b[38;5;241m=\u001b[39m \u001b[38;5;241m8000\u001b[39m,\n\u001b[1;32m   (...)\u001b[0m\n\u001b[0;32m     20\u001b[0m                                    controller_archive_file_type \u001b[38;5;241m=\u001b[39m \u001b[38;5;124m'\u001b[39m\u001b[38;5;124mtxt\u001b[39m\u001b[38;5;124m'\u001b[39m,      \u001b[38;5;66;03m#file type of the controller archive\u001b[39;00m\n\u001b[0;32m     21\u001b[0m                                    learner_archive_file_type \u001b[38;5;241m=\u001b[39m \u001b[38;5;124m'\u001b[39m\u001b[38;5;124mtxt\u001b[39m\u001b[38;5;124m'\u001b[39m)      \u001b[38;5;66;03m#file type of the learner archive\u001b[39;00m\n\u001b[1;32m---> 22\u001b[0m \u001b[43mcontroller\u001b[49m\u001b[38;5;241;43m.\u001b[39;49m\u001b[43moptimize\u001b[49m\u001b[43m(\u001b[49m\u001b[43m)\u001b[49m\n",
      "File \u001b[1;32mc:\\Users\\jarjarbinks\\.venv\\kpy\\lib\\site-packages\\mloop\\controllers.py:597\u001b[0m, in \u001b[0;36mController.optimize\u001b[1;34m(self)\u001b[0m\n\u001b[0;32m    595\u001b[0m \u001b[38;5;28mself\u001b[39m\u001b[38;5;241m.\u001b[39mlog\u001b[38;5;241m.\u001b[39mwarning(\u001b[38;5;124m'\u001b[39m\u001b[38;5;124mController ended due to exception of some kind. Starting shut down...\u001b[39m\u001b[38;5;124m'\u001b[39m)\n\u001b[0;32m    596\u001b[0m \u001b[38;5;28mself\u001b[39m\u001b[38;5;241m.\u001b[39mhalt_reasons\u001b[38;5;241m.\u001b[39mappend(\u001b[38;5;124m'\u001b[39m\u001b[38;5;124mError occurred.\u001b[39m\u001b[38;5;124m'\u001b[39m)\n\u001b[1;32m--> 597\u001b[0m \u001b[38;5;28;43mself\u001b[39;49m\u001b[38;5;241;43m.\u001b[39;49m\u001b[43m_shut_down\u001b[49m\u001b[43m(\u001b[49m\u001b[43m)\u001b[49m\n\u001b[0;32m    598\u001b[0m \u001b[38;5;28mself\u001b[39m\u001b[38;5;241m.\u001b[39mlog\u001b[38;5;241m.\u001b[39mwarning(\u001b[38;5;124m'\u001b[39m\u001b[38;5;124mSafely shut down. Below are results found before exception.\u001b[39m\u001b[38;5;124m'\u001b[39m)\n\u001b[0;32m    599\u001b[0m \u001b[38;5;28mself\u001b[39m\u001b[38;5;241m.\u001b[39mprint_results()\n",
      "File \u001b[1;32mc:\\Users\\jarjarbinks\\.venv\\kpy\\lib\\site-packages\\mloop\\controllers.py:949\u001b[0m, in \u001b[0;36mMachineLearnerController._shut_down\u001b[1;34m(self)\u001b[0m\n\u001b[0;32m    947\u001b[0m \u001b[38;5;28mself\u001b[39m\u001b[38;5;241m.\u001b[39mlog\u001b[38;5;241m.\u001b[39mdebug(\u001b[38;5;124m'\u001b[39m\u001b[38;5;124mML learner end set.\u001b[39m\u001b[38;5;124m'\u001b[39m)\n\u001b[0;32m    948\u001b[0m \u001b[38;5;28mself\u001b[39m\u001b[38;5;241m.\u001b[39mend_ml_learner\u001b[38;5;241m.\u001b[39mset()\n\u001b[1;32m--> 949\u001b[0m \u001b[38;5;28;43mself\u001b[39;49m\u001b[38;5;241;43m.\u001b[39;49m\u001b[43mml_learner\u001b[49m\u001b[38;5;241;43m.\u001b[39;49m\u001b[43mjoin\u001b[49m\u001b[43m(\u001b[49m\u001b[43m)\u001b[49m\n\u001b[0;32m    951\u001b[0m \u001b[38;5;28mself\u001b[39m\u001b[38;5;241m.\u001b[39mlog\u001b[38;5;241m.\u001b[39mdebug(\u001b[38;5;124m'\u001b[39m\u001b[38;5;124mML learner joined\u001b[39m\u001b[38;5;124m'\u001b[39m)\n\u001b[0;32m    952\u001b[0m last_dict \u001b[38;5;241m=\u001b[39m \u001b[38;5;28;01mNone\u001b[39;00m\n",
      "File \u001b[1;32mC:\\Program Files\\WindowsApps\\PythonSoftwareFoundation.Python.3.10_3.10.3056.0_x64__qbz5n2kfra8p0\\lib\\multiprocessing\\process.py:149\u001b[0m, in \u001b[0;36mBaseProcess.join\u001b[1;34m(self, timeout)\u001b[0m\n\u001b[0;32m    147\u001b[0m \u001b[38;5;28;01massert\u001b[39;00m \u001b[38;5;28mself\u001b[39m\u001b[38;5;241m.\u001b[39m_parent_pid \u001b[38;5;241m==\u001b[39m os\u001b[38;5;241m.\u001b[39mgetpid(), \u001b[38;5;124m'\u001b[39m\u001b[38;5;124mcan only join a child process\u001b[39m\u001b[38;5;124m'\u001b[39m\n\u001b[0;32m    148\u001b[0m \u001b[38;5;28;01massert\u001b[39;00m \u001b[38;5;28mself\u001b[39m\u001b[38;5;241m.\u001b[39m_popen \u001b[38;5;129;01mis\u001b[39;00m \u001b[38;5;129;01mnot\u001b[39;00m \u001b[38;5;28;01mNone\u001b[39;00m, \u001b[38;5;124m'\u001b[39m\u001b[38;5;124mcan only join a started process\u001b[39m\u001b[38;5;124m'\u001b[39m\n\u001b[1;32m--> 149\u001b[0m res \u001b[38;5;241m=\u001b[39m \u001b[38;5;28;43mself\u001b[39;49m\u001b[38;5;241;43m.\u001b[39;49m\u001b[43m_popen\u001b[49m\u001b[38;5;241;43m.\u001b[39;49m\u001b[43mwait\u001b[49m\u001b[43m(\u001b[49m\u001b[43mtimeout\u001b[49m\u001b[43m)\u001b[49m\n\u001b[0;32m    150\u001b[0m \u001b[38;5;28;01mif\u001b[39;00m res \u001b[38;5;129;01mis\u001b[39;00m \u001b[38;5;129;01mnot\u001b[39;00m \u001b[38;5;28;01mNone\u001b[39;00m:\n\u001b[0;32m    151\u001b[0m     _children\u001b[38;5;241m.\u001b[39mdiscard(\u001b[38;5;28mself\u001b[39m)\n",
      "File \u001b[1;32mC:\\Program Files\\WindowsApps\\PythonSoftwareFoundation.Python.3.10_3.10.3056.0_x64__qbz5n2kfra8p0\\lib\\multiprocessing\\popen_spawn_win32.py:108\u001b[0m, in \u001b[0;36mPopen.wait\u001b[1;34m(self, timeout)\u001b[0m\n\u001b[0;32m    105\u001b[0m \u001b[38;5;28;01melse\u001b[39;00m:\n\u001b[0;32m    106\u001b[0m     msecs \u001b[38;5;241m=\u001b[39m \u001b[38;5;28mmax\u001b[39m(\u001b[38;5;241m0\u001b[39m, \u001b[38;5;28mint\u001b[39m(timeout \u001b[38;5;241m*\u001b[39m \u001b[38;5;241m1000\u001b[39m \u001b[38;5;241m+\u001b[39m \u001b[38;5;241m0.5\u001b[39m))\n\u001b[1;32m--> 108\u001b[0m res \u001b[38;5;241m=\u001b[39m \u001b[43m_winapi\u001b[49m\u001b[38;5;241;43m.\u001b[39;49m\u001b[43mWaitForSingleObject\u001b[49m\u001b[43m(\u001b[49m\u001b[38;5;28;43mint\u001b[39;49m\u001b[43m(\u001b[49m\u001b[38;5;28;43mself\u001b[39;49m\u001b[38;5;241;43m.\u001b[39;49m\u001b[43m_handle\u001b[49m\u001b[43m)\u001b[49m\u001b[43m,\u001b[49m\u001b[43m \u001b[49m\u001b[43mmsecs\u001b[49m\u001b[43m)\u001b[49m\n\u001b[0;32m    109\u001b[0m \u001b[38;5;28;01mif\u001b[39;00m res \u001b[38;5;241m==\u001b[39m _winapi\u001b[38;5;241m.\u001b[39mWAIT_OBJECT_0:\n\u001b[0;32m    110\u001b[0m     code \u001b[38;5;241m=\u001b[39m _winapi\u001b[38;5;241m.\u001b[39mGetExitCodeProcess(\u001b[38;5;28mself\u001b[39m\u001b[38;5;241m.\u001b[39m_handle)\n",
      "\u001b[1;31mKeyboardInterrupt\u001b[0m: "
     ]
    }
   ],
   "source": [
    "def main():\n",
    "    #M-LOOP can be run with three commands\n",
    "    \n",
    "    #First create your interface\n",
    "    interface = lib.CustomInterface(var_names)\n",
    "    #Next create the controller. \n",
    "    #The controller must take the variables to be changed in the vars object\n",
    "    #vars = Param()\n",
    "\n",
    "\n",
    "    controller = lib.mlc.create_controller(interface, \n",
    "                                       controller_type = 'neural_net',\n",
    "                                       max_num_runs = 8000,\n",
    "                                       target_cost = -109090000000,\n",
    "                                       num_params = len(var_dict),\n",
    "                                       first_params = init_params, \n",
    "                                       min_boundary = np.transpose(ranges)[0],\n",
    "                                       max_boundary = np.transpose(ranges)[1],\n",
    "                                       interface_file_type = 'txt',               #file types of *exp_input.mat* and *exp_output.mat*\n",
    "                                       controller_archive_file_type = 'txt',      #file type of the controller archive\n",
    "                                       learner_archive_file_type = 'txt')      #file type of the learner archive\n",
    "    controller.optimize()\n",
    "\n",
    "main()"
   ]
  },
  {
   "cell_type": "code",
   "execution_count": null,
   "metadata": {},
   "outputs": [
    {
     "name": "stdout",
     "output_type": "stream",
     "text": [
      "\n",
      "                self.p.detune_push = -3.15221506\n",
      "                self.p.amp_push = 0.10830731\n",
      "                self.p.detune_d2_c_2dmot = -1.20206951\n",
      "                self.p.detune_d2_r_2dmot = -2.93364217\n",
      "                self.p.amp_d2_c_2dmot = 0.17977458\n",
      "                self.p.amp_d2_r_2dmot = 0.1727242\n",
      "                self.p.v_2d_mot_current = 1.96822209\n",
      "                self.p.detune_d2_c_mot = -1.59931595\n",
      "                self.p.detune_d2_r_mot = -3.91874333\n",
      "                self.p.amp_d2_c_mot = 0.2\n",
      "                self.p.amp_d2_r_mot = 0.09954919\n",
      "                self.p.i_mot = 17.40341653\n"
     ]
    }
   ],
   "source": [
    "def param_format(param_values,param_keys=var_names):\n",
    "    lines = \"\"\n",
    "    for i in range(len(param_keys)):\n",
    "            lines += f\"\"\"\n",
    "                self.p.{param_keys[i]} = {float(param_values[i])}\"\"\"\n",
    "    print(lines)\n",
    "\n",
    "param_format([-3.15221506,  0.10830731, -1.20206951, -2.93364217,  0.17977458,  0.1727242,\n",
    "  1.96822209, -1.59931595, -3.91874333,  0.2,         0.09954919, 17.40341653])"
   ]
  },
  {
   "cell_type": "code",
   "execution_count": null,
   "metadata": {},
   "outputs": [
    {
     "name": "stdout",
     "output_type": "stream",
     "text": [
      "\n",
      "                self.p.detune_push = -2.4\n",
      "                self.p.amp_push = 0.13\n",
      "                self.p.detune_d2_c_2dmot = -1.2\n",
      "                self.p.detune_d2_r_2dmot = -2.4\n",
      "                self.p.amp_d2_c_2dmot = 0.188\n",
      "                self.p.amp_d2_r_2dmot = 0.188\n",
      "                self.p.v_2d_mot_current = 2.11\n",
      "                self.p.detune_d2_c_mot = -2.4\n",
      "                self.p.detune_d2_r_mot = -4.2\n",
      "                self.p.amp_d2_c_mot = 0.188\n",
      "                self.p.amp_d2_r_mot = 0.188\n",
      "                self.p.i_mot = 20.0\n"
     ]
    }
   ],
   "source": [
    "def print_default_params(param_keys=var_names):\n",
    "    from kexp.config import ExptParams\n",
    "    p = ExptParams()\n",
    "    lines = \"\"\n",
    "    for key in param_keys:\n",
    "            lines += f\"\"\"\n",
    "                self.p.{key} = {float(vars(p)[key])}\"\"\"\n",
    "    print(lines)\n",
    "print_default_params()"
   ]
  },
  {
   "cell_type": "code",
   "execution_count": null,
   "metadata": {},
   "outputs": [
    {
     "name": "stdout",
     "output_type": "stream",
     "text": [
      "\n",
      "                self.p.detune_push ∈ [-5.4, 0.6]\n",
      "                self.p.amp_push ∈ [0.01, 0.2]\n",
      "                self.p.detune_d2_c_2dmot ∈ [-4.2, 1.8]\n",
      "                self.p.detune_d2_r_2dmot ∈ [-5.4, 0.6]\n",
      "                self.p.amp_d2_c_2dmot ∈ [0.01, 0.2]\n",
      "                self.p.amp_d2_r_2dmot ∈ [0.01, 0.2]\n",
      "                self.p.v_2d_mot_current ∈ [0.5, 5.0]\n",
      "                self.p.detune_d2_c_mot ∈ [-5.4, 0.6]\n",
      "                self.p.detune_d2_r_mot ∈ [-7.2, -1.2]\n",
      "                self.p.amp_d2_c_mot ∈ [0.01, 0.2]\n",
      "                self.p.amp_d2_r_mot ∈ [0.01, 0.2]\n",
      "                self.p.i_mot ∈ [15.0, 25.0]\n"
     ]
    }
   ],
   "source": [
    "def print_mloop_param_bounds(param_keys=var_names,param_bounds=var_space):\n",
    "    lines = \"\"\n",
    "    for i in range(len(param_keys)):\n",
    "            lines += f\"\"\"\n",
    "                self.p.{param_keys[i]} \\u2208 {var_space[i]}\"\"\"\n",
    "    print(lines)\n",
    "print_mloop_param_bounds()"
   ]
  },
  {
   "cell_type": "code",
   "execution_count": null,
   "metadata": {},
   "outputs": [
    {
     "name": "stdout",
     "output_type": "stream",
     "text": [
      "\n",
      "                self.p.detune_push        ∈ [-5.4, 0.6]:     mloop = -3.152,   default = -2.400\n",
      "                self.p.amp_push           ∈ [0.01, 0.2]:     mloop = 0.108,    default = 0.130\n",
      "                self.p.detune_d2_c_2dmot  ∈ [-4.2, 1.8]:     mloop = -1.202,   default = -1.200\n",
      "                self.p.detune_d2_r_2dmot  ∈ [-5.4, 0.6]:     mloop = -2.934,   default = -2.400\n",
      "                self.p.amp_d2_c_2dmot     ∈ [0.01, 0.2]:     mloop = 0.180,    default = 0.188\n",
      "                self.p.amp_d2_r_2dmot     ∈ [0.01, 0.2]:     mloop = 0.173,    default = 0.188\n",
      "                self.p.v_2d_mot_current   ∈ [0.5, 5.0]:      mloop = 1.968,    default = 2.110\n",
      "                self.p.detune_d2_c_mot    ∈ [-5.4, 0.6]:     mloop = -1.599,   default = -2.400\n",
      "                self.p.detune_d2_r_mot    ∈ [-7.2, -1.2]:    mloop = -3.919,   default = -4.200\n",
      "                self.p.amp_d2_c_mot       ∈ [0.01, 0.2]:     mloop = 0.200,    default = 0.188\n",
      "                self.p.amp_d2_r_mot       ∈ [0.01, 0.2]:     mloop = 0.100,    default = 0.188\n",
      "                self.p.i_mot              ∈ [15.0, 25.0]:    mloop = 17.403,   default = 20.000\n"
     ]
    }
   ],
   "source": [
    "def print_param_report(mloop_params,param_keys=var_names,param_bounds=var_space):\n",
    "    from kexp.config import ExptParams\n",
    "    p = ExptParams()\n",
    "    lines = \"\"\n",
    "    for i in range(len(param_keys)):\n",
    "            line = []\n",
    "            line.append(f\"self.p.{param_keys[i]}\".ljust(25,' '))\n",
    "            line.append(f\" \\u2208 {var_space[i]}:\".ljust(20,' '))\n",
    "            line.append(f\"mloop = {mloop_params[i]:1.3f},   \".ljust(18,' '))\n",
    "            line.append(f\"default = {vars(p)[param_keys[i]]:1.3f}\".ljust(15,' '))\n",
    "            s = \"\"\n",
    "            for L in line:\n",
    "                s += L\n",
    "            lines += f\"\"\"\n",
    "                {s}\"\"\"\n",
    "    return lines\n",
    "lines = print_param_report([-3.15221506,  0.10830731, -1.20206951, -2.93364217,  0.17977458,  0.1727242,\n",
    "  1.96822209, -1.59931595, -3.91874333,  0.2,         0.09954919, 17.40341653])\n",
    "print(lines)"
   ]
  },
  {
   "cell_type": "code",
   "execution_count": null,
   "metadata": {},
   "outputs": [],
   "source": [
    "#### uncomment this and run it if u wanna delete the logs\n",
    "\n",
    "\n",
    "# import os, shutil\n",
    "# # Specify the path of the file to be deleted\n",
    "# folder = r'C:\\Users\\bananas\\code\\k-exp\\kexp\\experiments\\Mloop testing\\M-LOOP_archives'\n",
    "# file_path_2 = r'C:\\Users\\bananas\\code\\k-exp\\kexp\\experiments\\Mloop testing\\M-LOOP_logs'\n",
    "\n",
    "# for filename in os.listdir(folder):\n",
    "#     file_path = os.path.join(folder, filename)\n",
    "#     try:\n",
    "#         if os.path.isfile(file_path) or os.path.islink(file_path):\n",
    "#             os.unlink(file_path)\n",
    "#         elif os.path.isdir(file_path):\n",
    "#             shutil.rmtree(file_path)\n",
    "#     except Exception as e:\n",
    "#         print('Failed to delete %s. Reason: %s' % (file_path, e))\n",
    "\n",
    "# for filename in os.listdir(file_path_2):\n",
    "#     file_path = os.path.join(folder, filename)\n",
    "#     try:\n",
    "#         if os.path.isfile(file_path) or os.path.islink(file_path):\n",
    "#             os.unlink(file_path)\n",
    "#         elif os.path.isdir(file_path):\n",
    "#             shutil.rmtree(file_path)\n",
    "#     except Exception as e:\n",
    "#         print('Failed to delete %s. Reason: %s' % (file_path, e))"
   ]
  }
 ],
 "metadata": {
  "kernelspec": {
   "display_name": "kpy",
   "language": "python",
   "name": "python3"
  },
  "language_info": {
   "codemirror_mode": {
    "name": "ipython",
    "version": 3
   },
   "file_extension": ".py",
   "mimetype": "text/x-python",
   "name": "python",
   "nbconvert_exporter": "python",
   "pygments_lexer": "ipython3",
   "version": "3.10.11"
  }
 },
 "nbformat": 4,
 "nbformat_minor": 2
}
