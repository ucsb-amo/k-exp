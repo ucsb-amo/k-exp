{
 "cells": [
  {
   "cell_type": "code",
   "execution_count": 44,
   "metadata": {},
   "outputs": [
    {
     "name": "stderr",
     "output_type": "stream",
     "text": [
      "Exception ignored in: <function Device.__del__ at 0x00000237FFF492D0>\n",
      "Traceback (most recent call last):\n",
      "  File \"c:\\Users\\bananas\\.venv\\kpy\\lib\\site-packages\\spcm\\classes_device.py\", line 78, in __del__\n",
      "    self.stop()\n",
      "  File \"c:\\Users\\bananas\\.venv\\kpy\\lib\\site-packages\\spcm\\classes_device.py\", line 321, in stop\n",
      "    self.cmd(M2CMD_CARD_STOP, *args)\n",
      "  File \"c:\\Users\\bananas\\.venv\\kpy\\lib\\site-packages\\spcm\\classes_device.py\", line 274, in cmd\n",
      "    self.set_i(SPC_M2CMD, cmd)\n",
      "  File \"c:\\Users\\bananas\\.venv\\kpy\\lib\\site-packages\\spcm\\classes_device.py\", line 440, in set_i\n",
      "    self._check_error(spcm_dwSetParam_i64(self._handle, register, value))\n",
      "  File \"c:\\Users\\bananas\\.venv\\kpy\\lib\\site-packages\\spcm\\pyspcm.py\", line 337, in spcm_dwSetParam_i64\n",
      "    return spcm_dwSetParam_i64_ (hDrv, lReg, llVal)\n",
      "OSError: [WinError -1073741816] Windows Error 0xc0000008\n",
      "Exception ignored in: <function Device.__del__ at 0x00000237FFF492D0>\n",
      "Traceback (most recent call last):\n",
      "  File \"c:\\Users\\bananas\\.venv\\kpy\\lib\\site-packages\\spcm\\classes_device.py\", line 78, in __del__\n",
      "    self.stop()\n",
      "  File \"c:\\Users\\bananas\\.venv\\kpy\\lib\\site-packages\\spcm\\classes_device.py\", line 321, in stop\n",
      "    self.cmd(M2CMD_CARD_STOP, *args)\n",
      "  File \"c:\\Users\\bananas\\.venv\\kpy\\lib\\site-packages\\spcm\\classes_device.py\", line 274, in cmd\n",
      "    self.set_i(SPC_M2CMD, cmd)\n",
      "  File \"c:\\Users\\bananas\\.venv\\kpy\\lib\\site-packages\\spcm\\classes_device.py\", line 440, in set_i\n",
      "    self._check_error(spcm_dwSetParam_i64(self._handle, register, value))\n",
      "  File \"c:\\Users\\bananas\\.venv\\kpy\\lib\\site-packages\\spcm\\pyspcm.py\", line 337, in spcm_dwSetParam_i64\n",
      "    return spcm_dwSetParam_i64_ (hDrv, lReg, llVal)\n",
      "OSError: [WinError -1073741816] Windows Error 0xc0000008\n"
     ]
    }
   ],
   "source": [
    "import spcm\n",
    "from spcm import units\n",
    "import numpy as np\n",
    "\n",
    "# card : spcm.Card\n",
    "\n",
    "ip = 'TCPIP::192.168.1.83::INSTR'\n",
    "\n",
    "card = spcm.Card(ip)\n",
    "\n",
    "card.open(ip)\n",
    "\n",
    "# setup card for DDS\n",
    "card.card_mode(spcm.SPC_REP_STD_DDS)\n",
    "\n",
    "# Setup the channels\n",
    "channels = spcm.Channels(card)\n",
    "channels.enable(True)\n",
    "channels.output_load(50 * units.ohm)\n",
    "channels.amp(1. * units.V)\n",
    "card.write_setup()\n",
    "\n",
    "# trigger mode\n",
    "trigger = spcm.Trigger(card)\n",
    "trigger.or_mask(spcm.SPC_TMASK_EXT0) # disable default software trigger\n",
    "trigger.ext0_mode(spcm.SPC_TM_POS) # positive edge\n",
    "trigger.ext0_level0(1.5 * units.V) # Trigger level is 1.5 V (1500 mV)\n",
    "trigger.ext0_coupling(spcm.COUPLING_DC) # set DC coupling\n",
    "card.write_setup()\n",
    "\n",
    "# Setup DDS functionality\n",
    "dds = spcm.DDS(card, channels=channels)\n",
    "dds.reset()\n",
    "\n",
    "# dds.data_transfer_mode(spcm.SPCM_DDS_DTM_DMA)\n",
    "\n",
    "dds.trg_src(spcm.SPCM_DDS_TRG_SRC_CARD)\n",
    "\n",
    "core_list = [hex(2**n) for n in range(20)]\n",
    "\n",
    "card.start(spcm.M2CMD_CARD_ENABLETRIGGER)"
   ]
  },
  {
   "cell_type": "code",
   "execution_count": null,
   "metadata": {},
   "outputs": [],
   "source": [
    "# dds[0].amp(.1)\n",
    "# dds[0].freq(75.e6)\n",
    "# dds.exec_at_trg()\n",
    "# dds.write_to_card()\n",
    "# dds.data_transfer_mode(spcm.SPCM_DDS_DTM_DMA)\n"
   ]
  },
  {
   "cell_type": "code",
   "execution_count": 45,
   "metadata": {},
   "outputs": [
    {
     "name": "stdout",
     "output_type": "stream",
     "text": [
      "[72500000. 73500000. 74500000. 75500000. 76500000.]\n"
     ]
    }
   ],
   "source": [
    "# set up a static tweezer array\n",
    "frequency_spacing = 1.e6\n",
    "n_tweezers = 5\n",
    "f_list = np.arange(75.e6 - n_tweezers*frequency_spacing/2,75.e6 + n_tweezers*frequency_spacing/2, frequency_spacing)\n",
    "print(f_list)\n",
    "a_list = [.1,.1,.1,.1,.1]\n",
    "\n",
    "for tweezer_idx in range(len(core_list)):\n",
    "    if tweezer_idx < len(f_list):\n",
    "        dds[tweezer_idx].amp(a_list[tweezer_idx])\n",
    "        dds[tweezer_idx].freq(f_list[tweezer_idx])\n",
    "    else:\n",
    "        dds[tweezer_idx].amp(0.)\n",
    "dds.exec_at_trg()\n",
    "dds.write_to_card()\n",
    "# dds.data_transfer_mode(spcm.SPCM_DDS_DTM_DMA)"
   ]
  },
  {
   "cell_type": "code",
   "execution_count": 47,
   "metadata": {},
   "outputs": [],
   "source": [
    "# fm the tweezer array for some amount of time, while simultaneously ramping down the modulation depth\n",
    "\n",
    "# how much time to fm?\n",
    "fm_time = 5.\n",
    "\n",
    "# modulation frequency and depth\n",
    "modulation_freq  = 1.\n",
    "modulation_depth = 2.e6\n",
    "\n",
    "# dummy variables to reflect experimental params\n",
    "initial_optical_power = 5.\n",
    "final_optical_power = 1.\n",
    "final_over_initial_optical_power = initial_optical_power / final_optical_power\n",
    "\n",
    "# rate at which to update awg frequency output (\"sample\" rate)\n",
    "period_s = 20.e-3\n",
    "\n",
    "# number of samples in a period\n",
    "num_samples = int(1/(period_s * modulation_freq))\n",
    "\n",
    "# total number of samples\n",
    "total_samples = fm_time / period_s\n",
    "\n",
    "# list of sample numbers (in ms)\n",
    "sample_range = np.arange(total_samples)*period_s\n",
    "\n",
    "# empty array to be filled with frequency values for each dds core\n",
    "freq_lists = np.empty([len(f_list),len(sample_range)])\n",
    "\n",
    "# compute and fill in the above array\n",
    "for i in range(len(f_list)):\n",
    "    freq_lists[i] = f_list[i] + modulation_depth * (1 - sample_range*(1 - final_over_initial_optical_power)/(total_samples*period_s))**(1/3) * np.sin(2*np.pi*sample_range*modulation_freq)\n",
    "\n",
    "# start trigger timer, which outputs trigger events at a given rate\n",
    "dds.trg_src(spcm.SPCM_DDS_TRG_SRC_TIMER)\n",
    "dds.trg_timer(period_s)\n",
    "dds.exec_at_trg()\n",
    "dds.write_to_card()\n",
    "\n",
    "# pre_fill the buffer\n",
    "fill_max = dds.queue_cmd_max()\n",
    "counter = 0\n",
    "for counter in range(len(sample_range)):\n",
    "    for tone_idx in range(np.shape(freq_lists)[0]):\n",
    "        freq_Hz = freq_lists[tone_idx][counter]\n",
    "        dds[tone_idx].freq(freq_Hz)\n",
    "    dds.exec_at_trg()\n",
    "dds.write_to_card()\n",
    "\n",
    "# reset trigger mode to external at the end of the fm time\n",
    "dds.trg_src(spcm.SPCM_DDS_TRG_SRC_CARD)\n",
    "dds.exec_at_trg()\n",
    "dds.write_to_card()\n"
   ]
  },
  {
   "cell_type": "code",
   "execution_count": 49,
   "metadata": {},
   "outputs": [
    {
     "name": "stdout",
     "output_type": "stream",
     "text": [
      "[73500000. 74500000. 75500000.]\n"
     ]
    }
   ],
   "source": [
    "# set up another static tweezer array\n",
    "frequency_spacing = 1.e6\n",
    "n_tweezers = 3\n",
    "f_list = np.arange(75.e6 - n_tweezers*frequency_spacing/2,75.e6 + n_tweezers*frequency_spacing/2, frequency_spacing)\n",
    "print(f_list)\n",
    "a_list = [.1,.1,.1]\n",
    "\n",
    "for tweezer_idx in range(len(core_list)):\n",
    "    if tweezer_idx < len(f_list):\n",
    "        dds[tweezer_idx].amp(a_list[tweezer_idx])\n",
    "        dds[tweezer_idx].freq(f_list[tweezer_idx])\n",
    "    else:\n",
    "        dds[tweezer_idx].amp(0.)\n",
    "dds.exec_at_trg()\n",
    "dds.write_to_card()"
   ]
  },
  {
   "cell_type": "code",
   "execution_count": 50,
   "metadata": {},
   "outputs": [],
   "source": [
    "# use this anytime you want to force a trigger event\n",
    "trigger.force()"
   ]
  },
  {
   "cell_type": "code",
   "execution_count": 51,
   "metadata": {},
   "outputs": [],
   "source": [
    "# card.close(card._handle)\n",
    "card.stop()\n",
    "\n",
    "card.close(card._handle)"
   ]
  }
 ],
 "metadata": {
  "kernelspec": {
   "display_name": "kpy",
   "language": "python",
   "name": "python3"
  },
  "language_info": {
   "codemirror_mode": {
    "name": "ipython",
    "version": 3
   },
   "file_extension": ".py",
   "mimetype": "text/x-python",
   "name": "python",
   "nbconvert_exporter": "python",
   "pygments_lexer": "ipython3",
   "version": "3.10.11"
  }
 },
 "nbformat": 4,
 "nbformat_minor": 2
}
