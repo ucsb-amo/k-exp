{
 "cells": [
  {
   "cell_type": "code",
   "execution_count": 16,
   "metadata": {},
   "outputs": [
    {
     "name": "stdout",
     "output_type": "stream",
     "text": [
      "2\n"
     ]
    }
   ],
   "source": [
    "import spcm\n",
    "from spcm import units\n",
    "import numpy as np\n",
    "\n",
    "# card : spcm.Card\n",
    "\n",
    "ip = 'TCPIP::192.168.1.83::INSTR'\n",
    "\n",
    "card = spcm.Card(ip)\n",
    "\n",
    "card.open(ip)\n",
    "\n",
    "# setup card for DDS\n",
    "card.card_mode(spcm.SPC_REP_STD_DDS)\n",
    "\n",
    "# Setup the channels\n",
    "channels = spcm.Channels(card)\n",
    "print(len(channels))\n",
    "channels.enable(True)\n",
    "channels.output_load(50 * units.ohm)\n",
    "channels.amp(.29 * units.V)\n",
    "card.write_setup()\n",
    "\n",
    "# trigger mode\n",
    "trigger = spcm.Trigger(card)\n",
    "trigger.or_mask(spcm.SPC_TMASK_EXT0) # disable default software trigger\n",
    "trigger.ext0_mode(spcm.SPC_TM_POS) # positive edge\n",
    "trigger.ext0_level0(1.5 * units.V) # Trigger level is 1.5 V (1500 mV)\n",
    "trigger.ext0_coupling(spcm.COUPLING_DC) # set DC coupling\n",
    "card.write_setup()\n",
    "\n",
    "# Setup DDS functionality\n",
    "dds = spcm.DDS(card, channels=channels)\n",
    "dds.reset()\n",
    "\n",
    "dds.trg_src(spcm.SPCM_DDS_TRG_SRC_CARD)\n",
    "\n",
    "core_list = [hex(2**n) for n in range(20)]\n",
    "\n",
    "# core_list = [spcm.SPCM_DDS_CORE8,  spcm.SPCM_DDS_CORE9,  spcm.SPCM_DDS_CORE10, spcm.SPCM_DDS_CORE11, spcm.SPCM_DDS_CORE20]\n",
    "\n",
    "# dds.cores_on_channel(1, *core_list)\n",
    "card.start(spcm.M2CMD_CARD_ENABLETRIGGER)"
   ]
  },
  {
   "cell_type": "code",
   "execution_count": 23,
   "metadata": {},
   "outputs": [
    {
     "data": {
      "text/plain": [
       "array([0.43, 0.5 ])"
      ]
     },
     "execution_count": 23,
     "metadata": {},
     "output_type": "execute_result"
    }
   ],
   "source": [
    "def split_array(f_split = 2.4e6, f_width_single_side = 4.e6, n_per_side = 4):\n",
    "    f_center = 74.8e6\n",
    "    # array1 = np.linspace( f_center-f_split/2-f_width_single_side ,f_center-f_split/2,n_per_side)\n",
    "    array1 = f_center - f_split/2 - np.linspace( f_width_single_side , 0. ,n_per_side)\n",
    "    # array2 = np.linspace( f_center+f_split/2+f_width_single_side ,f_center+f_split/2,n_per_side)\n",
    "    array2 = f_center + f_split/2 + np.linspace( 0. , f_width_single_side ,n_per_side)\n",
    "    # array1 = np.linspace(70.5e6,72.5e6,n)\n",
    "    # array2 = np.linspace(77.5e6,79.5e6,n)\n",
    "    return np.concatenate([array1,array2])\n",
    "\n",
    "def compute_tweezer_1064_phases(n_tweezers,amplitudes):\n",
    "    phase_tweezer_array = np.empty([n_tweezers])\n",
    "    for tweezer_idx in range(n_tweezers):\n",
    "        if tweezer_idx == 0:\n",
    "            phase_tweezer_array[0] = 360\n",
    "        else:\n",
    "            phase_ij = 0\n",
    "            for j in range(1,tweezer_idx):\n",
    "                phase_ij = phase_ij + 2*np.pi*(tweezer_idx - j)*amplitudes[tweezer_idx]\n",
    "            phase_i = (phase_ij % 2*np.pi) * 360\n",
    "            phase_tweezer_array[tweezer_idx] = phase_i\n",
    "    return phase_tweezer_array\n",
    "\n",
    "# f_list = split_array(f_split=2.4e6)\n",
    "# f_list = [76.e6,77.e6,78.e6,79.0e6,80.e6]\n",
    "# f_list = np.linspace(76.e6,80.e6,5)\n",
    "# f_list = np.linspace(76.e6,80.e6,4)\n",
    "f_list = [73.9e6,77.e6]\n",
    "# f_list = [70.98e6,79.16e6]\n",
    "# f_list = [75.5e6]\n",
    "# f_list = [76.e6,77.e6,78.e6,79.0e6,80.e6]\n",
    "# f_list1 = np.linspace(76.e6,79.e6,5)\n",
    "# f_list2 = np.linspace(71.e6,74.e6,5)\n",
    "# f_list = [72.e6, 76.e6, 80.e6]\n",
    "# f_list = np.concatenate([f_list1,f_list2])\n",
    "\n",
    "# f_list = [70.8e6]\n",
    "# a_list = [0.36393715]\n",
    "\n",
    "# f_list = [75.e6]\n",
    "# a_list = [0.99999]\n",
    "\n",
    "# f_list = [76.e6]\n",
    "# a_list = [0.19369715]\n",
    "\n",
    "# f_list = [80.e6]\n",
    "# a_list = [0.10826336]\n",
    "\n",
    "n_tweezers = len(f_list)\n",
    "\n",
    "# a_list1 = np.linspace(1/(2*(n_tweezers)),1/(2*(n_tweezers)),int(n_tweezers/2))\n",
    "# a_list2 = 2*a_list1\n",
    "\n",
    "# a_list = np.concatenate([a_list1,a_list2])\n",
    "# a_list = np.linspace(1/((n_tweezers)),1/((n_tweezers)),int(n_tweezers))\n",
    "# a_list = [.1,.1,.1,.05,.1,.35]\n",
    "# a_list = [0.22, 0.17, 0.15, 0.16, 0.17]\n",
    "a_list = [.43,.5]\n",
    "# a_list = [.76]\n",
    "# a_list = [.8,.65,.5,.18]\n",
    "# a_list = [0.22, 0.17, 0.15, 0.16, 0.17]\n",
    "# a_list = [0.2, 0.2, 0.2, 0.2, 0.2]\n",
    "# a_list = [0.3524204, 0.3235297, 0.18756762, 0.10483738]\n",
    "# a_list = [2 , 0.9258065, 0.31613, 0.46451613]\n",
    "\n",
    "f_list = np.array(f_list)\n",
    "a_list = np.array(a_list)\n",
    "\n",
    "# idx = [0,1,2,3]\n",
    "# a_list = a_list[idx]\n",
    "# f_list = f_list[idx]\n",
    "\n",
    "phases = compute_tweezer_1064_phases(len(f_list),a_list)\n",
    "\n",
    "# def normalize_alist(alist):\n",
    "#     sum = np.sum(alist)\n",
    "#     return alist/sum\n",
    "# a_list = normalize_alist(a_list)\n",
    "\n",
    "for tweezer_idx in range(len(core_list)):\n",
    "    if tweezer_idx < len(f_list):\n",
    "        dds[tweezer_idx].amp(a_list[tweezer_idx])\n",
    "        dds[tweezer_idx].freq(f_list[tweezer_idx])\n",
    "        dds[tweezer_idx].phase(phases[tweezer_idx])\n",
    "    # else:\n",
    "    #     dds[tweezer_idx].amp(0.)\n",
    "dds.exec_at_trg()\n",
    "dds.write_to_card()\n",
    "trigger.force()\n",
    "\n",
    "# Start command including enable of trigger engine\n",
    "\n",
    "# input(\"Press Enter to Exit\")\n",
    "\n",
    "a_list"
   ]
  },
  {
   "cell_type": "code",
   "execution_count": 25,
   "metadata": {},
   "outputs": [
    {
     "ename": "OSError",
     "evalue": "exception: access violation writing 0x0000000000000024",
     "output_type": "error",
     "traceback": [
      "\u001b[1;31m---------------------------------------------------------------------------\u001b[0m",
      "\u001b[1;31mOSError\u001b[0m                                   Traceback (most recent call last)",
      "Cell \u001b[1;32mIn[25], line 2\u001b[0m\n\u001b[0;32m      1\u001b[0m \u001b[38;5;66;03m# card.close(card._handle)\u001b[39;00m\n\u001b[1;32m----> 2\u001b[0m \u001b[43mcard\u001b[49m\u001b[38;5;241;43m.\u001b[39;49m\u001b[43mstop\u001b[49m\u001b[43m(\u001b[49m\u001b[43m)\u001b[49m\n\u001b[0;32m      3\u001b[0m card\u001b[38;5;241m.\u001b[39mclose(card\u001b[38;5;241m.\u001b[39m_handle)\n",
      "File \u001b[1;32m~\\code\\spcm\\src\\spcm\\classes_device.py:321\u001b[0m, in \u001b[0;36mDevice.stop\u001b[1;34m(self, *args)\u001b[0m\n\u001b[0;32m    311\u001b[0m \u001b[38;5;28;01mdef\u001b[39;00m \u001b[38;5;21mstop\u001b[39m(\u001b[38;5;28mself\u001b[39m, \u001b[38;5;241m*\u001b[39margs : \u001b[38;5;28mint\u001b[39m) \u001b[38;5;241m-\u001b[39m\u001b[38;5;241m>\u001b[39m \u001b[38;5;28;01mNone\u001b[39;00m:\n\u001b[0;32m    312\u001b[0m \u001b[38;5;250m    \u001b[39m\u001b[38;5;124;03m\"\"\"\u001b[39;00m\n\u001b[0;32m    313\u001b[0m \u001b[38;5;124;03m    Stops the connected card (see command `M2CMD_CARD_STOP` in the manual)\u001b[39;00m\n\u001b[0;32m    314\u001b[0m \n\u001b[1;32m   (...)\u001b[0m\n\u001b[0;32m    318\u001b[0m \u001b[38;5;124;03m        flags that are send together with the stop command (e.g. M2CMD_DATA_STOPDMA)\u001b[39;00m\n\u001b[0;32m    319\u001b[0m \u001b[38;5;124;03m    \"\"\"\u001b[39;00m\n\u001b[1;32m--> 321\u001b[0m     \u001b[38;5;28;43mself\u001b[39;49m\u001b[38;5;241;43m.\u001b[39;49m\u001b[43mcmd\u001b[49m\u001b[43m(\u001b[49m\u001b[43mM2CMD_CARD_STOP\u001b[49m\u001b[43m,\u001b[49m\u001b[43m \u001b[49m\u001b[38;5;241;43m*\u001b[39;49m\u001b[43margs\u001b[49m\u001b[43m)\u001b[49m\n",
      "File \u001b[1;32m~\\code\\spcm\\src\\spcm\\classes_device.py:274\u001b[0m, in \u001b[0;36mDevice.cmd\u001b[1;34m(self, *args)\u001b[0m\n\u001b[0;32m    272\u001b[0m \u001b[38;5;28;01mfor\u001b[39;00m arg \u001b[38;5;129;01min\u001b[39;00m args:\n\u001b[0;32m    273\u001b[0m     cmd \u001b[38;5;241m|\u001b[39m\u001b[38;5;241m=\u001b[39m arg\n\u001b[1;32m--> 274\u001b[0m \u001b[38;5;28;43mself\u001b[39;49m\u001b[38;5;241;43m.\u001b[39;49m\u001b[43mset_i\u001b[49m\u001b[43m(\u001b[49m\u001b[43mSPC_M2CMD\u001b[49m\u001b[43m,\u001b[49m\u001b[43m \u001b[49m\u001b[43mcmd\u001b[49m\u001b[43m)\u001b[49m\n",
      "File \u001b[1;32m~\\code\\spcm\\src\\spcm\\classes_device.py:440\u001b[0m, in \u001b[0;36mDevice.set_i\u001b[1;34m(self, register, value)\u001b[0m\n\u001b[0;32m    428\u001b[0m \u001b[38;5;250m\u001b[39m\u001b[38;5;124;03m\"\"\"\u001b[39;00m\n\u001b[0;32m    429\u001b[0m \u001b[38;5;124;03mWrite the value of a specific register to the card (see the user manual of your device for all the available registers)\u001b[39;00m\n\u001b[0;32m    430\u001b[0m \u001b[38;5;124;03m\u001b[39;00m\n\u001b[1;32m   (...)\u001b[0m\n\u001b[0;32m    436\u001b[0m \u001b[38;5;124;03m    The value that is written to the card.\u001b[39;00m\n\u001b[0;32m    437\u001b[0m \u001b[38;5;124;03m\"\"\"\u001b[39;00m\n\u001b[0;32m    439\u001b[0m \u001b[38;5;28mself\u001b[39m\u001b[38;5;241m.\u001b[39m_check_closed()\n\u001b[1;32m--> 440\u001b[0m \u001b[38;5;28mself\u001b[39m\u001b[38;5;241m.\u001b[39m_check_error(\u001b[43mspcm_dwSetParam_i64\u001b[49m\u001b[43m(\u001b[49m\u001b[38;5;28;43mself\u001b[39;49m\u001b[38;5;241;43m.\u001b[39;49m\u001b[43m_handle\u001b[49m\u001b[43m,\u001b[49m\u001b[43m \u001b[49m\u001b[43mregister\u001b[49m\u001b[43m,\u001b[49m\u001b[43m \u001b[49m\u001b[43mvalue\u001b[49m\u001b[43m)\u001b[49m)\n",
      "File \u001b[1;32m~\\code\\spcm\\src\\spcm\\pyspcm.py:345\u001b[0m, in \u001b[0;36mspcm_dwSetParam_i64\u001b[1;34m(hDrv, lReg, Val)\u001b[0m\n\u001b[0;32m    343\u001b[0m \u001b[38;5;28;01mexcept\u001b[39;00m \u001b[38;5;167;01mAttributeError\u001b[39;00m:\n\u001b[0;32m    344\u001b[0m     llVal \u001b[38;5;241m=\u001b[39m int64(Val)\n\u001b[1;32m--> 345\u001b[0m \u001b[38;5;28;01mreturn\u001b[39;00m \u001b[43mspcm_dwSetParam_i64_\u001b[49m\u001b[43m \u001b[49m\u001b[43m(\u001b[49m\u001b[43mhDrv\u001b[49m\u001b[43m,\u001b[49m\u001b[43m \u001b[49m\u001b[43mlReg\u001b[49m\u001b[43m,\u001b[49m\u001b[43m \u001b[49m\u001b[43mllVal\u001b[49m\u001b[43m)\u001b[49m\n",
      "\u001b[1;31mOSError\u001b[0m: exception: access violation writing 0x0000000000000024"
     ]
    }
   ],
   "source": [
    "# card.close(card._handle)\n",
    "card.stop()\n",
    "card.close(card._handle)"
   ]
  }
 ],
 "metadata": {
  "kernelspec": {
   "display_name": "kpy",
   "language": "python",
   "name": "python3"
  },
  "language_info": {
   "codemirror_mode": {
    "name": "ipython",
    "version": 3
   },
   "file_extension": ".py",
   "mimetype": "text/x-python",
   "name": "python",
   "nbconvert_exporter": "python",
   "pygments_lexer": "ipython3",
   "version": "3.10.11"
  }
 },
 "nbformat": 4,
 "nbformat_minor": 2
}
