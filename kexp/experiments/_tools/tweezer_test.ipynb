{
 "cells": [
  {
   "cell_type": "code",
   "execution_count": 1,
   "metadata": {},
   "outputs": [
    {
     "name": "stdout",
     "output_type": "stream",
     "text": [
      "2\n"
     ]
    }
   ],
   "source": [
    "import spcm\n",
    "from spcm import units\n",
    "import numpy as np\n",
    "\n",
    "# card : spcm.Card\n",
    "\n",
    "ip = 'TCPIP::192.168.1.83::INSTR'\n",
    "\n",
    "card = spcm.Card(ip)\n",
    "\n",
    "card.open(ip)\n",
    "\n",
    "# setup card for DDS\n",
    "card.card_mode(spcm.SPC_REP_STD_DDS)\n",
    "\n",
    "# Setup the channels\n",
    "channels = spcm.Channels(card)\n",
    "print(len(channels))\n",
    "channels.enable(True)\n",
    "channels.output_load(50 * units.ohm)\n",
    "channels.amp(.29 * units.V)\n",
    "card.write_setup()\n",
    "\n",
    "# trigger mode\n",
    "trigger = spcm.Trigger(card)\n",
    "trigger.or_mask(spcm.SPC_TMASK_EXT0) # disable default software trigger\n",
    "trigger.ext0_mode(spcm.SPC_TM_POS) # positive edge\n",
    "trigger.ext0_level0(1.5 * units.V) # Trigger level is 1.5 V (1500 mV)\n",
    "trigger.ext0_coupling(spcm.COUPLING_DC) # set DC coupling\n",
    "card.write_setup()\n",
    "\n",
    "# Setup DDS functionality\n",
    "dds = spcm.DDS(card, channels=channels)\n",
    "dds.reset()\n",
    "\n",
    "dds.trg_src(spcm.SPCM_DDS_TRG_SRC_CARD)\n",
    "\n",
    "core_list = [hex(2**n) for n in range(20)]\n",
    "\n",
    "# core_list = [spcm.SPCM_DDS_CORE8,  spcm.SPCM_DDS_CORE9,  spcm.SPCM_DDS_CORE10, spcm.SPCM_DDS_CORE11, spcm.SPCM_DDS_CORE20]\n",
    "\n",
    "# dds.cores_on_channel(1, *core_list)\n",
    "\n",
    "card.start(spcm.M2CMD_CARD_ENABLETRIGGER)"
   ]
  },
  {
   "cell_type": "code",
   "execution_count": 4,
   "metadata": {},
   "outputs": [
    {
     "data": {
      "text/plain": [
       "array([0.8, 0.2])"
      ]
     },
     "execution_count": 4,
     "metadata": {},
     "output_type": "execute_result"
    }
   ],
   "source": [
    "def split_array(f_split = 2.4e6, f_width_single_side = 4.e6, n_per_side = 4):\n",
    "    f_center = 74.8e6\n",
    "    # array1 = np.linspace( f_center-f_split/2-f_width_single_side ,f_center-f_split/2,n_per_side)\n",
    "    array1 = f_center - f_split/2 - np.linspace( f_width_single_side , 0. ,n_per_side)\n",
    "    # array2 = np.linspace( f_center+f_split/2+f_width_single_side ,f_center+f_split/2,n_per_side)\n",
    "    array2 = f_center + f_split/2 + np.linspace( 0. , f_width_single_side ,n_per_side)\n",
    "    # array1 = np.linspace(70.5e6,72.5e6,n)\n",
    "    # array2 = np.linspace(77.5e6,79.5e6,n)\n",
    "    return np.concatenate([array1,array2])\n",
    "\n",
    "def compute_tweezer_1064_phases(n_tweezers,amplitudes):\n",
    "    phase_tweezer_array = np.empty([n_tweezers])\n",
    "    for tweezer_idx in range(n_tweezers):\n",
    "        if tweezer_idx == 0:\n",
    "            phase_tweezer_array[0] = 360\n",
    "        else:\n",
    "            phase_ij = 0\n",
    "            for j in range(1,tweezer_idx):\n",
    "                phase_ij = phase_ij + 2*np.pi*(tweezer_idx - j)*amplitudes[tweezer_idx]\n",
    "            phase_i = (phase_ij % 2*np.pi) * 360\n",
    "            phase_tweezer_array[tweezer_idx] = phase_i\n",
    "    return phase_tweezer_array\n",
    "\n",
    "# f_list = split_array(f_split=2.4e6)\n",
    "# f_list = [76.e6,77.e6,78.e6,79.0e6,80.e6]\n",
    "# f_list = np.linspace(76.e6,80.e6,5)\n",
    "# f_list = np.linspace(76.e6,80.e6,4)\n",
    "f_list = [71.3e6,79.e6]\n",
    "# f_list = [70.98e6,79.16e6]\n",
    "# f_list = [70.98e6]\n",
    "# f_list = [76.e6,77.e6,78.e6,79.0e6,80.e6]\n",
    "# f_list = [72.e6, 76.e6, 80.e6]\n",
    "\n",
    "# f_list = [70.8e6]\n",
    "# a_list = [0.36393715]\n",
    "\n",
    "# f_list = [75.e6]\n",
    "# a_list = [0.99999]\n",
    "\n",
    "# f_list = [76.e6]\n",
    "# a_list = [0.19369715]\n",
    "\n",
    "# f_list = [80.e6]\n",
    "# a_list = [0.10826336]\n",
    "\n",
    "n_tweezers = len(f_list)\n",
    "\n",
    "# a_list = np.linspace(1/n_tweezers,1/n_tweezers,n_tweezers)\n",
    "# a_list = [.1,.1,.1,.05,.1,.35]\n",
    "# a_list = [0.22, 0.17, 0.15, 0.16, 0.17]\n",
    "a_list = [.8,.2]\n",
    "# a_list = [.76]\n",
    "# a_list = [.8,.65,.5,.18]\n",
    "# a_list = [0.22, 0.17, 0.15, 0.16, 0.17]\n",
    "# a_list = [0.2, 0.2, 0.2, 0.2, 0.2]\n",
    "# a_list = [0.3524204, 0.3235297, 0.18756762, 0.10483738]\n",
    "# a_list = [2 , 0.9258065, 0.31613, 0.46451613]\n",
    "\n",
    "f_list = np.array(f_list)\n",
    "a_list = np.array(a_list)\n",
    "\n",
    "# idx = [0,1,2,3]\n",
    "# a_list = a_list[idx]\n",
    "# f_list = f_list[idx]\n",
    "\n",
    "phases = compute_tweezer_1064_phases(len(f_list),a_list)\n",
    "\n",
    "# def normalize_alist(alist):\n",
    "#     sum = np.sum(alist)\n",
    "#     return alist/sum\n",
    "# a_list = normalize_alist(a_list)\n",
    "\n",
    "for tweezer_idx in range(len(core_list)):\n",
    "    if tweezer_idx < len(f_list):\n",
    "        dds[tweezer_idx].amp(a_list[tweezer_idx])\n",
    "        dds[tweezer_idx].freq(f_list[tweezer_idx])\n",
    "        dds[tweezer_idx].phase(phases[tweezer_idx])\n",
    "    # else:\n",
    "    #     dds[tweezer_idx].amp(0.)\n",
    "dds.exec_at_trg()\n",
    "dds.write_to_card()\n",
    "trigger.force()\n",
    "\n",
    "# Start command including enable of trigger engine\n",
    "\n",
    "# input(\"Press Enter to Exit\")\n",
    "\n",
    "a_list"
   ]
  },
  {
   "cell_type": "code",
   "execution_count": 149,
   "metadata": {},
   "outputs": [],
   "source": [
    "def normalize_alist(alist):\n",
    "        PERCENT_ALLOWED_ERROR = 0.01\n",
    "        sum = np.sum(alist)\n",
    "        if np.abs(1. - sum) > PERCENT_ALLOWED_ERROR:\n",
    "            out = alist/sum\n",
    "        else:\n",
    "            out = alist\n",
    "        return out\n",
    "\n",
    "def write_to_awg(f_list,a_list):\n",
    "    if isinstance(f_list,float):\n",
    "         f_list = [f_list]\n",
    "    a_list = normalize_alist(a_list)\n",
    "    phases = compute_tweezer_1064_phases(len(f_list),a_list)\n",
    "    for tweezer_idx in range(len(core_list)):\n",
    "        if tweezer_idx < len(f_list):\n",
    "            dds[tweezer_idx].amp(a_list[tweezer_idx])\n",
    "            dds[tweezer_idx].freq(f_list[tweezer_idx])\n",
    "            dds[tweezer_idx].phase(phases[tweezer_idx])\n",
    "        else:\n",
    "            dds[tweezer_idx].amp(0.)\n",
    "    dds.exec_at_trg()\n",
    "    dds.write_to_card()\n",
    "    trigger.force()"
   ]
  },
  {
   "cell_type": "code",
   "execution_count": 152,
   "metadata": {},
   "outputs": [
    {
     "data": {
      "text/plain": [
       "[0.37524204, 0.27235297, 0.25756762, 0.09483738]"
      ]
     },
     "execution_count": 152,
     "metadata": {},
     "output_type": "execute_result"
    }
   ],
   "source": [
    "normalize_alist([0.37524204, 0.27235297, 0.25756762, 0.09483738])"
   ]
  },
  {
   "cell_type": "code",
   "execution_count": 97,
   "metadata": {},
   "outputs": [],
   "source": [
    "# f0_noncateye = 76.e6\n",
    "# f1_noncateye = 83.e6\n",
    "\n",
    "# f0_cateye = 69.0e6\n",
    "# f1_cateye = 73.e6\n",
    "\n",
    "f0_noncateye = 76.e6\n",
    "f1_noncateye = 89.5e6\n",
    "# f0_cateye = 59.5e6\n",
    "# f1_cateye = 73.e6\n",
    "\n",
    "RECORDING_LENGTH_S = 10\n",
    "FRAMERATE_HZ = 15\n",
    "N = RECORDING_LENGTH_S * FRAMERATE_HZ\n",
    "\n",
    "# fs_cat = np.linspace(f0_cateye,f1_cateye,N)\n",
    "fs_noncateye = np.linspace(f0_noncateye,f1_noncateye,N)\n",
    "# fs_test = np.linspace(f0_cateye,f1_noncateye,N)\n",
    "\n",
    "# fs = np.concatenate((fs_cat,fs_noncateye))\n",
    "# fs = fs_cat\n",
    "fs = fs_noncateye\n",
    "# fs = fs_test\n",
    "\n",
    "import time\n",
    "\n",
    "for f in fs:\n",
    "    write_to_awg(f,[0.9])\n",
    "    time.sleep(1/FRAMERATE_HZ)"
   ]
  },
  {
   "cell_type": "code",
   "execution_count": 5,
   "metadata": {},
   "outputs": [],
   "source": [
    "# card.close(card._handle)\n",
    "card.stop()\n",
    "card.close(card._handle)"
   ]
  }
 ],
 "metadata": {
  "kernelspec": {
   "display_name": "kpy",
   "language": "python",
   "name": "python3"
  },
  "language_info": {
   "codemirror_mode": {
    "name": "ipython",
    "version": 3
   },
   "file_extension": ".py",
   "mimetype": "text/x-python",
   "name": "python",
   "nbconvert_exporter": "python",
   "pygments_lexer": "ipython3",
   "version": "3.10.11"
  }
 },
 "nbformat": 4,
 "nbformat_minor": 2
}
