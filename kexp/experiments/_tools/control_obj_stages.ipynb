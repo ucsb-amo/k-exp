{
 "cells": [
  {
   "cell_type": "code",
   "execution_count": 37,
   "metadata": {},
   "outputs": [],
   "source": [
    "# instantiate objective stage class and connect to controllers\n",
    "from kexp.control import objective_stages\n",
    "\n",
    "os_control = objective_stages.controller()"
   ]
  },
  {
   "cell_type": "code",
   "execution_count": 3,
   "metadata": {},
   "outputs": [
    {
     "name": "stdout",
     "output_type": "stream",
     "text": [
      "2 2 -500\n",
      "2 1 -500\n",
      "2 4 -500\n",
      "3 1 -500\n"
     ]
    }
   ],
   "source": [
    "# translate both objectives together in z\n",
    "\n",
    "# how many steps?\n",
    "N = 500\n",
    "\n",
    "os_control.translate_together_z(N_steps=N)"
   ]
  },
  {
   "cell_type": "code",
   "execution_count": null,
   "metadata": {},
   "outputs": [],
   "source": [
    "# translate both objectives together in y\n",
    "\n",
    "# how many steps? (negative steps are okay)\n",
    "N = 500\n",
    "\n",
    "os_control.translate_together_y(N_steps=N)"
   ]
  },
  {
   "cell_type": "code",
   "execution_count": 6,
   "metadata": {},
   "outputs": [
    {
     "name": "stdout",
     "output_type": "stream",
     "text": [
      "1 2 500 0\n",
      "1 3 500 0\n",
      "3 3 500 -500\n",
      "3 4 500 -500\n"
     ]
    }
   ],
   "source": [
    "# translate both objectives together in x\n",
    "\n",
    "# how many steps? (negative steps are okay)\n",
    "N = 500\n",
    "os_control.translate_together_x(N_steps=N)"
   ]
  },
  {
   "cell_type": "code",
   "execution_count": 36,
   "metadata": {},
   "outputs": [
    {
     "ename": "NewportBackendError",
     "evalue": "backend exception: SocketError('connection closed while receiving') ('connection closed while receiving')",
     "output_type": "error",
     "traceback": [
      "\u001b[1;31m---------------------------------------------------------------------------\u001b[0m",
      "\u001b[1;31mSocketError\u001b[0m                               Traceback (most recent call last)",
      "File \u001b[1;32mc:\\users\\jarjarbinks\\code\\pylablib\\pylablib\\core\\devio\\comm_backend.py:34\u001b[0m, in \u001b[0;36mreraise.<locals>.wrapped\u001b[1;34m(self, *args, **kwargs)\u001b[0m\n\u001b[0;32m     33\u001b[0m \u001b[38;5;28;01mtry\u001b[39;00m:\n\u001b[1;32m---> 34\u001b[0m     \u001b[38;5;28;01mreturn\u001b[39;00m func(\u001b[38;5;28mself\u001b[39m,\u001b[38;5;241m*\u001b[39margs,\u001b[38;5;241m*\u001b[39m\u001b[38;5;241m*\u001b[39mkwargs)\n\u001b[0;32m     35\u001b[0m \u001b[38;5;28;01mexcept\u001b[39;00m \u001b[38;5;28mself\u001b[39m\u001b[38;5;241m.\u001b[39mBackendError \u001b[38;5;28;01mas\u001b[39;00m exc:\n",
      "File \u001b[1;32mc:\\users\\jarjarbinks\\code\\pylablib\\pylablib\\core\\devio\\comm_backend.py:1097\u001b[0m, in \u001b[0;36mNetworkDeviceBackend.readline\u001b[1;34m(self, remove_term, timeout, skip_empty)\u001b[0m\n\u001b[0;32m   1096\u001b[0m \u001b[38;5;28;01mwith\u001b[39;00m \u001b[38;5;28mself\u001b[39m\u001b[38;5;241m.\u001b[39musing_timeout(timeout):\n\u001b[1;32m-> 1097\u001b[0m     result\u001b[38;5;241m=\u001b[39m\u001b[38;5;28;43mself\u001b[39;49m\u001b[38;5;241;43m.\u001b[39;49m\u001b[43msocket\u001b[49m\u001b[38;5;241;43m.\u001b[39;49m\u001b[43mrecv_delimiter\u001b[49m\u001b[43m(\u001b[49m\u001b[38;5;28;43mself\u001b[39;49m\u001b[38;5;241;43m.\u001b[39;49m\u001b[43mterm_read\u001b[49m\u001b[43m,\u001b[49m\u001b[43mstrict\u001b[49m\u001b[38;5;241;43m=\u001b[39;49m\u001b[38;5;28;43;01mTrue\u001b[39;49;00m\u001b[43m)\u001b[49m\n\u001b[0;32m   1098\u001b[0m \u001b[38;5;28mself\u001b[39m\u001b[38;5;241m.\u001b[39mcooldown(\u001b[38;5;124m\"\u001b[39m\u001b[38;5;124mread\u001b[39m\u001b[38;5;124m\"\u001b[39m)\n",
      "File \u001b[1;32mc:\\users\\jarjarbinks\\code\\pylablib\\pylablib\\core\\utils\\net.py:223\u001b[0m, in \u001b[0;36mClientSocket.recv_delimiter\u001b[1;34m(self, delim, lmax, chunk_l, strict)\u001b[0m\n\u001b[0;32m    222\u001b[0m \u001b[38;5;28;01mwhile\u001b[39;00m \u001b[38;5;129;01mnot\u001b[39;00m \u001b[38;5;28many\u001b[39m([buf\u001b[38;5;241m.\u001b[39mendswith(d) \u001b[38;5;28;01mfor\u001b[39;00m d \u001b[38;5;129;01min\u001b[39;00m delim]):\n\u001b[1;32m--> 223\u001b[0m     buf\u001b[38;5;241m=\u001b[39mbuf\u001b[38;5;241m+\u001b[39m\u001b[38;5;28;43mself\u001b[39;49m\u001b[38;5;241;43m.\u001b[39;49m\u001b[43m_recv_wait\u001b[49m\u001b[43m(\u001b[49m\u001b[43mchunk_l\u001b[49m\u001b[43m)\u001b[49m\n\u001b[0;32m    224\u001b[0m     \u001b[38;5;28;01mif\u001b[39;00m (lmax \u001b[38;5;129;01mis\u001b[39;00m \u001b[38;5;129;01mnot\u001b[39;00m \u001b[38;5;28;01mNone\u001b[39;00m) \u001b[38;5;129;01mand\u001b[39;00m \u001b[38;5;28mlen\u001b[39m(buf)\u001b[38;5;241m>\u001b[39mlmax:\n",
      "File \u001b[1;32mc:\\users\\jarjarbinks\\code\\pylablib\\pylablib\\core\\utils\\net.py:192\u001b[0m, in \u001b[0;36mClientSocket._recv_wait\u001b[1;34m(self, l)\u001b[0m\n\u001b[0;32m    191\u001b[0m \u001b[38;5;28;01mif\u001b[39;00m \u001b[38;5;28mlen\u001b[39m(recvd)\u001b[38;5;241m==\u001b[39m\u001b[38;5;241m0\u001b[39m:\n\u001b[1;32m--> 192\u001b[0m     \u001b[38;5;28;01mraise\u001b[39;00m SocketError(\u001b[38;5;124m\"\u001b[39m\u001b[38;5;124mconnection closed while receiving\u001b[39m\u001b[38;5;124m\"\u001b[39m)\n\u001b[0;32m    193\u001b[0m \u001b[38;5;28;01mreturn\u001b[39;00m recvd\n",
      "\u001b[1;31mSocketError\u001b[0m: connection closed while receiving",
      "\nThe above exception was the direct cause of the following exception:\n",
      "\u001b[1;31mNewportBackendError\u001b[0m                       Traceback (most recent call last)",
      "Cell \u001b[1;32mIn[36], line 4\u001b[0m\n\u001b[0;32m      2\u001b[0m \u001b[38;5;66;03m# translate one objective only\u001b[39;00m\n\u001b[0;32m      3\u001b[0m N\u001b[38;5;241m=\u001b[39m\u001b[38;5;241m-\u001b[39m\u001b[38;5;241m500\u001b[39m\n\u001b[1;32m----> 4\u001b[0m \u001b[43mos_control\u001b[49m\u001b[38;5;241;43m.\u001b[39;49m\u001b[43mtranslate\u001b[49m\u001b[43m(\u001b[49m\u001b[43mN_steps\u001b[49m\u001b[38;5;241;43m=\u001b[39;49m\u001b[43mN\u001b[49m\u001b[43m,\u001b[49m\u001b[43mobj\u001b[49m\u001b[38;5;241;43m=\u001b[39;49m\u001b[38;5;124;43m'\u001b[39;49m\u001b[38;5;124;43mn\u001b[39;49m\u001b[38;5;124;43m'\u001b[39;49m\u001b[43m,\u001b[49m\u001b[43maxis\u001b[49m\u001b[38;5;241;43m=\u001b[39;49m\u001b[38;5;124;43m'\u001b[39;49m\u001b[38;5;124;43my\u001b[39;49m\u001b[38;5;124;43m'\u001b[39;49m\u001b[43m)\u001b[49m\n",
      "File \u001b[1;32mc:\\users\\jarjarbinks\\code\\k-exp\\kexp\\control\\objective_stages.py:94\u001b[0m, in \u001b[0;36mcontroller.translate\u001b[1;34m(self, N_steps, obj, axis)\u001b[0m\n\u001b[0;32m     92\u001b[0m \u001b[38;5;28;01mfor\u001b[39;00m this_axis \u001b[38;5;129;01min\u001b[39;00m axes_to_move:\n\u001b[0;32m     93\u001b[0m     this_axis: motor_axis\n\u001b[1;32m---> 94\u001b[0m     \u001b[43mthis_axis\u001b[49m\u001b[38;5;241;43m.\u001b[39;49m\u001b[43mmove\u001b[49m\u001b[43m(\u001b[49m\u001b[43mN_steps\u001b[49m\u001b[43m)\u001b[49m\n\u001b[0;32m     95\u001b[0m     \u001b[38;5;28mprint\u001b[39m(this_axis\u001b[38;5;241m.\u001b[39maddr,this_axis\u001b[38;5;241m.\u001b[39mmotor_idx,N_steps,this_axis\u001b[38;5;241m.\u001b[39mposition)\n",
      "File \u001b[1;32mc:\\users\\jarjarbinks\\code\\k-exp\\kexp\\control\\objective_stages.py:23\u001b[0m, in \u001b[0;36mmotor_axis.move\u001b[1;34m(self, N_steps)\u001b[0m\n\u001b[0;32m     22\u001b[0m \u001b[38;5;28;01mdef\u001b[39;00m \u001b[38;5;21mmove\u001b[39m(\u001b[38;5;28mself\u001b[39m,N_steps):\n\u001b[1;32m---> 23\u001b[0m     \u001b[38;5;28;43mself\u001b[39;49m\u001b[38;5;241;43m.\u001b[39;49m\u001b[43mwait_until_done_moving\u001b[49m\u001b[43m(\u001b[49m\u001b[43m)\u001b[49m\n\u001b[0;32m     24\u001b[0m     \u001b[38;5;28mself\u001b[39m\u001b[38;5;241m.\u001b[39mstage\u001b[38;5;241m.\u001b[39mmove_by(\u001b[38;5;28mself\u001b[39m\u001b[38;5;241m.\u001b[39mmotor_idx,N_steps,addr\u001b[38;5;241m=\u001b[39m\u001b[38;5;28mself\u001b[39m\u001b[38;5;241m.\u001b[39maddr)\n\u001b[0;32m     25\u001b[0m     \u001b[38;5;28mself\u001b[39m\u001b[38;5;241m.\u001b[39mwait_until_done_moving()\n",
      "File \u001b[1;32mc:\\users\\jarjarbinks\\code\\k-exp\\kexp\\control\\objective_stages.py:29\u001b[0m, in \u001b[0;36mmotor_axis.wait_until_done_moving\u001b[1;34m(self)\u001b[0m\n\u001b[0;32m     28\u001b[0m \u001b[38;5;28;01mdef\u001b[39;00m \u001b[38;5;21mwait_until_done_moving\u001b[39m(\u001b[38;5;28mself\u001b[39m):\n\u001b[1;32m---> 29\u001b[0m     \u001b[38;5;28;43mself\u001b[39;49m\u001b[38;5;241;43m.\u001b[39;49m\u001b[43mstage\u001b[49m\u001b[38;5;241;43m.\u001b[39;49m\u001b[43mwait_move\u001b[49m\u001b[43m(\u001b[49m\u001b[43maddr\u001b[49m\u001b[38;5;241;43m=\u001b[39;49m\u001b[38;5;28;43mself\u001b[39;49m\u001b[38;5;241;43m.\u001b[39;49m\u001b[43maddr\u001b[49m\u001b[43m)\u001b[49m\n",
      "File \u001b[1;32mc:\\users\\jarjarbinks\\code\\pylablib\\pylablib\\core\\utils\\general.py:1120\u001b[0m, in \u001b[0;36mmuxcall.<locals>.wrapper.<locals>.wrapped\u001b[1;34m(*args, **kwargs)\u001b[0m\n\u001b[0;32m   1118\u001b[0m \u001b[38;5;28;01melse\u001b[39;00m:\n\u001b[0;32m   1119\u001b[0m     all_args[argname]\u001b[38;5;241m=\u001b[39mmarg\n\u001b[1;32m-> 1120\u001b[0m     res\u001b[38;5;241m=\u001b[39mfunc(\u001b[38;5;241m*\u001b[39m\u001b[38;5;241m*\u001b[39mall_args)\n\u001b[0;32m   1121\u001b[0m \u001b[38;5;28;01mreturn\u001b[39;00m res\n",
      "File \u001b[1;32mc:\\users\\jarjarbinks\\code\\pylablib\\pylablib\\core\\utils\\general.py:1113\u001b[0m, in \u001b[0;36mmuxcall.<locals>.wrapper.<locals>.wrapped\u001b[1;34m(*args, **kwargs)\u001b[0m\n\u001b[0;32m   1111\u001b[0m     \u001b[38;5;28;01mfor\u001b[39;00m n,ma \u001b[38;5;129;01min\u001b[39;00m mux_args\u001b[38;5;241m.\u001b[39mitems():\n\u001b[0;32m   1112\u001b[0m         all_args[n]\u001b[38;5;241m=\u001b[39mma[a]\n\u001b[1;32m-> 1113\u001b[0m     res\u001b[38;5;241m.\u001b[39mappend(func(\u001b[38;5;241m*\u001b[39m\u001b[38;5;241m*\u001b[39mall_args))\n\u001b[0;32m   1114\u001b[0m \u001b[38;5;28;01mif\u001b[39;00m return_kind\u001b[38;5;241m==\u001b[39m\u001b[38;5;124m\"\u001b[39m\u001b[38;5;124mdict\u001b[39m\u001b[38;5;124m\"\u001b[39m:\n\u001b[0;32m   1115\u001b[0m     res\u001b[38;5;241m=\u001b[39m\u001b[38;5;28mdict\u001b[39m(\u001b[38;5;28mzip\u001b[39m(marg,res))\n",
      "File \u001b[1;32mc:\\users\\jarjarbinks\\code\\pylablib\\pylablib\\devices\\Newport\\picomotor.py:275\u001b[0m, in \u001b[0;36mPicomotor8742.wait_move\u001b[1;34m(self, axis, addr)\u001b[0m\n\u001b[0;32m    271\u001b[0m \u001b[38;5;129m@muxaddr\u001b[39m\n\u001b[0;32m    272\u001b[0m \u001b[38;5;129m@stage\u001b[39m\u001b[38;5;241m.\u001b[39mmuxaxis\n\u001b[0;32m    273\u001b[0m \u001b[38;5;28;01mdef\u001b[39;00m \u001b[38;5;21mwait_move\u001b[39m(\u001b[38;5;28mself\u001b[39m, axis\u001b[38;5;241m=\u001b[39m\u001b[38;5;124m\"\u001b[39m\u001b[38;5;124mall\u001b[39m\u001b[38;5;124m\"\u001b[39m, addr\u001b[38;5;241m=\u001b[39m\u001b[38;5;28;01mNone\u001b[39;00m):\n\u001b[0;32m    274\u001b[0m \u001b[38;5;250m    \u001b[39m\u001b[38;5;124;03m\"\"\"Wait until axis motion is done\"\"\"\u001b[39;00m\n\u001b[1;32m--> 275\u001b[0m     \u001b[38;5;28;01mwhile\u001b[39;00m \u001b[38;5;28;43mself\u001b[39;49m\u001b[38;5;241;43m.\u001b[39;49m\u001b[43mis_moving\u001b[49m\u001b[43m(\u001b[49m\u001b[43maxis\u001b[49m\u001b[38;5;241;43m=\u001b[39;49m\u001b[43maxis\u001b[49m\u001b[43m,\u001b[49m\u001b[43maddr\u001b[49m\u001b[38;5;241;43m=\u001b[39;49m\u001b[43maddr\u001b[49m\u001b[43m)\u001b[49m:\n\u001b[0;32m    276\u001b[0m         time\u001b[38;5;241m.\u001b[39msleep(\u001b[38;5;241m0.01\u001b[39m)\n",
      "File \u001b[1;32mc:\\users\\jarjarbinks\\code\\pylablib\\pylablib\\core\\utils\\general.py:1120\u001b[0m, in \u001b[0;36mmuxcall.<locals>.wrapper.<locals>.wrapped\u001b[1;34m(*args, **kwargs)\u001b[0m\n\u001b[0;32m   1118\u001b[0m \u001b[38;5;28;01melse\u001b[39;00m:\n\u001b[0;32m   1119\u001b[0m     all_args[argname]\u001b[38;5;241m=\u001b[39mmarg\n\u001b[1;32m-> 1120\u001b[0m     res\u001b[38;5;241m=\u001b[39mfunc(\u001b[38;5;241m*\u001b[39m\u001b[38;5;241m*\u001b[39mall_args)\n\u001b[0;32m   1121\u001b[0m \u001b[38;5;28;01mreturn\u001b[39;00m res\n",
      "File \u001b[1;32mc:\\users\\jarjarbinks\\code\\pylablib\\pylablib\\core\\utils\\general.py:1120\u001b[0m, in \u001b[0;36mmuxcall.<locals>.wrapper.<locals>.wrapped\u001b[1;34m(*args, **kwargs)\u001b[0m\n\u001b[0;32m   1118\u001b[0m \u001b[38;5;28;01melse\u001b[39;00m:\n\u001b[0;32m   1119\u001b[0m     all_args[argname]\u001b[38;5;241m=\u001b[39mmarg\n\u001b[1;32m-> 1120\u001b[0m     res\u001b[38;5;241m=\u001b[39mfunc(\u001b[38;5;241m*\u001b[39m\u001b[38;5;241m*\u001b[39mall_args)\n\u001b[0;32m   1121\u001b[0m \u001b[38;5;28;01mreturn\u001b[39;00m res\n",
      "File \u001b[1;32mc:\\users\\jarjarbinks\\code\\pylablib\\pylablib\\devices\\Newport\\picomotor.py:270\u001b[0m, in \u001b[0;36mPicomotor8742.is_moving\u001b[1;34m(self, axis, addr)\u001b[0m\n\u001b[0;32m    266\u001b[0m \u001b[38;5;129m@muxaddr\u001b[39m\n\u001b[0;32m    267\u001b[0m \u001b[38;5;129m@stage\u001b[39m\u001b[38;5;241m.\u001b[39mmuxaxis\n\u001b[0;32m    268\u001b[0m \u001b[38;5;28;01mdef\u001b[39;00m \u001b[38;5;21mis_moving\u001b[39m(\u001b[38;5;28mself\u001b[39m, axis\u001b[38;5;241m=\u001b[39m\u001b[38;5;124m\"\u001b[39m\u001b[38;5;124mall\u001b[39m\u001b[38;5;124m\"\u001b[39m, addr\u001b[38;5;241m=\u001b[39m\u001b[38;5;28;01mNone\u001b[39;00m):\n\u001b[0;32m    269\u001b[0m \u001b[38;5;250m    \u001b[39m\u001b[38;5;124;03m\"\"\"Check if the axis is moving\"\"\"\u001b[39;00m\n\u001b[1;32m--> 270\u001b[0m     \u001b[38;5;28;01mreturn\u001b[39;00m \u001b[38;5;129;01mnot\u001b[39;00m \u001b[38;5;28mint\u001b[39m(\u001b[38;5;28;43mself\u001b[39;49m\u001b[38;5;241;43m.\u001b[39;49m\u001b[43mquery\u001b[49m\u001b[43m(\u001b[49m\u001b[38;5;124;43m\"\u001b[39;49m\u001b[38;5;124;43mMD?\u001b[39;49m\u001b[38;5;124;43m\"\u001b[39;49m\u001b[43m,\u001b[49m\u001b[43maxis\u001b[49m\u001b[38;5;241;43m=\u001b[39;49m\u001b[43maxis\u001b[49m\u001b[43m,\u001b[49m\u001b[43maddr\u001b[49m\u001b[38;5;241;43m=\u001b[39;49m\u001b[43maddr\u001b[49m\u001b[43m)\u001b[49m)\n",
      "File \u001b[1;32mc:\\users\\jarjarbinks\\code\\pylablib\\pylablib\\devices\\Newport\\picomotor.py:81\u001b[0m, in \u001b[0;36mPicomotor8742.query\u001b[1;34m(self, comm, axis, addr, read_reply)\u001b[0m\n\u001b[0;32m     79\u001b[0m     read_reply\u001b[38;5;241m=\u001b[39mcomm\u001b[38;5;241m.\u001b[39mendswith(\u001b[38;5;124m\"\u001b[39m\u001b[38;5;124m?\u001b[39m\u001b[38;5;124m\"\u001b[39m)\n\u001b[0;32m     80\u001b[0m \u001b[38;5;28;01mif\u001b[39;00m read_reply:\n\u001b[1;32m---> 81\u001b[0m     reply\u001b[38;5;241m=\u001b[39mpy3\u001b[38;5;241m.\u001b[39mas_str(\u001b[38;5;28;43mself\u001b[39;49m\u001b[38;5;241;43m.\u001b[39;49m\u001b[43minstr\u001b[49m\u001b[38;5;241;43m.\u001b[39;49m\u001b[43mreadline\u001b[49m\u001b[43m(\u001b[49m\u001b[43m)\u001b[49m\u001b[38;5;241m.\u001b[39mstrip())\n\u001b[0;32m     82\u001b[0m     \u001b[38;5;28;01mif\u001b[39;00m addr \u001b[38;5;129;01mis\u001b[39;00m \u001b[38;5;129;01mnot\u001b[39;00m \u001b[38;5;28;01mNone\u001b[39;00m:\n\u001b[0;32m     83\u001b[0m         \u001b[38;5;28;01mif\u001b[39;00m \u001b[38;5;129;01mnot\u001b[39;00m reply\u001b[38;5;241m.\u001b[39mstartswith(addr_header):\n",
      "File \u001b[1;32mc:\\users\\jarjarbinks\\code\\pylablib\\pylablib\\core\\devio\\comm_backend.py:45\u001b[0m, in \u001b[0;36mlogerror.<locals>.wrapped\u001b[1;34m(self, *args, **kwargs)\u001b[0m\n\u001b[0;32m     42\u001b[0m \u001b[38;5;129m@functools\u001b[39m\u001b[38;5;241m.\u001b[39mwraps(func)\n\u001b[0;32m     43\u001b[0m \u001b[38;5;28;01mdef\u001b[39;00m \u001b[38;5;21mwrapped\u001b[39m(\u001b[38;5;28mself\u001b[39m, \u001b[38;5;241m*\u001b[39margs, \u001b[38;5;241m*\u001b[39m\u001b[38;5;241m*\u001b[39mkwargs):\n\u001b[0;32m     44\u001b[0m     \u001b[38;5;28;01mtry\u001b[39;00m:\n\u001b[1;32m---> 45\u001b[0m         \u001b[38;5;28;01mreturn\u001b[39;00m func(\u001b[38;5;28mself\u001b[39m,\u001b[38;5;241m*\u001b[39margs,\u001b[38;5;241m*\u001b[39m\u001b[38;5;241m*\u001b[39mkwargs)\n\u001b[0;32m     46\u001b[0m     \u001b[38;5;28;01mexcept\u001b[39;00m \u001b[38;5;28mself\u001b[39m\u001b[38;5;241m.\u001b[39mError \u001b[38;5;28;01mas\u001b[39;00m exc:\n\u001b[0;32m     47\u001b[0m         \u001b[38;5;28mself\u001b[39m\u001b[38;5;241m.\u001b[39m_log(\u001b[38;5;124m\"\u001b[39m\u001b[38;5;124merror\u001b[39m\u001b[38;5;124m\"\u001b[39m,\u001b[38;5;28mstr\u001b[39m(exc))\n",
      "File \u001b[1;32mc:\\users\\jarjarbinks\\code\\pylablib\\pylablib\\core\\devio\\comm_backend.py:37\u001b[0m, in \u001b[0;36mreraise.<locals>.wrapped\u001b[1;34m(self, *args, **kwargs)\u001b[0m\n\u001b[0;32m     35\u001b[0m \u001b[38;5;28;01mexcept\u001b[39;00m \u001b[38;5;28mself\u001b[39m\u001b[38;5;241m.\u001b[39mBackendError \u001b[38;5;28;01mas\u001b[39;00m exc:\n\u001b[0;32m     36\u001b[0m     ReraiseError\u001b[38;5;241m=\u001b[39m\u001b[38;5;28mgetattr\u001b[39m(\u001b[38;5;28mself\u001b[39m,\u001b[38;5;124m\"\u001b[39m\u001b[38;5;124mReraiseError\u001b[39m\u001b[38;5;124m\"\u001b[39m,\u001b[38;5;28mself\u001b[39m\u001b[38;5;241m.\u001b[39mError)\n\u001b[1;32m---> 37\u001b[0m     \u001b[38;5;28;01mraise\u001b[39;00m ReraiseError(exc) \u001b[38;5;28;01mfrom\u001b[39;00m \u001b[38;5;21;01mexc\u001b[39;00m\n",
      "\u001b[1;31mNewportBackendError\u001b[0m: backend exception: SocketError('connection closed while receiving') ('connection closed while receiving')"
     ]
    }
   ],
   "source": [
    "import time\n",
    "# translate one objective only\n",
    "N=300\n",
    "os_control.translate(N_steps=N,obj='n',axis='x')"
   ]
  },
  {
   "cell_type": "code",
   "execution_count": 17,
   "metadata": {},
   "outputs": [
    {
     "name": "stdout",
     "output_type": "stream",
     "text": [
      "1 2 -200 -400\n",
      "1 3 -200 -400\n"
     ]
    }
   ],
   "source": [
    "os_control.translate(N_steps=-300,obj='s',axis='x')"
   ]
  },
  {
   "cell_type": "code",
   "execution_count": 19,
   "metadata": {},
   "outputs": [
    {
     "name": "stdout",
     "output_type": "stream",
     "text": [
      "3 3 200 200\n",
      "3 4 200 200\n"
     ]
    }
   ],
   "source": [
    "N=500\n",
    "os_control.translate(N_steps=200,obj='s',axis='x')"
   ]
  },
  {
   "cell_type": "code",
   "execution_count": 22,
   "metadata": {},
   "outputs": [
    {
     "name": "stdout",
     "output_type": "stream",
     "text": [
      "-200\n"
     ]
    }
   ],
   "source": [
    "os_control.axes['n']['+x'].move(-200)\n",
    "print(os_control.axes['n']['+x'].position)"
   ]
  }
 ],
 "metadata": {
  "kernelspec": {
   "display_name": "kpy",
   "language": "python",
   "name": "python3"
  },
  "language_info": {
   "codemirror_mode": {
    "name": "ipython",
    "version": 3
   },
   "file_extension": ".py",
   "mimetype": "text/x-python",
   "name": "python",
   "nbconvert_exporter": "python",
   "pygments_lexer": "ipython3",
   "version": "3.10.11"
  }
 },
 "nbformat": 4,
 "nbformat_minor": 2
}
