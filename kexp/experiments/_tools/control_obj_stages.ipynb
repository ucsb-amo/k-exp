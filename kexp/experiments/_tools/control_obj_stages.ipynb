{
 "cells": [
  {
   "cell_type": "code",
   "execution_count": 2,
   "metadata": {},
   "outputs": [],
   "source": [
    "# instantiate objective stage class and connect to controllers\n",
    "from kexp.control import objective_stages\n",
    "\n",
    "os_control = objective_stages.controller()"
   ]
  },
  {
   "cell_type": "code",
   "execution_count": 2,
   "metadata": {},
   "outputs": [
    {
     "name": "stdout",
     "output_type": "stream",
     "text": [
      "<kexp.control.objective_stages.motor_axis object at 0x0000013A048D2830> 500\n",
      "<kexp.control.objective_stages.motor_axis object at 0x0000013A048D28F0> 500\n",
      "<kexp.control.objective_stages.motor_axis object at 0x0000013A048D27D0> 500\n",
      "<kexp.control.objective_stages.motor_axis object at 0x0000013A048D2770> 500\n"
     ]
    }
   ],
   "source": [
    "# translate both objectives together in z\n",
    "\n",
    "# how many steps?\n",
    "N = 500\n",
    "\n",
    "os_control.translate_together_z(N_steps=N)"
   ]
  },
  {
   "cell_type": "code",
   "execution_count": null,
   "metadata": {},
   "outputs": [],
   "source": [
    "# translate both objectives together in y\n",
    "\n",
    "# how many steps? (negative steps are okay)\n",
    "N = 500\n",
    "\n",
    "os_control.translate_together_y(N_steps=N)"
   ]
  },
  {
   "cell_type": "code",
   "execution_count": null,
   "metadata": {},
   "outputs": [],
   "source": [
    "# translate both objectives together in x\n",
    "\n",
    "# how many steps? (negative steps are okay)\n",
    "N = 500\n",
    "\n",
    "os_control.translate_together_x(N_steps=N)"
   ]
  },
  {
   "cell_type": "code",
   "execution_count": 6,
   "metadata": {},
   "outputs": [
    {
     "name": "stdout",
     "output_type": "stream",
     "text": [
      "1 2 500\n",
      "1 3 500\n"
     ]
    }
   ],
   "source": [
    "# translate one objective only (positive steps only, direction is specified by axis sign)\n",
    "N=500\n",
    "\n",
    "os_control.translate(N_steps=N,obj='n',axis='+x')"
   ]
  }
 ],
 "metadata": {
  "kernelspec": {
   "display_name": "kpy",
   "language": "python",
   "name": "python3"
  },
  "language_info": {
   "codemirror_mode": {
    "name": "ipython",
    "version": 3
   },
   "file_extension": ".py",
   "mimetype": "text/x-python",
   "name": "python",
   "nbconvert_exporter": "python",
   "pygments_lexer": "ipython3",
   "version": "3.10.11"
  }
 },
 "nbformat": 4,
 "nbformat_minor": 2
}
