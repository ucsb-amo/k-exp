{
 "cells": [
  {
   "cell_type": "code",
   "execution_count": 1,
   "metadata": {},
   "outputs": [],
   "source": [
    "# instantiate objective stage class and connect to controllers\n",
    "from kexp.control import objective_stages\n",
    "\n",
    "os_control = objective_stages.controller()"
   ]
  },
  {
   "cell_type": "code",
   "execution_count": 3,
   "metadata": {},
   "outputs": [
    {
     "name": "stdout",
     "output_type": "stream",
     "text": [
      "2 2 -500\n",
      "2 1 -500\n",
      "2 4 -500\n",
      "3 1 -500\n"
     ]
    }
   ],
   "source": [
    "# translate both objectives together in z\n",
    "\n",
    "# how many steps?\n",
    "N = 500\n",
    "\n",
    "os_control.translate_together_z(N_steps=N)"
   ]
  },
  {
   "cell_type": "code",
   "execution_count": null,
   "metadata": {},
   "outputs": [],
   "source": [
    "# translate both objectives together in y\n",
    "\n",
    "# how many steps? (negative steps are okay)\n",
    "N = 500\n",
    "\n",
    "os_control.translate_together_y(N_steps=N)"
   ]
  },
  {
   "cell_type": "code",
   "execution_count": 3,
   "metadata": {},
   "outputs": [
    {
     "name": "stdout",
     "output_type": "stream",
     "text": [
      "1 2 500\n",
      "1 3 500\n",
      "3 3 500\n",
      "3 4 500\n"
     ]
    }
   ],
   "source": [
    "# translate both objectives together in x\n",
    "\n",
    "# how many steps? (negative steps are okay)\n",
    "N = -500\n",
    "\n",
    "os_control.translate_together_x(N_steps=N)"
   ]
  },
  {
   "cell_type": "code",
   "execution_count": 2,
   "metadata": {},
   "outputs": [
    {
     "name": "stdout",
     "output_type": "stream",
     "text": [
      "2 2 500\n",
      "2 1 500\n"
     ]
    }
   ],
   "source": [
    "import time\n",
    "# translate one objective only\n",
    "N=500\n",
    "\n",
    "# os_control.translate(N_steps=N,obj='n',axis='-x')\n",
    "# time.sleep(1.)\n",
    "os_control.translate(N_steps=N,obj='n',axis='z')"
   ]
  }
 ],
 "metadata": {
  "kernelspec": {
   "display_name": "kpy",
   "language": "python",
   "name": "python3"
  },
  "language_info": {
   "codemirror_mode": {
    "name": "ipython",
    "version": 3
   },
   "file_extension": ".py",
   "mimetype": "text/x-python",
   "name": "python",
   "nbconvert_exporter": "python",
   "pygments_lexer": "ipython3",
   "version": "3.10.11"
  }
 },
 "nbformat": 4,
 "nbformat_minor": 2
}
