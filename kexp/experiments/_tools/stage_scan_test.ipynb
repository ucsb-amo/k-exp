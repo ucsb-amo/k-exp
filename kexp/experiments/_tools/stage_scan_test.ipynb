{
 "cells": [
  {
   "cell_type": "code",
   "execution_count": 1,
   "metadata": {},
   "outputs": [],
   "source": [
    "from kexp.control import objective_stages\n",
    "\n",
    "os_control = objective_stages.controller()"
   ]
  },
  {
   "cell_type": "code",
   "execution_count": 2,
   "metadata": {},
   "outputs": [
    {
     "name": "stdout",
     "output_type": "stream",
     "text": [
      "<kexp.control.objective_stages.motor_axis object at 0x0000013A048D2830> 500\n",
      "<kexp.control.objective_stages.motor_axis object at 0x0000013A048D28F0> 500\n",
      "<kexp.control.objective_stages.motor_axis object at 0x0000013A048D27D0> 500\n",
      "<kexp.control.objective_stages.motor_axis object at 0x0000013A048D2770> 500\n"
     ]
    }
   ],
   "source": [
    "# how many steps\n",
    "\n",
    "N = 500\n",
    "\n",
    "os_control.translate_together_z(N_steps=N)"
   ]
  },
  {
   "cell_type": "code",
   "execution_count": 3,
   "metadata": {},
   "outputs": [
    {
     "name": "stdout",
     "output_type": "stream",
     "text": [
      "<kexp.control.objective_stages.motor_axis object at 0x0000013A048D2830> 500\n",
      "<kexp.control.objective_stages.motor_axis object at 0x0000013A048D28F0> 500\n",
      "<kexp.control.objective_stages.motor_axis object at 0x0000013A048D27D0> 500\n",
      "<kexp.control.objective_stages.motor_axis object at 0x0000013A048D2770> 500\n"
     ]
    }
   ],
   "source": [
    "# revert\n",
    "os_control.translate_together_z(N_steps=-N)"
   ]
  }
 ],
 "metadata": {
  "kernelspec": {
   "display_name": "kpy",
   "language": "python",
   "name": "python3"
  },
  "language_info": {
   "codemirror_mode": {
    "name": "ipython",
    "version": 3
   },
   "file_extension": ".py",
   "mimetype": "text/x-python",
   "name": "python",
   "nbconvert_exporter": "python",
   "pygments_lexer": "ipython3",
   "version": "3.10.11"
  }
 },
 "nbformat": 4,
 "nbformat_minor": 2
}
