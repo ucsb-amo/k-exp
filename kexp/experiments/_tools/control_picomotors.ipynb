{
 "cells": [
  {
   "cell_type": "code",
   "execution_count": 10,
   "metadata": {},
   "outputs": [],
   "source": [
    "# instantiate objective stage class and connect to controllers\n",
    "from kexp.control import objective_stages\n",
    "\n",
    "os_control = objective_stages.controller()"
   ]
  },
  {
   "cell_type": "code",
   "execution_count": 3,
   "metadata": {},
   "outputs": [
    {
     "name": "stdout",
     "output_type": "stream",
     "text": [
      "2 2 -500\n",
      "2 1 -500\n",
      "2 4 -500\n",
      "3 1 -500\n"
     ]
    }
   ],
   "source": [
    "# translate both objectives together in z\n",
    "\n",
    "# how many steps?\n",
    "N = 500\n",
    "\n",
    "os_control.translate_together_z(N_steps=N)"
   ]
  },
  {
   "cell_type": "code",
   "execution_count": 20,
   "metadata": {},
   "outputs": [
    {
     "name": "stdout",
     "output_type": "stream",
     "text": [
      "1 1 1500 10000\n",
      "3 2 -1500 -10000\n"
     ]
    }
   ],
   "source": [
    "# translate both objectives together in y\n",
    "\n",
    "# how many steps? (negative steps are okay)\n",
    "N = -1500\n",
    "\n",
    "os_control.translate_together_y(N_steps=N)"
   ]
  },
  {
   "cell_type": "code",
   "execution_count": 22,
   "metadata": {},
   "outputs": [
    {
     "name": "stdout",
     "output_type": "stream",
     "text": [
      "1 2 -500 0\n",
      "1 3 -500 0\n",
      "3 3 -500 0\n",
      "3 4 -500 0\n"
     ]
    }
   ],
   "source": [
    "# translate both objectives together in x\n",
    "\n",
    "# how many steps? (negative steps are okay)\n",
    "N = -500\n",
    "os_control.translate_together_x(N_steps=N)"
   ]
  },
  {
   "cell_type": "code",
   "execution_count": 59,
   "metadata": {},
   "outputs": [
    {
     "name": "stdout",
     "output_type": "stream",
     "text": [
      "1 2 -300 -300\n",
      "1 3 -300 -300\n"
     ]
    }
   ],
   "source": [
    "import time\n",
    "# translate one objective only\n",
    "N=-300\n",
    "os_control.translate(N_steps=N,obj='n',axis='x')"
   ]
  },
  {
   "cell_type": "code",
   "execution_count": 58,
   "metadata": {},
   "outputs": [
    {
     "name": "stdout",
     "output_type": "stream",
     "text": [
      "3 3 -300 300\n",
      "3 4 -300 300\n"
     ]
    }
   ],
   "source": [
    "os_control.translate(N_steps=-300,obj='s',axis='x')"
   ]
  },
  {
   "cell_type": "code",
   "execution_count": 19,
   "metadata": {},
   "outputs": [
    {
     "name": "stdout",
     "output_type": "stream",
     "text": [
      "3 3 200 200\n",
      "3 4 200 200\n"
     ]
    }
   ],
   "source": [
    "N=500\n",
    "os_control.translate(N_steps=200,obj='s',axis='x')"
   ]
  },
  {
   "cell_type": "code",
   "execution_count": 22,
   "metadata": {},
   "outputs": [
    {
     "name": "stdout",
     "output_type": "stream",
     "text": [
      "-200\n"
     ]
    }
   ],
   "source": [
    "os_control.axes['n']['+x'].move(-200)\n",
    "print(os_control.axes['n']['+x'].position)"
   ]
  }
 ],
 "metadata": {
  "kernelspec": {
   "display_name": "kpy",
   "language": "python",
   "name": "python3"
  },
  "language_info": {
   "codemirror_mode": {
    "name": "ipython",
    "version": 3
   },
   "file_extension": ".py",
   "mimetype": "text/x-python",
   "name": "python",
   "nbconvert_exporter": "python",
   "pygments_lexer": "ipython3",
   "version": "3.10.11"
  }
 },
 "nbformat": 4,
 "nbformat_minor": 2
}
