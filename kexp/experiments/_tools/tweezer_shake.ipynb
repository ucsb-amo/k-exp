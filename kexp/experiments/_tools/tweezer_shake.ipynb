{
 "cells": [
  {
   "cell_type": "code",
   "execution_count": 4,
   "metadata": {},
   "outputs": [
    {
     "ename": "SpcmException",
     "evalue": "",
     "output_type": "error",
     "traceback": [
      "\u001b[1;31m---------------------------------------------------------------------------\u001b[0m",
      "\u001b[1;31mSpcmException\u001b[0m                             Traceback (most recent call last)",
      "Cell \u001b[1;32mIn[4], line 14\u001b[0m\n\u001b[0;32m     11\u001b[0m card\u001b[38;5;241m.\u001b[39mopen(ip)\n\u001b[0;32m     13\u001b[0m \u001b[38;5;66;03m# setup card for DDS\u001b[39;00m\n\u001b[1;32m---> 14\u001b[0m \u001b[43mcard\u001b[49m\u001b[38;5;241;43m.\u001b[39;49m\u001b[43mcard_mode\u001b[49m\u001b[43m(\u001b[49m\u001b[43mspcm\u001b[49m\u001b[38;5;241;43m.\u001b[39;49m\u001b[43mSPC_REP_STD_DDS\u001b[49m\u001b[43m)\u001b[49m\n\u001b[0;32m     16\u001b[0m \u001b[38;5;66;03m# datat = spcm.DataTransfer(card)\u001b[39;00m\n\u001b[0;32m     17\u001b[0m \n\u001b[0;32m     18\u001b[0m \u001b[38;5;66;03m# Setup the channels\u001b[39;00m\n\u001b[0;32m     19\u001b[0m channels \u001b[38;5;241m=\u001b[39m spcm\u001b[38;5;241m.\u001b[39mChannels(card)\n",
      "File \u001b[1;32m~\\code\\spcm\\src\\spcm\\classes_card.py:254\u001b[0m, in \u001b[0;36mCard.card_mode\u001b[1;34m(self, card_mode)\u001b[0m\n\u001b[0;32m    239\u001b[0m \u001b[38;5;250m\u001b[39m\u001b[38;5;124;03m\"\"\"\u001b[39;00m\n\u001b[0;32m    240\u001b[0m \u001b[38;5;124;03mSet the card mode of the connected card (see register `SPC_CARDMODE` in the manual)\u001b[39;00m\n\u001b[0;32m    241\u001b[0m \u001b[38;5;124;03m\u001b[39;00m\n\u001b[1;32m   (...)\u001b[0m\n\u001b[0;32m    250\u001b[0m \u001b[38;5;124;03m    the mode that the card operates in\u001b[39;00m\n\u001b[0;32m    251\u001b[0m \u001b[38;5;124;03m\"\"\"\u001b[39;00m\n\u001b[0;32m    253\u001b[0m \u001b[38;5;28;01mif\u001b[39;00m card_mode \u001b[38;5;129;01mis\u001b[39;00m \u001b[38;5;129;01mnot\u001b[39;00m \u001b[38;5;28;01mNone\u001b[39;00m:\n\u001b[1;32m--> 254\u001b[0m     \u001b[38;5;28;43mself\u001b[39;49m\u001b[38;5;241;43m.\u001b[39;49m\u001b[43mset_i\u001b[49m\u001b[43m(\u001b[49m\u001b[43mSPC_CARDMODE\u001b[49m\u001b[43m,\u001b[49m\u001b[43m \u001b[49m\u001b[43mcard_mode\u001b[49m\u001b[43m)\u001b[49m\n\u001b[0;32m    255\u001b[0m \u001b[38;5;28;01mreturn\u001b[39;00m \u001b[38;5;28mself\u001b[39m\u001b[38;5;241m.\u001b[39mget_i(SPC_CARDMODE)\n",
      "File \u001b[1;32m~\\code\\spcm\\src\\spcm\\classes_device.py:440\u001b[0m, in \u001b[0;36mDevice.set_i\u001b[1;34m(self, register, value)\u001b[0m\n\u001b[0;32m    428\u001b[0m \u001b[38;5;250m\u001b[39m\u001b[38;5;124;03m\"\"\"\u001b[39;00m\n\u001b[0;32m    429\u001b[0m \u001b[38;5;124;03mWrite the value of a specific register to the card (see the user manual of your device for all the available registers)\u001b[39;00m\n\u001b[0;32m    430\u001b[0m \u001b[38;5;124;03m\u001b[39;00m\n\u001b[1;32m   (...)\u001b[0m\n\u001b[0;32m    436\u001b[0m \u001b[38;5;124;03m    The value that is written to the card.\u001b[39;00m\n\u001b[0;32m    437\u001b[0m \u001b[38;5;124;03m\"\"\"\u001b[39;00m\n\u001b[0;32m    439\u001b[0m \u001b[38;5;28mself\u001b[39m\u001b[38;5;241m.\u001b[39m_check_closed()\n\u001b[1;32m--> 440\u001b[0m \u001b[38;5;28;43mself\u001b[39;49m\u001b[38;5;241;43m.\u001b[39;49m\u001b[43m_check_error\u001b[49m\u001b[43m(\u001b[49m\u001b[43mspcm_dwSetParam_i64\u001b[49m\u001b[43m(\u001b[49m\u001b[38;5;28;43mself\u001b[39;49m\u001b[38;5;241;43m.\u001b[39;49m\u001b[43m_handle\u001b[49m\u001b[43m,\u001b[49m\u001b[43m \u001b[49m\u001b[43mregister\u001b[49m\u001b[43m,\u001b[49m\u001b[43m \u001b[49m\u001b[43mvalue\u001b[49m\u001b[43m)\u001b[49m\u001b[43m)\u001b[49m\n",
      "File \u001b[1;32m~\\code\\spcm\\src\\spcm\\classes_device.py:498\u001b[0m, in \u001b[0;36mDevice._check_error\u001b[1;34m(self, dwErr)\u001b[0m\n\u001b[0;32m    496\u001b[0m \u001b[38;5;28;01mif\u001b[39;00m dwErr \u001b[38;5;129;01mnot\u001b[39;00m \u001b[38;5;129;01min\u001b[39;00m [ERR_OK, ERR_TIMEOUT] \u001b[38;5;129;01mand\u001b[39;00m \u001b[38;5;28mself\u001b[39m\u001b[38;5;241m.\u001b[39m_throw_error:\n\u001b[0;32m    497\u001b[0m     \u001b[38;5;28mself\u001b[39m\u001b[38;5;241m.\u001b[39mget_error_info()\n\u001b[1;32m--> 498\u001b[0m     \u001b[38;5;28;01mraise\u001b[39;00m SpcmException(\u001b[38;5;28mself\u001b[39m\u001b[38;5;241m.\u001b[39m_last_error)\n\u001b[0;32m    499\u001b[0m \u001b[38;5;28;01melif\u001b[39;00m dwErr \u001b[38;5;241m==\u001b[39m ERR_TIMEOUT:\n\u001b[0;32m    500\u001b[0m     \u001b[38;5;28;01mraise\u001b[39;00m SpcmTimeout(\u001b[38;5;124m\"\u001b[39m\u001b[38;5;124mA card timeout occured\u001b[39m\u001b[38;5;124m\"\u001b[39m)\n",
      "\u001b[1;31mSpcmException\u001b[0m: "
     ]
    }
   ],
   "source": [
    "import spcm\n",
    "from spcm import units\n",
    "import numpy as np\n",
    "\n",
    "# card : spcm.Card\n",
    "\n",
    "ip = 'TCPIP::192.168.1.83::INSTR'\n",
    "\n",
    "card = spcm.Card(ip)\n",
    "\n",
    "card.open(ip)\n",
    "\n",
    "# setup card for DDS\n",
    "card.card_mode(spcm.SPC_REP_STD_DDS)\n",
    "\n",
    "# datat = spcm.DataTransfer(card)\n",
    "\n",
    "# Setup the channels\n",
    "channels = spcm.Channels(card)\n",
    "channels.enable(True)\n",
    "channels.output_load(50 * units.ohm)\n",
    "channels.amp(1. * units.V)\n",
    "card.write_setup()\n",
    "\n",
    "# trigger mode\n",
    "trigger = spcm.Trigger(card)\n",
    "trigger.or_mask(spcm.SPC_TMASK_EXT0) # disable default software trigger\n",
    "trigger.ext0_mode(spcm.SPC_TM_POS) # positive edge\n",
    "trigger.ext0_level0(1.5 * units.V) # Trigger level is 1.5 V (1500 mV)\n",
    "trigger.ext0_coupling(spcm.COUPLING_DC) # set DC coupling\n",
    "card.write_setup()\n",
    "\n",
    "# Setup DDS functionality\n",
    "dds = spcm.DDSCommandList(card)\n",
    "# dds = spcm.DDS(card)\n",
    "dds.reset()\n",
    "\n",
    "dds.data_transfer_mode(spcm.SPCM_DDS_DTM_DMA)\n",
    "\n",
    "dds.trg_src(spcm.SPCM_DDS_TRG_SRC_CARD)\n",
    "# dds.phase_behaviour(0)\n",
    "\n",
    "core_list = [hex(2**n) for n in range(20)]\n",
    "\n",
    "# dds.mode = dds.WRITE_MODE.WAIT_IF_FULL\n",
    "\n",
    "dds.write_to_card()\n",
    "\n",
    "card.start(spcm.M2CMD_CARD_ENABLETRIGGER)"
   ]
  },
  {
   "cell_type": "code",
   "execution_count": 10,
   "metadata": {},
   "outputs": [
    {
     "name": "stdout",
     "output_type": "stream",
     "text": [
      "1250000000\n",
      "1250000000\n"
     ]
    }
   ],
   "source": [
    "clk = spcm.Clock(card)\n",
    "print(clk.sample_rate())\n",
    "print(clk.max_sample_rate())"
   ]
  },
  {
   "cell_type": "code",
   "execution_count": 21,
   "metadata": {},
   "outputs": [
    {
     "data": {
      "text/plain": [
       "5e-06"
      ]
     },
     "execution_count": 21,
     "metadata": {},
     "output_type": "execute_result"
    }
   ],
   "source": [
    "1/(200.e3)"
   ]
  },
  {
   "cell_type": "code",
   "execution_count": 3,
   "metadata": {},
   "outputs": [],
   "source": [
    "def split_array(f_split = 2.4e6, f_width_single_side = 4.e6, n_per_side = 4):\n",
    "    f_center = 74.8e6\n",
    "    # array1 = np.linspace( f_center-f_split/2-f_width_single_side ,f_center-f_split/2,n_per_side)\n",
    "    array1 = f_center - f_split/2 - np.linspace( f_width_single_side , 0. ,n_per_side)\n",
    "    # array2 = np.linspace( f_center+f_split/2+f_width_single_side ,f_center+f_split/2,n_per_side)\n",
    "    array2 = f_center + f_split/2 + np.linspace( 0., f_width_single_side, n_per_side)\n",
    "    # array1 = np.linspace(70.5e6,72.5e6,n)\n",
    "    # array2 = np.linspace(77.5e6,79.5e6,n)\n",
    "    return np.concatenate([array1,array2])\n",
    "\n",
    "def compute_tweezer_1064_phases(n_tweezers,amplitudes):\n",
    "    phase_tweezer_array = np.empty([n_tweezers])\n",
    "    for tweezer_idx in range(n_tweezers):\n",
    "        if tweezer_idx == 0:\n",
    "            phase_tweezer_array[0] = 360\n",
    "        else:\n",
    "            phase_ij = 0\n",
    "            for j in range(1,tweezer_idx):\n",
    "                phase_ij = phase_ij + 2*np.pi*(tweezer_idx - j)*amplitudes[tweezer_idx]\n",
    "            phase_i = (phase_ij % 2*np.pi) * 360\n",
    "            phase_tweezer_array[tweezer_idx] = phase_i\n",
    "    return phase_tweezer_array\n",
    "\n",
    "# f_list = split_array(f_split=2.4e6)\n",
    "f_list = [71.6e6,76.e6,80.e6]\n",
    "# f_list = [73.6e6,76.e6]\n",
    "\n",
    "n_tweezers = len(f_list)\n",
    "\n",
    "# a_list = np.linspace(1/n_tweezers,1/n_tweezers,n_tweezers)\n",
    "# a_list = [.1,.1,.1,.05,.1,.35]\n",
    "a_list = [.48,.33,.18]\n",
    "\n",
    "phases = compute_tweezer_1064_phases(len(f_list),a_list)\n",
    "\n",
    "def normalize_alist(alist):\n",
    "    sum = np.sum(alist)\n",
    "    return a_list/sum\n",
    "a_list = normalize_alist(a_list)\n",
    "\n",
    "for tweezer_idx in range(len(core_list)):\n",
    "    if tweezer_idx < len(f_list):\n",
    "        dds[tweezer_idx].amp(a_list[tweezer_idx])\n",
    "        dds[tweezer_idx].freq(f_list[tweezer_idx])\n",
    "        dds[tweezer_idx].phase(phases[tweezer_idx])\n",
    "    else:\n",
    "        dds[tweezer_idx].amp(0.)\n",
    "\n",
    "dds.exec_at_trg()\n",
    "dds.write_to_card()\n",
    "dds.write()\n",
    "trigger.force()"
   ]
  },
  {
   "cell_type": "code",
   "execution_count": 4,
   "metadata": {},
   "outputs": [],
   "source": [
    "# compute tweezer movement params\n",
    "dpf = 5.7e-12 # m per Hz\n",
    "\n",
    "# which tweezer (give idx of desired tone in f_list)\n",
    "which_tweezer = 0\n",
    "\n",
    "# amplitude\n",
    "amp = 1.e6 # Hz\n",
    "\n",
    "# mod frequency Hz\n",
    "f_mod = 200.e3\n",
    "\n",
    "# how long to modulate for\n",
    "t_total = .01\n",
    "\n",
    "dt = .5e-6\n",
    "\n",
    "# functional form\n",
    "def sin(t,amplitude,frequency):\n",
    "    return amplitude*np.sin(2*np.pi*frequency*t)\n",
    "\n",
    "dts = np.linspace(0,t_total,int(t_total/dt))\n",
    "\n",
    "slopes = np.diff(sin(dts,amp,f_mod)) / dt\n",
    "\n",
    "stop_array = np.array([0.])\n",
    "\n",
    "slopes = np.concatenate([slopes,stop_array])"
   ]
  },
  {
   "cell_type": "code",
   "execution_count": 4,
   "metadata": {},
   "outputs": [
    {
     "name": "stdout",
     "output_type": "stream",
     "text": [
      "200000\n"
     ]
    }
   ],
   "source": [
    "print(len(slopes))"
   ]
  },
  {
   "cell_type": "code",
   "execution_count": 5,
   "metadata": {},
   "outputs": [],
   "source": [
    "dds.trg_src(spcm.SPCM_DDS_TRG_SRC_TIMER)\n",
    "dds.trg_timer(dt)\n",
    "dds.exec_at_trg()\n",
    "dds.write_to_card()\n",
    "\n",
    "dds.load({spcm.SPC_DDS_CORE0_FREQ_SLOPE:slopes},exec_mode=spcm.SPCM_DDS_CMD_EXEC_AT_TRG, repeat=1)\n",
    "\n",
    "dds.write()\n",
    "\n",
    "dds.mode = dds.WRITE_MODE.WAIT_IF_FULL\n",
    "\n",
    "# dds.frequency_slope(0,0.)\n",
    "dds.trg_src(spcm.SPCM_DDS_TRG_SRC_CARD)\n",
    "dds.exec_at_trg()\n",
    "dds.write_to_card()\n",
    "\n",
    "dds.write()"
   ]
  },
  {
   "cell_type": "code",
   "execution_count": 8,
   "metadata": {},
   "outputs": [],
   "source": [
    "# execute single movement\n",
    "\n",
    "# start trigger timer, which outputs trigger events at a given rate\n",
    "dds.trg_src(spcm.SPCM_DDS_TRG_SRC_TIMER)\n",
    "dds.trg_timer(dt)\n",
    "dds.exec_at_trg()\n",
    "# dds.write_to_card()\n",
    "\n",
    "# write slopes to card\n",
    "for slope in slopes:\n",
    "    dds.frequency_slope(which_tweezer,slope)\n",
    "    dds.exec_at_trg()\n",
    "# dds.write_to_card()\n",
    "dds.frequency_slope(which_tweezer,0.)\n",
    "# reset trigger mode to external at the end\n",
    "dds.trg_src(spcm.SPCM_DDS_TRG_SRC_CARD)\n",
    "dds.exec_at_trg()\n",
    "dds.write_to_card()\n"
   ]
  },
  {
   "cell_type": "code",
   "execution_count": 10,
   "metadata": {},
   "outputs": [],
   "source": [
    "trigger.force()"
   ]
  },
  {
   "cell_type": "code",
   "execution_count": 6,
   "metadata": {},
   "outputs": [],
   "source": [
    "# card.close(card._handle)\n",
    "card.stop()\n",
    "\n",
    "card.close(card._handle)"
   ]
  }
 ],
 "metadata": {
  "kernelspec": {
   "display_name": "kpy",
   "language": "python",
   "name": "python3"
  },
  "language_info": {
   "codemirror_mode": {
    "name": "ipython",
    "version": 3
   },
   "file_extension": ".py",
   "mimetype": "text/x-python",
   "name": "python",
   "nbconvert_exporter": "python",
   "pygments_lexer": "ipython3",
   "version": "3.10.11"
  }
 },
 "nbformat": 4,
 "nbformat_minor": 2
}
