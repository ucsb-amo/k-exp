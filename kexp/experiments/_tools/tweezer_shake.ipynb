{
 "cells": [
  {
   "cell_type": "code",
   "execution_count": 2,
   "metadata": {},
   "outputs": [],
   "source": [
    "import spcm\n",
    "from spcm import units\n",
    "import numpy as np\n",
    "\n",
    "# card : spcm.Card\n",
    "\n",
    "ip = 'TCPIP::192.168.1.83::INSTR'\n",
    "\n",
    "card = spcm.Card(ip)\n",
    "\n",
    "card.open(ip)\n",
    "\n",
    "# setup card for DDS\n",
    "card.card_mode(spcm.SPC_REP_STD_DDS)\n",
    "\n",
    "# datat = spcm.DataTransfer(card)\n",
    "\n",
    "# Setup the channels\n",
    "channels = spcm.Channels(card)\n",
    "channels.enable(True)\n",
    "channels.output_load(50 * units.ohm)\n",
    "channels.amp(1. * units.V)\n",
    "card.write_setup()\n",
    "\n",
    "# trigger mode\n",
    "trigger = spcm.Trigger(card)\n",
    "trigger.or_mask(spcm.SPC_TMASK_EXT0) # disable default software trigger\n",
    "trigger.ext0_mode(spcm.SPC_TM_POS) # positive edge\n",
    "trigger.ext0_level0(1.5 * units.V) # Trigger level is 1.5 V (1500 mV)\n",
    "trigger.ext0_coupling(spcm.COUPLING_DC) # set DC coupling\n",
    "card.write_setup()\n",
    "\n",
    "# Setup DDS functionality\n",
    "dds = spcm.DDSCommandList(card)\n",
    "# dds = spcm.DDS(card)\n",
    "dds.reset()\n",
    "\n",
    "dds.data_transfer_mode(spcm.SPCM_DDS_DTM_DMA)\n",
    "\n",
    "dds.trg_src(spcm.SPCM_DDS_TRG_SRC_CARD)\n",
    "# dds.phase_behaviour(0)\n",
    "\n",
    "core_list = [hex(2**n) for n in range(20)]\n",
    "\n",
    "# dds.mode = dds.WRITE_MODE.WAIT_IF_FULL\n",
    "\n",
    "dds.write_to_card()\n",
    "\n",
    "card.start(spcm.M2CMD_CARD_ENABLETRIGGER)"
   ]
  },
  {
   "cell_type": "code",
   "execution_count": 10,
   "metadata": {},
   "outputs": [
    {
     "name": "stdout",
     "output_type": "stream",
     "text": [
      "1250000000\n",
      "1250000000\n"
     ]
    }
   ],
   "source": [
    "clk = spcm.Clock(card)\n",
    "print(clk.sample_rate())\n",
    "print(clk.max_sample_rate())"
   ]
  },
  {
   "cell_type": "code",
   "execution_count": 21,
   "metadata": {},
   "outputs": [
    {
     "data": {
      "text/plain": [
       "5e-06"
      ]
     },
     "execution_count": 21,
     "metadata": {},
     "output_type": "execute_result"
    }
   ],
   "source": [
    "1/(200.e3)"
   ]
  },
  {
   "cell_type": "code",
   "execution_count": 3,
   "metadata": {},
   "outputs": [],
   "source": [
    "def split_array(f_split = 2.4e6, f_width_single_side = 4.e6, n_per_side = 4):\n",
    "    f_center = 74.8e6\n",
    "    # array1 = np.linspace( f_center-f_split/2-f_width_single_side ,f_center-f_split/2,n_per_side)\n",
    "    array1 = f_center - f_split/2 - np.linspace( f_width_single_side , 0. ,n_per_side)\n",
    "    # array2 = np.linspace( f_center+f_split/2+f_width_single_side ,f_center+f_split/2,n_per_side)\n",
    "    array2 = f_center + f_split/2 + np.linspace( 0., f_width_single_side, n_per_side)\n",
    "    # array1 = np.linspace(70.5e6,72.5e6,n)\n",
    "    # array2 = np.linspace(77.5e6,79.5e6,n)\n",
    "    return np.concatenate([array1,array2])\n",
    "\n",
    "def compute_tweezer_1064_phases(n_tweezers,amplitudes):\n",
    "    phase_tweezer_array = np.empty([n_tweezers])\n",
    "    for tweezer_idx in range(n_tweezers):\n",
    "        if tweezer_idx == 0:\n",
    "            phase_tweezer_array[0] = 360\n",
    "        else:\n",
    "            phase_ij = 0\n",
    "            for j in range(1,tweezer_idx):\n",
    "                phase_ij = phase_ij + 2*np.pi*(tweezer_idx - j)*amplitudes[tweezer_idx]\n",
    "            phase_i = (phase_ij % 2*np.pi) * 360\n",
    "            phase_tweezer_array[tweezer_idx] = phase_i\n",
    "    return phase_tweezer_array\n",
    "\n",
    "# f_list = split_array(f_split=2.4e6)\n",
    "f_list = [71.6e6,76.e6,80.e6]\n",
    "# f_list = [73.6e6,76.e6]\n",
    "\n",
    "n_tweezers = len(f_list)\n",
    "\n",
    "# a_list = np.linspace(1/n_tweezers,1/n_tweezers,n_tweezers)\n",
    "# a_list = [.1,.1,.1,.05,.1,.35]\n",
    "a_list = [.48,.33,.18]\n",
    "\n",
    "phases = compute_tweezer_1064_phases(len(f_list),a_list)\n",
    "\n",
    "def normalize_alist(alist):\n",
    "    sum = np.sum(alist)\n",
    "    return a_list/sum\n",
    "a_list = normalize_alist(a_list)\n",
    "\n",
    "for tweezer_idx in range(len(core_list)):\n",
    "    if tweezer_idx < len(f_list):\n",
    "        dds[tweezer_idx].amp(a_list[tweezer_idx])\n",
    "        dds[tweezer_idx].freq(f_list[tweezer_idx])\n",
    "        dds[tweezer_idx].phase(phases[tweezer_idx])\n",
    "    else:\n",
    "        dds[tweezer_idx].amp(0.)\n",
    "\n",
    "dds.exec_at_trg()\n",
    "dds.write_to_card()\n",
    "dds.write()\n",
    "trigger.force()"
   ]
  },
  {
   "cell_type": "code",
   "execution_count": 4,
   "metadata": {},
   "outputs": [],
   "source": [
    "# compute tweezer movement params\n",
    "dpf = 5.7e-12 # m per Hz\n",
    "\n",
    "# which tweezer (give idx of desired tone in f_list)\n",
    "which_tweezer = 0\n",
    "\n",
    "# amplitude\n",
    "amp = 1.e6 # Hz\n",
    "\n",
    "# mod frequency Hz\n",
    "f_mod = 200.e3\n",
    "\n",
    "# how long to modulate for\n",
    "t_total = .01\n",
    "\n",
    "dt = .5e-6\n",
    "\n",
    "# functional form\n",
    "def sin(t,amplitude,frequency):\n",
    "    return amplitude*np.sin(2*np.pi*frequency*t)\n",
    "\n",
    "dts = np.linspace(0,t_total,int(t_total/dt))\n",
    "\n",
    "slopes = np.diff(sin(dts,amp,f_mod)) / dt\n",
    "\n",
    "stop_array = np.array([0.])\n",
    "\n",
    "slopes = np.concatenate([slopes,stop_array])"
   ]
  },
  {
   "cell_type": "code",
   "execution_count": 4,
   "metadata": {},
   "outputs": [
    {
     "name": "stdout",
     "output_type": "stream",
     "text": [
      "200000\n"
     ]
    }
   ],
   "source": [
    "print(len(slopes))"
   ]
  },
  {
   "cell_type": "code",
   "execution_count": 5,
   "metadata": {},
   "outputs": [],
   "source": [
    "dds.trg_src(spcm.SPCM_DDS_TRG_SRC_TIMER)\n",
    "dds.trg_timer(dt)\n",
    "dds.exec_at_trg()\n",
    "dds.write_to_card()\n",
    "\n",
    "dds.load({spcm.SPC_DDS_CORE0_FREQ_SLOPE:slopes},exec_mode=spcm.SPCM_DDS_CMD_EXEC_AT_TRG, repeat=1)\n",
    "\n",
    "dds.write()\n",
    "\n",
    "dds.mode = dds.WRITE_MODE.WAIT_IF_FULL\n",
    "\n",
    "# dds.frequency_slope(0,0.)\n",
    "dds.trg_src(spcm.SPCM_DDS_TRG_SRC_CARD)\n",
    "dds.exec_at_trg()\n",
    "dds.write_to_card()\n",
    "\n",
    "dds.write()"
   ]
  },
  {
   "cell_type": "code",
   "execution_count": 8,
   "metadata": {},
   "outputs": [],
   "source": [
    "# execute single movement\n",
    "\n",
    "# start trigger timer, which outputs trigger events at a given rate\n",
    "dds.trg_src(spcm.SPCM_DDS_TRG_SRC_TIMER)\n",
    "dds.trg_timer(dt)\n",
    "dds.exec_at_trg()\n",
    "# dds.write_to_card()\n",
    "\n",
    "# write slopes to card\n",
    "for slope in slopes:\n",
    "    dds.frequency_slope(which_tweezer,slope)\n",
    "    dds.exec_at_trg()\n",
    "# dds.write_to_card()\n",
    "dds.frequency_slope(which_tweezer,0.)\n",
    "# reset trigger mode to external at the end\n",
    "dds.trg_src(spcm.SPCM_DDS_TRG_SRC_CARD)\n",
    "dds.exec_at_trg()\n",
    "dds.write_to_card()\n"
   ]
  },
  {
   "cell_type": "code",
   "execution_count": 10,
   "metadata": {},
   "outputs": [],
   "source": [
    "trigger.force()"
   ]
  },
  {
   "cell_type": "code",
   "execution_count": 6,
   "metadata": {},
   "outputs": [],
   "source": [
    "# card.close(card._handle)\n",
    "card.stop()\n",
    "\n",
    "card.close(card._handle)"
   ]
  }
 ],
 "metadata": {
  "kernelspec": {
   "display_name": "kpy",
   "language": "python",
   "name": "python3"
  },
  "language_info": {
   "codemirror_mode": {
    "name": "ipython",
    "version": 3
   },
   "file_extension": ".py",
   "mimetype": "text/x-python",
   "name": "python",
   "nbconvert_exporter": "python",
   "pygments_lexer": "ipython3",
   "version": "3.10.11"
  }
 },
 "nbformat": 4,
 "nbformat_minor": 2
}
