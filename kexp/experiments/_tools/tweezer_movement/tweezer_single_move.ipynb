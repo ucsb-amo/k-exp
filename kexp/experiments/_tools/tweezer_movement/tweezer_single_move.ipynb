{
 "cells": [
  {
   "cell_type": "code",
   "execution_count": 2,
   "metadata": {},
   "outputs": [],
   "source": [
    "import spcm\n",
    "from spcm import units\n",
    "import numpy as np\n",
    "import time\n",
    "\n",
    "# card : spcm.Card\n",
    "\n",
    "ip = 'TCPIP::192.168.1.83::INSTR'\n",
    "\n",
    "card = spcm.Card(ip)\n",
    "\n",
    "card.open(ip)\n",
    "\n",
    "# setup card for DDS\n",
    "card.card_mode(spcm.SPC_REP_STD_DDS)\n",
    "\n",
    "datat = spcm.DataTransfer(card)\n",
    "\n",
    "\n",
    "# Setup the channels\n",
    "channels = spcm.Channels(card)\n",
    "channels.enable(True)\n",
    "channels.output_load(50 * units.ohm)\n",
    "channels.amp(1. * units.V)\n",
    "card.write_setup()\n",
    "\n",
    "# trigger mode\n",
    "trigger = spcm.Trigger(card)\n",
    "trigger.or_mask(spcm.SPC_TMASK_EXT0) # disable default software trigger\n",
    "trigger.ext0_mode(spcm.SPC_TM_POS) # positive edge\n",
    "trigger.ext0_level0(1.5 * units.V) # Trigger level is 1.5 V (1500 mV)\n",
    "trigger.ext0_coupling(spcm.COUPLING_DC) # set DC coupling\n",
    "card.write_setup()\n",
    "\n",
    "# Setup DDS functionality\n",
    "# dds = spcm.DDS(card, channels=channels)\n",
    "dds = spcm.DDSCommandList(card)\n",
    "dds.reset()\n",
    "\n",
    "dds.data_transfer_mode(spcm.SPCM_DDS_DTM_DMA)\n",
    "dds.mode = dds.WRITE_MODE.WAIT_IF_FULL\n",
    "\n",
    "dds.trg_src(spcm.SPCM_DDS_TRG_SRC_CARD)\n",
    "# dds.phase_behaviour(0)\n",
    "\n",
    "core_list = [hex(2**n) for n in range(20)]\n",
    "\n",
    "dds.write_to_card()\n",
    "\n",
    "card.start(spcm.M2CMD_CARD_ENABLETRIGGER)"
   ]
  },
  {
   "cell_type": "code",
   "execution_count": 4,
   "metadata": {},
   "outputs": [],
   "source": [
    "def split_array(f_split = 2.4e6, f_width_single_side = 4.e6, n_per_side = 4):\n",
    "    f_center = 74.8e6\n",
    "    # array1 = np.linspace( f_center-f_split/2-f_width_single_side ,f_center-f_split/2,n_per_side)\n",
    "    array1 = f_center - f_split/2 - np.linspace( f_width_single_side, 0. ,n_per_side)\n",
    "    # array2 = np.linspace( f_center+f_split/2+f_width_single_side ,f_center+f_split/2,n_per_side)\n",
    "    array2 = f_center + f_split/2 + np.linspace( 0., f_width_single_side ,n_per_side)\n",
    "    # array1 = np.linspace(70.5e6,72.5e6,n)\n",
    "    # array2 = np.linspace(77.5e6,79.5e6,n)\n",
    "    return np.concatenate([array1,array2])\n",
    "\n",
    "def compute_tweezer_1064_phases(n_tweezers,amplitudes):\n",
    "    phase_tweezer_array = np.empty([n_tweezers])\n",
    "    for tweezer_idx in range(n_tweezers):\n",
    "        if tweezer_idx == 0:\n",
    "            phase_tweezer_array[0] = 360\n",
    "        else:\n",
    "            phase_ij = 0\n",
    "            for j in range(1,tweezer_idx):\n",
    "                phase_ij = phase_ij + 2*np.pi*(tweezer_idx - j)*amplitudes[tweezer_idx]\n",
    "            phase_i = (phase_ij % 2*np.pi) * 360\n",
    "            phase_tweezer_array[tweezer_idx] = phase_i\n",
    "    return phase_tweezer_array\n",
    "\n",
    "# f_list = split_array(f_split=2.4e6)\n",
    "f_list = [71.6e6,76.e6,80.e6]\n",
    "# f_list = [73.6e6,76.e6]\n",
    "\n",
    "n_tweezers = len(f_list)\n",
    "\n",
    "# a_list = np.linspace(1/n_tweezers,1/n_tweezers,n_tweezers)\n",
    "# a_list = [.1,.1,.1,.05,.1,.35]\n",
    "a_list = [.48,.33,.18]\n",
    "\n",
    "phases = compute_tweezer_1064_phases(len(f_list),a_list)\n",
    "\n",
    "def normalize_alist(alist):\n",
    "    sum = np.sum(alist)\n",
    "    return a_list/sum\n",
    "a_list = normalize_alist(a_list)\n",
    "\n",
    "for tweezer_idx in range(len(core_list)):\n",
    "    if tweezer_idx < len(f_list):\n",
    "        dds[tweezer_idx].amp(a_list[tweezer_idx])\n",
    "        dds[tweezer_idx].freq(f_list[tweezer_idx])\n",
    "        dds[tweezer_idx].phase(phases[tweezer_idx])\n",
    "        dds[tweezer_idx].frequency_slope(0.)\n",
    "    else:\n",
    "        dds[tweezer_idx].amp(0.)\n",
    "dds.exec_at_trg()\n",
    "# dds.write_to_card()\n",
    "dds.write()\n",
    "trigger.force()"
   ]
  },
  {
   "cell_type": "code",
   "execution_count": 38,
   "metadata": {},
   "outputs": [
    {
     "name": "stdout",
     "output_type": "stream",
     "text": [
      "14740.772555058715\n",
      "4999\n"
     ]
    }
   ],
   "source": [
    "# compute tweezer movement params\n",
    "dpf = 5.7e-12 # m per Hz\n",
    "\n",
    "# which tweezer (give idx of desired tone in f_list)\n",
    "which_tweezer = 0\n",
    "\n",
    "# how far to move?\n",
    "x_move = 7.e-6 # m\n",
    "\n",
    "# in what time?\n",
    "t_move = 50.e-3\n",
    "\n",
    "# how many steps?\n",
    "# n_steps = 100\n",
    "\n",
    "dt = 10.e-6\n",
    "\n",
    "# functional form\n",
    "def cubic_move(t,distance,total_time):\n",
    "    A = -2*distance / total_time**3\n",
    "    B = 3*distance / total_time**2\n",
    "    return A*t**3 + B*t**2\n",
    "\n",
    "dts = np.linspace(0,t_move,int(t_move/dt))\n",
    "\n",
    "# slopes = np.zeros([n_steps],dtype=float)\n",
    "\n",
    "slopes = np.diff(cubic_move(dts,x_move,t_move)) / (dt*dpf)\n",
    "\n",
    "# for step in range(1,n_steps):\n",
    "#     slopes[step-1] = (cubic_move(dt*(step),x_move,t_move) - cubic_move(dt*(step-1),x_move,t_move)) / (dt*dpf)\n",
    "\n",
    "slopes_opposite = -1.*slopes\n",
    "print(slopes[-1])\n",
    "print(len(slopes))\n",
    "zero_array = np.array([0])\n",
    "slopes = np.concatenate([slopes,zero_array])"
   ]
  },
  {
   "cell_type": "code",
   "execution_count": 49,
   "metadata": {},
   "outputs": [
    {
     "name": "stdout",
     "output_type": "stream",
     "text": [
      "0.008970022201538086\n"
     ]
    }
   ],
   "source": [
    "# execute single move\n",
    "\n",
    "t0 = time.time()\n",
    "\n",
    "# start trigger timer, which outputs trigger events at a given rate\n",
    "dds.trg_src(spcm.SPCM_DDS_TRG_SRC_TIMER)\n",
    "dds.trg_timer(dt)\n",
    "dds.exec_at_trg()\n",
    "dds.write()\n",
    "\n",
    "t1 = time.time()\n",
    "# write slopes to card\n",
    "for slope in slopes:\n",
    "    dds.frequency_slope(which_tweezer,slope)\n",
    "    dds.exec_at_trg()\n",
    "dds.write()\n",
    "\n",
    "\n",
    "# reset trigger mode to external at the end\n",
    "dds.trg_src(spcm.SPCM_DDS_TRG_SRC_CARD)\n",
    "dds.exec_at_trg()\n",
    "# dds.write_to_card()\n",
    "dds.write()\n",
    "print(time.time()-t1)\n"
   ]
  },
  {
   "cell_type": "code",
   "execution_count": 43,
   "metadata": {},
   "outputs": [
    {
     "name": "stdout",
     "output_type": "stream",
     "text": [
      "0.04657626152038574\n",
      "0.06989455223083496\n",
      "0.09207797050476074\n"
     ]
    }
   ],
   "source": [
    "dds.trg_src(spcm.SPCM_DDS_TRG_SRC_TIMER)\n",
    "dds.trg_timer(dt)\n",
    "dds.exec_at_trg()\n",
    "dds.write()\n",
    "\n",
    "# dds.load({spcm.SPC_DDS_CORE0_FREQ_SLOPE:slopes},exec_mode=spcm.SPCM_DDS_CMD_EXEC_AT_TRG,repeat=1)\n",
    "# dds.write()\n",
    "\n",
    "write_every = 2000\n",
    "\n",
    "t1 = time.time()\n",
    "for slope_idx in range(len(slopes)):\n",
    "    dds.frequency_slope(which_tweezer,slope)\n",
    "    dds.exec_at_trg()\n",
    "    if slope_idx != 0 and slope_idx % write_every == 0:\n",
    "        dds.write()\n",
    "        print(time.time()-t1)\n",
    "dds.write()\n",
    "# print(time.time()-t1)\n",
    "\n",
    "dds.trg_src(spcm.SPCM_DDS_TRG_SRC_CARD)\n",
    "dds.exec_at_trg()\n",
    "dds.write()\n",
    "print(time.time()-t1)"
   ]
  },
  {
   "cell_type": "code",
   "execution_count": 42,
   "metadata": {},
   "outputs": [],
   "source": [
    "trigger.force()"
   ]
  },
  {
   "cell_type": "code",
   "execution_count": 21,
   "metadata": {},
   "outputs": [],
   "source": [
    "for tweezer_idx in range(len(core_list)):\n",
    "    if tweezer_idx < len(f_list):\n",
    "        dds[tweezer_idx].amp(a_list[tweezer_idx])\n",
    "        dds[tweezer_idx].freq(f_list[tweezer_idx])\n",
    "        dds[tweezer_idx].phase(phases[tweezer_idx])\n",
    "        dds[tweezer_idx].frequency_slope(0.)\n",
    "    else:\n",
    "        dds[tweezer_idx].amp(0.)\n",
    "dds.exec_at_trg()\n",
    "dds.write()"
   ]
  },
  {
   "cell_type": "code",
   "execution_count": 32,
   "metadata": {},
   "outputs": [
    {
     "name": "stdout",
     "output_type": "stream",
     "text": [
      "None\n",
      "data transfer mode =  1\n",
      "max number of commands =  4096\n",
      "current number of commands =  0\n",
      "16777216\n",
      "16384\n"
     ]
    }
   ],
   "source": [
    "print(datat.buffer)\n",
    "print('data transfer mode = ', dds.get_data_transfer_mode())\n",
    "print('max number of commands = ', dds.queue_cmd_max())\n",
    "print('current number of commands = ', dds.queue_cmd_count())\n",
    "print(dds.avail_user_len())\n",
    "print(dds.list_size)"
   ]
  },
  {
   "cell_type": "code",
   "execution_count": 19,
   "metadata": {},
   "outputs": [],
   "source": [
    "# move back to starting position\n",
    "\n",
    "# start trigger timer, which outputs trigger events at a given rate\n",
    "dds.trg_src(spcm.SPCM_DDS_TRG_SRC_TIMER)\n",
    "dds.trg_timer(dt)\n",
    "dds.exec_at_trg()\n",
    "dds.write_to_card()\n",
    "\n",
    "# write slopes to card\n",
    "for slope in slopes_opposite:\n",
    "    dds.frequency_slope(which_tweezer,slope)\n",
    "    dds.exec_at_trg()\n",
    "dds.write_to_card()\n",
    "\n",
    "# reset trigger mode to external at the end\n",
    "dds.trg_src(spcm.SPCM_DDS_TRG_SRC_CARD)\n",
    "dds.exec_at_trg()\n",
    "dds.write_to_card()"
   ]
  },
  {
   "cell_type": "code",
   "execution_count": 6,
   "metadata": {},
   "outputs": [
    {
     "ename": "OSError",
     "evalue": "exception: access violation writing 0x0000000000000024",
     "output_type": "error",
     "traceback": [
      "\u001b[1;31m---------------------------------------------------------------------------\u001b[0m",
      "\u001b[1;31mOSError\u001b[0m                                   Traceback (most recent call last)",
      "Cell \u001b[1;32mIn[6], line 2\u001b[0m\n\u001b[0;32m      1\u001b[0m \u001b[38;5;66;03m# card.close(card._handle)\u001b[39;00m\n\u001b[1;32m----> 2\u001b[0m \u001b[43mcard\u001b[49m\u001b[38;5;241;43m.\u001b[39;49m\u001b[43mstop\u001b[49m\u001b[43m(\u001b[49m\u001b[43m)\u001b[49m\n\u001b[0;32m      4\u001b[0m card\u001b[38;5;241m.\u001b[39mclose(card\u001b[38;5;241m.\u001b[39m_handle)\n",
      "File \u001b[1;32m~\\code\\spcm\\src\\spcm\\classes_device.py:321\u001b[0m, in \u001b[0;36mDevice.stop\u001b[1;34m(self, *args)\u001b[0m\n\u001b[0;32m    311\u001b[0m \u001b[38;5;28;01mdef\u001b[39;00m \u001b[38;5;21mstop\u001b[39m(\u001b[38;5;28mself\u001b[39m, \u001b[38;5;241m*\u001b[39margs : \u001b[38;5;28mint\u001b[39m) \u001b[38;5;241m-\u001b[39m\u001b[38;5;241m>\u001b[39m \u001b[38;5;28;01mNone\u001b[39;00m:\n\u001b[0;32m    312\u001b[0m \u001b[38;5;250m    \u001b[39m\u001b[38;5;124;03m\"\"\"\u001b[39;00m\n\u001b[0;32m    313\u001b[0m \u001b[38;5;124;03m    Stops the connected card (see command `M2CMD_CARD_STOP` in the manual)\u001b[39;00m\n\u001b[0;32m    314\u001b[0m \n\u001b[1;32m   (...)\u001b[0m\n\u001b[0;32m    318\u001b[0m \u001b[38;5;124;03m        flags that are send together with the stop command (e.g. M2CMD_DATA_STOPDMA)\u001b[39;00m\n\u001b[0;32m    319\u001b[0m \u001b[38;5;124;03m    \"\"\"\u001b[39;00m\n\u001b[1;32m--> 321\u001b[0m     \u001b[38;5;28;43mself\u001b[39;49m\u001b[38;5;241;43m.\u001b[39;49m\u001b[43mcmd\u001b[49m\u001b[43m(\u001b[49m\u001b[43mM2CMD_CARD_STOP\u001b[49m\u001b[43m,\u001b[49m\u001b[43m \u001b[49m\u001b[38;5;241;43m*\u001b[39;49m\u001b[43margs\u001b[49m\u001b[43m)\u001b[49m\n",
      "File \u001b[1;32m~\\code\\spcm\\src\\spcm\\classes_device.py:274\u001b[0m, in \u001b[0;36mDevice.cmd\u001b[1;34m(self, *args)\u001b[0m\n\u001b[0;32m    272\u001b[0m \u001b[38;5;28;01mfor\u001b[39;00m arg \u001b[38;5;129;01min\u001b[39;00m args:\n\u001b[0;32m    273\u001b[0m     cmd \u001b[38;5;241m|\u001b[39m\u001b[38;5;241m=\u001b[39m arg\n\u001b[1;32m--> 274\u001b[0m \u001b[38;5;28;43mself\u001b[39;49m\u001b[38;5;241;43m.\u001b[39;49m\u001b[43mset_i\u001b[49m\u001b[43m(\u001b[49m\u001b[43mSPC_M2CMD\u001b[49m\u001b[43m,\u001b[49m\u001b[43m \u001b[49m\u001b[43mcmd\u001b[49m\u001b[43m)\u001b[49m\n",
      "File \u001b[1;32m~\\code\\spcm\\src\\spcm\\classes_device.py:440\u001b[0m, in \u001b[0;36mDevice.set_i\u001b[1;34m(self, register, value)\u001b[0m\n\u001b[0;32m    428\u001b[0m \u001b[38;5;250m\u001b[39m\u001b[38;5;124;03m\"\"\"\u001b[39;00m\n\u001b[0;32m    429\u001b[0m \u001b[38;5;124;03mWrite the value of a specific register to the card (see the user manual of your device for all the available registers)\u001b[39;00m\n\u001b[0;32m    430\u001b[0m \u001b[38;5;124;03m\u001b[39;00m\n\u001b[1;32m   (...)\u001b[0m\n\u001b[0;32m    436\u001b[0m \u001b[38;5;124;03m    The value that is written to the card.\u001b[39;00m\n\u001b[0;32m    437\u001b[0m \u001b[38;5;124;03m\"\"\"\u001b[39;00m\n\u001b[0;32m    439\u001b[0m \u001b[38;5;28mself\u001b[39m\u001b[38;5;241m.\u001b[39m_check_closed()\n\u001b[1;32m--> 440\u001b[0m \u001b[38;5;28mself\u001b[39m\u001b[38;5;241m.\u001b[39m_check_error(\u001b[43mspcm_dwSetParam_i64\u001b[49m\u001b[43m(\u001b[49m\u001b[38;5;28;43mself\u001b[39;49m\u001b[38;5;241;43m.\u001b[39;49m\u001b[43m_handle\u001b[49m\u001b[43m,\u001b[49m\u001b[43m \u001b[49m\u001b[43mregister\u001b[49m\u001b[43m,\u001b[49m\u001b[43m \u001b[49m\u001b[43mvalue\u001b[49m\u001b[43m)\u001b[49m)\n",
      "File \u001b[1;32m~\\code\\spcm\\src\\spcm\\pyspcm.py:345\u001b[0m, in \u001b[0;36mspcm_dwSetParam_i64\u001b[1;34m(hDrv, lReg, Val)\u001b[0m\n\u001b[0;32m    343\u001b[0m \u001b[38;5;28;01mexcept\u001b[39;00m \u001b[38;5;167;01mAttributeError\u001b[39;00m:\n\u001b[0;32m    344\u001b[0m     llVal \u001b[38;5;241m=\u001b[39m int64(Val)\n\u001b[1;32m--> 345\u001b[0m \u001b[38;5;28;01mreturn\u001b[39;00m \u001b[43mspcm_dwSetParam_i64_\u001b[49m\u001b[43m \u001b[49m\u001b[43m(\u001b[49m\u001b[43mhDrv\u001b[49m\u001b[43m,\u001b[49m\u001b[43m \u001b[49m\u001b[43mlReg\u001b[49m\u001b[43m,\u001b[49m\u001b[43m \u001b[49m\u001b[43mllVal\u001b[49m\u001b[43m)\u001b[49m\n",
      "\u001b[1;31mOSError\u001b[0m: exception: access violation writing 0x0000000000000024"
     ]
    }
   ],
   "source": [
    "# card.close(card._handle)\n",
    "card.stop()\n",
    "\n",
    "card.close(card._handle)"
   ]
  }
 ],
 "metadata": {
  "kernelspec": {
   "display_name": "kpy",
   "language": "python",
   "name": "python3"
  },
  "language_info": {
   "codemirror_mode": {
    "name": "ipython",
    "version": 3
   },
   "file_extension": ".py",
   "mimetype": "text/x-python",
   "name": "python",
   "nbconvert_exporter": "python",
   "pygments_lexer": "ipython3",
   "version": "3.10.11"
  },
  "orig_nbformat": 4
 },
 "nbformat": 4,
 "nbformat_minor": 2
}
