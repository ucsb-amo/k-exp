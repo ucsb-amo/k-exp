{
 "cells": [
  {
   "cell_type": "code",
   "execution_count": 1,
   "metadata": {},
   "outputs": [
    {
     "name": "stdout",
     "output_type": "stream",
     "text": [
      "2\n"
     ]
    }
   ],
   "source": [
    "import spcm\n",
    "from spcm import units\n",
    "import numpy as np\n",
    "\n",
    "# card : spcm.Card\n",
    "\n",
    "ip = 'TCPIP::192.168.1.83::INSTR'\n",
    "\n",
    "card = spcm.Card(ip)\n",
    "\n",
    "card.open(ip)\n",
    "\n",
    "# setup card for DDS\n",
    "card.card_mode(spcm.SPC_REP_STD_DDS)\n",
    "\n",
    "# Setup the channels\n",
    "channels = spcm.Channels(card)\n",
    "print(len(channels))\n",
    "channels.enable(True)\n",
    "channels.output_load(50 * units.ohm)\n",
    "channels.amp(1. * units.V)\n",
    "card.write_setup()\n",
    "\n",
    "# trigger mode\n",
    "trigger = spcm.Trigger(card)\n",
    "trigger.or_mask(spcm.SPC_TMASK_EXT0) # disable default software trigger\n",
    "trigger.ext0_mode(spcm.SPC_TM_POS) # positive edge\n",
    "trigger.ext0_level0(1.5 * units.V) # Trigger level is 1.5 V (1500 mV)\n",
    "trigger.ext0_coupling(spcm.COUPLING_DC) # set DC coupling\n",
    "card.write_setup()\n",
    "\n",
    "# Setup DDS functionality\n",
    "dds = spcm.DDS(card, channels=channels)\n",
    "dds.reset()\n",
    "\n",
    "dds.data_transfer_mode(spcm.SPCM_DDS_DTM_DMA)\n",
    "\n",
    "dds.trg_src(spcm.SPCM_DDS_TRG_SRC_CARD)\n",
    "\n",
    "core_list = [hex(2**n) for n in range(20)]\n",
    "\n",
    "card.start(spcm.M2CMD_CARD_ENABLETRIGGER)"
   ]
  },
  {
   "cell_type": "code",
   "execution_count": 5,
   "metadata": {},
   "outputs": [
    {
     "name": "stdout",
     "output_type": "stream",
     "text": [
      "[74999999. 75000000.]\n"
     ]
    },
    {
     "ename": "SpcmException",
     "evalue": "Call: (SPC_DDS_CMD, SPCM_DDS_CMD_WRITE_TO_CARD) -> value not allowed",
     "output_type": "error",
     "traceback": [
      "\u001b[1;31m---------------------------------------------------------------------------\u001b[0m",
      "\u001b[1;31mSpcmException\u001b[0m                             Traceback (most recent call last)",
      "Cell \u001b[1;32mIn[5], line 16\u001b[0m\n\u001b[0;32m     14\u001b[0m         dds[tweezer_idx]\u001b[38;5;241m.\u001b[39mamp(\u001b[38;5;241m0.\u001b[39m)\n\u001b[0;32m     15\u001b[0m dds\u001b[38;5;241m.\u001b[39mexec_at_trg()\n\u001b[1;32m---> 16\u001b[0m \u001b[43mdds\u001b[49m\u001b[38;5;241;43m.\u001b[39;49m\u001b[43mwrite_to_card\u001b[49m\u001b[43m(\u001b[49m\u001b[43m)\u001b[49m\n",
      "File \u001b[1;32mc:\\Users\\jarjarbinks\\.venv\\kpy\\lib\\site-packages\\spcm\\classes_dds.py:1300\u001b[0m, in \u001b[0;36mDDS.write_to_card\u001b[1;34m(self, flags)\u001b[0m\n\u001b[0;32m   1295\u001b[0m \u001b[38;5;28;01mdef\u001b[39;00m \u001b[38;5;21mwrite_to_card\u001b[39m(\u001b[38;5;28mself\u001b[39m, flags\u001b[38;5;241m=\u001b[39m\u001b[38;5;241m0\u001b[39m) \u001b[38;5;241m-\u001b[39m\u001b[38;5;241m>\u001b[39m \u001b[38;5;28;01mNone\u001b[39;00m:\n\u001b[0;32m   1296\u001b[0m \u001b[38;5;250m    \u001b[39m\u001b[38;5;124;03m\"\"\"\u001b[39;00m\n\u001b[0;32m   1297\u001b[0m \u001b[38;5;124;03m    send a list of all the commands that came after the last write_list and send them to the card (see register `SPC_DDS_CMD` in the manual)\u001b[39;00m\n\u001b[0;32m   1298\u001b[0m \u001b[38;5;124;03m    \"\"\"\u001b[39;00m\n\u001b[1;32m-> 1300\u001b[0m     \u001b[38;5;28;43mself\u001b[39;49m\u001b[38;5;241;43m.\u001b[39;49m\u001b[43mcmd\u001b[49m\u001b[43m(\u001b[49m\u001b[43mSPCM_DDS_CMD_WRITE_TO_CARD\u001b[49m\u001b[43m \u001b[49m\u001b[38;5;241;43m|\u001b[39;49m\u001b[43m \u001b[49m\u001b[43mflags\u001b[49m\u001b[43m)\u001b[49m\n",
      "File \u001b[1;32mc:\\Users\\jarjarbinks\\.venv\\kpy\\lib\\site-packages\\spcm\\classes_dds.py:1263\u001b[0m, in \u001b[0;36mDDS.cmd\u001b[1;34m(self, command)\u001b[0m\n\u001b[0;32m   1253\u001b[0m \u001b[38;5;28;01mdef\u001b[39;00m \u001b[38;5;21mcmd\u001b[39m(\u001b[38;5;28mself\u001b[39m, command : \u001b[38;5;28mint\u001b[39m) \u001b[38;5;241m-\u001b[39m\u001b[38;5;241m>\u001b[39m \u001b[38;5;28;01mNone\u001b[39;00m:\n\u001b[0;32m   1254\u001b[0m \u001b[38;5;250m    \u001b[39m\u001b[38;5;124;03m\"\"\"\u001b[39;00m\n\u001b[0;32m   1255\u001b[0m \u001b[38;5;124;03m    execute a DDS specific control flow command (see register `SPC_DDS_CMD` in the manual)\u001b[39;00m\n\u001b[0;32m   1256\u001b[0m \u001b[38;5;124;03m    \u001b[39;00m\n\u001b[1;32m   (...)\u001b[0m\n\u001b[0;32m   1260\u001b[0m \u001b[38;5;124;03m        DDS specific command\u001b[39;00m\n\u001b[0;32m   1261\u001b[0m \u001b[38;5;124;03m    \"\"\"\u001b[39;00m\n\u001b[1;32m-> 1263\u001b[0m     \u001b[38;5;28;43mself\u001b[39;49m\u001b[38;5;241;43m.\u001b[39;49m\u001b[43mset_i\u001b[49m\u001b[43m(\u001b[49m\u001b[43mSPC_DDS_CMD\u001b[49m\u001b[43m,\u001b[49m\u001b[43m \u001b[49m\u001b[43mcommand\u001b[49m\u001b[43m)\u001b[49m\n",
      "File \u001b[1;32mc:\\Users\\jarjarbinks\\.venv\\kpy\\lib\\site-packages\\spcm\\classes_dds.py:420\u001b[0m, in \u001b[0;36mDDS.set_i\u001b[1;34m(self, reg, value)\u001b[0m\n\u001b[0;32m    417\u001b[0m \u001b[38;5;28mself\u001b[39m\u001b[38;5;241m.\u001b[39m_rl_current \u001b[38;5;241m+\u001b[39m\u001b[38;5;241m=\u001b[39m \u001b[38;5;241m1\u001b[39m\n\u001b[0;32m    419\u001b[0m \u001b[38;5;28;01mif\u001b[39;00m reg \u001b[38;5;241m==\u001b[39m SPC_DDS_CMD \u001b[38;5;129;01mand\u001b[39;00m (value \u001b[38;5;241m&\u001b[39m SPCM_DDS_CMD_WRITE_TO_CARD):\n\u001b[1;32m--> 420\u001b[0m     \u001b[38;5;28;43mself\u001b[39;49m\u001b[38;5;241;43m.\u001b[39;49m\u001b[43mcard\u001b[49m\u001b[38;5;241;43m.\u001b[39;49m\u001b[43mset_ptr\u001b[49m\u001b[43m(\u001b[49m\u001b[43mSPC_REGISTER_LIST\u001b[49m\u001b[43m,\u001b[49m\u001b[43m \u001b[49m\u001b[38;5;28;43mself\u001b[39;49m\u001b[38;5;241;43m.\u001b[39;49m\u001b[43m_register_list\u001b[49m\u001b[43m,\u001b[49m\u001b[43m \u001b[49m\u001b[38;5;28;43mself\u001b[39;49m\u001b[38;5;241;43m.\u001b[39;49m\u001b[43m_rl_current\u001b[49m\u001b[43m \u001b[49m\u001b[38;5;241;43m*\u001b[39;49m\u001b[43m \u001b[49m\u001b[43mctypes\u001b[49m\u001b[38;5;241;43m.\u001b[39;49m\u001b[43msizeof\u001b[49m\u001b[43m(\u001b[49m\u001b[43mST_LIST_PARAM\u001b[49m\u001b[43m)\u001b[49m\u001b[43m)\u001b[49m\n\u001b[0;32m    421\u001b[0m     \u001b[38;5;28mself\u001b[39m\u001b[38;5;241m.\u001b[39m_rl_current \u001b[38;5;241m=\u001b[39m \u001b[38;5;241m0\u001b[39m\n\u001b[0;32m    423\u001b[0m \u001b[38;5;28;01mif\u001b[39;00m reg \u001b[38;5;241m==\u001b[39m SPC_DDS_CMD \u001b[38;5;129;01mand\u001b[39;00m (value \u001b[38;5;241m&\u001b[39m SPCM_DDS_CMD_RESET):\n",
      "File \u001b[1;32mc:\\Users\\jarjarbinks\\.venv\\kpy\\lib\\site-packages\\spcm\\classes_device.py:477\u001b[0m, in \u001b[0;36mDevice.set_ptr\u001b[1;34m(self, register, reference, size)\u001b[0m\n\u001b[0;32m    458\u001b[0m \u001b[38;5;250m\u001b[39m\u001b[38;5;124;03m\"\"\"\u001b[39;00m\n\u001b[0;32m    459\u001b[0m \u001b[38;5;124;03mUse a memory segment to write to a specific register of the card (see the user manual of your device for all the available registers)\u001b[39;00m\n\u001b[0;32m    460\u001b[0m \u001b[38;5;124;03m\u001b[39;00m\n\u001b[1;32m   (...)\u001b[0m\n\u001b[0;32m    473\u001b[0m \u001b[38;5;124;03m    The value as stored in the specific register\u001b[39;00m\n\u001b[0;32m    474\u001b[0m \u001b[38;5;124;03m\"\"\"\u001b[39;00m\n\u001b[0;32m    476\u001b[0m \u001b[38;5;28mself\u001b[39m\u001b[38;5;241m.\u001b[39m_check_closed()\n\u001b[1;32m--> 477\u001b[0m \u001b[38;5;28;43mself\u001b[39;49m\u001b[38;5;241;43m.\u001b[39;49m\u001b[43m_check_error\u001b[49m\u001b[43m(\u001b[49m\u001b[43mspcm_dwSetParam_ptr\u001b[49m\u001b[43m(\u001b[49m\u001b[38;5;28;43mself\u001b[39;49m\u001b[38;5;241;43m.\u001b[39;49m\u001b[43m_handle\u001b[49m\u001b[43m,\u001b[49m\u001b[43m \u001b[49m\u001b[43mregister\u001b[49m\u001b[43m,\u001b[49m\u001b[43m \u001b[49m\u001b[43mreference\u001b[49m\u001b[43m,\u001b[49m\u001b[43m \u001b[49m\u001b[43msize\u001b[49m\u001b[43m)\u001b[49m\u001b[43m)\u001b[49m\n",
      "File \u001b[1;32mc:\\Users\\jarjarbinks\\.venv\\kpy\\lib\\site-packages\\spcm\\classes_device.py:498\u001b[0m, in \u001b[0;36mDevice._check_error\u001b[1;34m(self, dwErr)\u001b[0m\n\u001b[0;32m    496\u001b[0m \u001b[38;5;28;01mif\u001b[39;00m dwErr \u001b[38;5;129;01mnot\u001b[39;00m \u001b[38;5;129;01min\u001b[39;00m [ERR_OK, ERR_TIMEOUT] \u001b[38;5;129;01mand\u001b[39;00m \u001b[38;5;28mself\u001b[39m\u001b[38;5;241m.\u001b[39m_throw_error:\n\u001b[0;32m    497\u001b[0m     \u001b[38;5;28mself\u001b[39m\u001b[38;5;241m.\u001b[39mget_error_info()\n\u001b[1;32m--> 498\u001b[0m     \u001b[38;5;28;01mraise\u001b[39;00m SpcmException(\u001b[38;5;28mself\u001b[39m\u001b[38;5;241m.\u001b[39m_last_error)\n\u001b[0;32m    499\u001b[0m \u001b[38;5;28;01melif\u001b[39;00m dwErr \u001b[38;5;241m==\u001b[39m ERR_TIMEOUT:\n\u001b[0;32m    500\u001b[0m     \u001b[38;5;28;01mraise\u001b[39;00m SpcmTimeout(\u001b[38;5;124m\"\u001b[39m\u001b[38;5;124mA card timeout occured\u001b[39m\u001b[38;5;124m\"\u001b[39m)\n",
      "\u001b[1;31mSpcmException\u001b[0m: Call: (SPC_DDS_CMD, SPCM_DDS_CMD_WRITE_TO_CARD) -> value not allowed"
     ]
    }
   ],
   "source": [
    "# set up a static tweezer array\n",
    "\n",
    "frequency_spacing = 1.\n",
    "n_tweezers = 2\n",
    "f_list = np.arange(75.e6 - (n_tweezers*frequency_spacing)/2,75.e6 + (n_tweezers*frequency_spacing)/2, frequency_spacing)\n",
    "print(f_list)\n",
    "a_list = [.1,.1]\n",
    "\n",
    "for tweezer_idx in range(len(core_list)):\n",
    "    if tweezer_idx < len(f_list):\n",
    "        dds[tweezer_idx].amp(a_list[tweezer_idx])\n",
    "        dds[tweezer_idx].freq(f_list[tweezer_idx])\n",
    "    else:\n",
    "        dds[tweezer_idx].amp(0.)\n",
    "dds.exec_at_trg()\n",
    "dds.write_to_card()"
   ]
  },
  {
   "cell_type": "code",
   "execution_count": null,
   "metadata": {},
   "outputs": [],
   "source": [
    "# fm the tweezer array for some amount of time\n",
    "\n",
    "# how much time to fm?\n",
    "fm_time = 2.\n",
    "\n",
    "modulation_freq  = 1.e6\n",
    "modulation_depth = 2.e6\n",
    "\n",
    "# rate at which to update frequency (sample rate)\n",
    "period_s = 20.e-3\n",
    "\n",
    "# number of samples in a period\n",
    "num_samples = int(1/(period_s * modulation_freq))\n",
    "\n",
    "# list of sample numbers\n",
    "sample_range = np.arange(num_samples)*period_s\n",
    "\n",
    "# empty array to be filled with frequency values for each dds core\n",
    "freq_lists = np.empty([len(f_list),len(sample_range)])\n",
    "\n",
    "# compute and fill in the above array\n",
    "for i in len(f_list):\n",
    "    freq_lists[i] = f_list[i] + modulation_depth * np.sin(2*np.pi*sample_range*modulation_freq)\n",
    "\n",
    "# start trigger timer, which outputs trigger events at a given rate\n",
    "dds.trg_src(spcm.SPCM_DDS_TRG_SRC_TIMER)\n",
    "dds.trg_timer(period_s)\n",
    "dds.exec_at_trg()\n",
    "\n",
    "# set trigger count to 0, for keeping track of how much time has passed once in trg_timer mode\n",
    "trg_count = trigger.trigger_counter() - trigger.trigger_counter()\n",
    "\n",
    "# pre_fill the buffer\n",
    "fill_max = dds.queue_cmd_max()\n",
    "counter = 0\n",
    "for counter in range(fill_max // 2 - 4):\n",
    "    for tone_idx in np.shape(freq_lists)[0]:\n",
    "        freq_Hz = freq_lists[tone_idx][counter % num_samples]\n",
    "        dds[tone_idx].freq(freq_Hz)\n",
    "    dds.exec_at_trg()\n",
    "dds.write_to_card()\n",
    "\n",
    "fill_count = dds.queue_cmd_count()\n",
    "print(\"Pre-fill buffer: {}/{}\".format(fill_count, fill_max))\n",
    "\n",
    "# start streaming\n",
    "fill_number = fill_max // 4\n",
    "fill_check = fill_max - fill_number\n",
    "while True:\n",
    "    while True:\n",
    "        fill_count = dds.queue_cmd_count()\n",
    "        if fill_count < fill_check: break\n",
    "    print(\"Adding a block of commands to buffer\")\n",
    "    for i in range(fill_number // 2):\n",
    "        for tone_idx in np.shape(freq_lists)[0]:\n",
    "            freq_Hz = freq_lists[tone_idx][counter % num_samples]\n",
    "            dds[tone_idx].freq(freq_Hz)\n",
    "            dds.exec_at_trg()\n",
    "            counter += 1\n",
    "            counter %= num_samples\n",
    "    dds.write_to_card()\n",
    "    status = dds.status()\n",
    "\n",
    "    # check that the queue hasn't underrun\n",
    "    if status & spcm.SPCM_DDS_STAT_QUEUE_UNDERRUN:\n",
    "        break\n",
    "\n",
    "    # check the time that has passed by counting trigger events, if greater than the trigger time, stop the fm\n",
    "    elif float(trg_count) >= fm_time / period_s:\n",
    "        break\n",
    "\n",
    "# reset trigger mode to external at the end of the fm time\n",
    "dds.trg_src(spcm.SPCM_DDS_TRG_SRC_CARD)\n",
    "dds.exec_at_trg()\n",
    "trigger.force()"
   ]
  },
  {
   "cell_type": "code",
   "execution_count": null,
   "metadata": {},
   "outputs": [],
   "source": [
    "# card.close(card._handle)\n",
    "card.stop()\n",
    "\n",
    "card.close(card._handle)"
   ]
  }
 ],
 "metadata": {
  "kernelspec": {
   "display_name": "kpy",
   "language": "python",
   "name": "python3"
  },
  "language_info": {
   "codemirror_mode": {
    "name": "ipython",
    "version": 3
   },
   "file_extension": ".py",
   "mimetype": "text/x-python",
   "name": "python",
   "nbconvert_exporter": "python",
   "pygments_lexer": "ipython3",
   "version": "3.10.11"
  }
 },
 "nbformat": 4,
 "nbformat_minor": 2
}
