{
 "cells": [
  {
   "cell_type": "code",
   "execution_count": 2,
   "metadata": {},
   "outputs": [
    {
     "name": "stdout",
     "output_type": "stream",
     "text": [
      "2\n"
     ]
    }
   ],
   "source": [
    "import spcm\n",
    "from spcm import units\n",
    "import numpy as np\n",
    "\n",
    "# card : spcm.Card\n",
    "\n",
    "ip = 'TCPIP::192.168.1.83::INSTR'\n",
    "\n",
    "card = spcm.Card(ip)\n",
    "\n",
    "card.open(ip)\n",
    "\n",
    "# setup card for DDS\n",
    "card.card_mode(spcm.SPC_REP_STD_DDS)\n",
    "\n",
    "# Setup the channels\n",
    "channels = spcm.Channels(card)\n",
    "print(len(channels))\n",
    "channels.enable(True)\n",
    "channels.output_load(50 * units.ohm)\n",
    "channels.amp(1. * units.V)\n",
    "card.write_setup()\n",
    "\n",
    "# trigger mode\n",
    "trigger = spcm.Trigger(card)\n",
    "trigger.or_mask(spcm.SPC_TMASK_EXT0) # disable default software trigger\n",
    "trigger.ext0_mode(spcm.SPC_TM_POS) # positive edge\n",
    "trigger.ext0_level0(1.5 * units.V) # Trigger level is 1.5 V (1500 mV)\n",
    "trigger.ext0_coupling(spcm.COUPLING_DC) # set DC coupling\n",
    "card.write_setup()\n",
    "\n",
    "# Setup DDS functionality\n",
    "dds = spcm.DDS(card, channels=channels)\n",
    "dds.reset()\n",
    "\n",
    "# dds.data_transfer_mode(spcm.SPCM_DDS_DTM_DMA)\n",
    "\n",
    "dds.trg_src(spcm.SPCM_DDS_TRG_SRC_CARD)\n",
    "\n",
    "core_list = [hex(2**n) for n in range(20)]\n",
    "\n",
    "card.start(spcm.M2CMD_CARD_ENABLETRIGGER)"
   ]
  },
  {
   "cell_type": "code",
   "execution_count": 7,
   "metadata": {},
   "outputs": [
    {
     "name": "stdout",
     "output_type": "stream",
     "text": [
      "[74000000. 75000000.]\n"
     ]
    }
   ],
   "source": [
    "# set up a static tweezer array\n",
    "frequency_spacing = 1.e6\n",
    "n_tweezers = 2\n",
    "f_list = np.arange(75.e6 - n_tweezers*frequency_spacing/2,75.e6 + n_tweezers*frequency_spacing/2, frequency_spacing)\n",
    "print(f_list)\n",
    "a_list = [.1,.1]\n",
    "\n",
    "for tweezer_idx in range(len(core_list)):\n",
    "    if tweezer_idx < len(f_list):\n",
    "        dds[tweezer_idx].amp(a_list[tweezer_idx])\n",
    "        dds[tweezer_idx].freq(f_list[tweezer_idx])\n",
    "    else:\n",
    "        dds[tweezer_idx].amp(0.)\n",
    "dds.exec_at_trg()\n",
    "dds.write_to_card()"
   ]
  },
  {
   "cell_type": "code",
   "execution_count": 8,
   "metadata": {},
   "outputs": [
    {
     "name": "stdout",
     "output_type": "stream",
     "text": [
      "50\n",
      "Pre-fill buffer: 4088/4096\n"
     ]
    }
   ],
   "source": [
    "# fm the tweezer array for some amount of time\n",
    "\n",
    "# how much time to fm?\n",
    "fm_time = 2.\n",
    "\n",
    "modulation_freq  = 1.\n",
    "modulation_depth = 2.e6\n",
    "\n",
    "# rate at which to update frequency (sample rate)\n",
    "period_s = 20.e-3\n",
    "\n",
    "# number of samples in a period\n",
    "num_samples = int(1/(period_s * modulation_freq))\n",
    "print(num_samples)\n",
    "\n",
    "# list of sample numbers\n",
    "sample_range = np.arange(num_samples)*period_s\n",
    "\n",
    "# empty array to be filled with frequency values for each dds core\n",
    "freq_lists = np.empty([len(f_list),len(sample_range)])\n",
    "\n",
    "# compute and fill in the above array\n",
    "for i in range(len(f_list)):\n",
    "    freq_lists[i] = f_list[i] + modulation_depth * np.sin(2*np.pi*sample_range*modulation_freq)\n",
    "\n",
    "# start trigger timer, which outputs trigger events at a given rate\n",
    "dds.trg_src(spcm.SPCM_DDS_TRG_SRC_TIMER)\n",
    "dds.trg_timer(period_s)\n",
    "dds.exec_at_trg()\n",
    "\n",
    "# set trigger count to 0, for keeping track of how much time has passed once in trg_timer mode\n",
    "trg_count_init = trigger.trigger_counter()\n",
    "\n",
    "# pre_fill the buffer\n",
    "fill_max = dds.queue_cmd_max()\n",
    "counter = 0\n",
    "for counter in range(fill_max // 2 - 4):\n",
    "    for tone_idx in range(np.shape(freq_lists)[0]):\n",
    "        freq_Hz = freq_lists[tone_idx][counter % num_samples]\n",
    "        dds[tone_idx].freq(freq_Hz)\n",
    "    dds.exec_at_trg()\n",
    "dds.write_to_card()\n",
    "\n",
    "fill_count = dds.queue_cmd_count()\n",
    "print(\"Pre-fill buffer: {}/{}\".format(fill_count, fill_max))\n",
    "\n",
    "# start streaming\n",
    "fill_number = fill_max // 4\n",
    "fill_check = fill_max - fill_number\n",
    "while float(trigger.trigger_counter() - trg_count_init) < fm_time / period_s:\n",
    "    while True:\n",
    "        fill_count = dds.queue_cmd_count()\n",
    "        if fill_count < fill_check: break\n",
    "    print(\"Adding a block of commands to buffer\")\n",
    "    for i in range(fill_number // 2):\n",
    "        for tone_idx in range(np.shape(freq_lists)[0]):\n",
    "            freq_Hz = freq_lists[tone_idx][counter % num_samples]\n",
    "            dds[tone_idx].freq(freq_Hz)\n",
    "            dds.exec_at_trg()\n",
    "            counter += 1\n",
    "            counter %= num_samples\n",
    "    dds.write_to_card()\n",
    "    status = dds.status()\n",
    "\n",
    "    # check that the queue hasn't underrun\n",
    "    if status & spcm.SPCM_DDS_STAT_QUEUE_UNDERRUN:\n",
    "        break\n",
    "\n",
    "# reset trigger mode to external at the end of the fm time\n",
    "dds.trg_src(spcm.SPCM_DDS_TRG_SRC_CARD)\n",
    "dds.exec_at_trg()\n",
    "trigger.force()"
   ]
  },
  {
   "cell_type": "code",
   "execution_count": 1,
   "metadata": {},
   "outputs": [
    {
     "ename": "NameError",
     "evalue": "name 'card' is not defined",
     "output_type": "error",
     "traceback": [
      "\u001b[1;31m---------------------------------------------------------------------------\u001b[0m",
      "\u001b[1;31mNameError\u001b[0m                                 Traceback (most recent call last)",
      "Cell \u001b[1;32mIn[1], line 2\u001b[0m\n\u001b[0;32m      1\u001b[0m \u001b[38;5;66;03m# card.close(card._handle)\u001b[39;00m\n\u001b[1;32m----> 2\u001b[0m \u001b[43mcard\u001b[49m\u001b[38;5;241m.\u001b[39mstop()\n\u001b[0;32m      4\u001b[0m card\u001b[38;5;241m.\u001b[39mclose(card\u001b[38;5;241m.\u001b[39m_handle)\n",
      "\u001b[1;31mNameError\u001b[0m: name 'card' is not defined"
     ]
    }
   ],
   "source": [
    "# card.close(card._handle)\n",
    "card.stop()\n",
    "\n",
    "card.close(card._handle)"
   ]
  }
 ],
 "metadata": {
  "kernelspec": {
   "display_name": "kpy",
   "language": "python",
   "name": "python3"
  },
  "language_info": {
   "codemirror_mode": {
    "name": "ipython",
    "version": 3
   },
   "file_extension": ".py",
   "mimetype": "text/x-python",
   "name": "python",
   "nbconvert_exporter": "python",
   "pygments_lexer": "ipython3",
   "version": "3.10.11"
  }
 },
 "nbformat": 4,
 "nbformat_minor": 2
}
