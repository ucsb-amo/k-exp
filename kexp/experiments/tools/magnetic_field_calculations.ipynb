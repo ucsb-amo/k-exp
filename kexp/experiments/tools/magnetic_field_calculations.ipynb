{
 "cells": [
  {
   "cell_type": "code",
   "execution_count": 28,
   "metadata": {},
   "outputs": [
    {
     "name": "stderr",
     "output_type": "stream",
     "text": [
      "[autoreload of kexp.analysis.fitting.gaussian failed: Traceback (most recent call last):\n",
      "  File \"c:\\Users\\jarjarbinks\\.venv\\kpy\\lib\\site-packages\\IPython\\extensions\\autoreload.py\", line 261, in check\n",
      "    superreload(m, reload, self.old_objects)\n",
      "  File \"c:\\Users\\jarjarbinks\\.venv\\kpy\\lib\\site-packages\\IPython\\extensions\\autoreload.py\", line 484, in superreload\n",
      "    update_generic(old_obj, new_obj)\n",
      "  File \"c:\\Users\\jarjarbinks\\.venv\\kpy\\lib\\site-packages\\IPython\\extensions\\autoreload.py\", line 381, in update_generic\n",
      "    update(a, b)\n",
      "  File \"c:\\Users\\jarjarbinks\\.venv\\kpy\\lib\\site-packages\\IPython\\extensions\\autoreload.py\", line 333, in update_class\n",
      "    if update_generic(old_obj, new_obj):\n",
      "  File \"c:\\Users\\jarjarbinks\\.venv\\kpy\\lib\\site-packages\\IPython\\extensions\\autoreload.py\", line 381, in update_generic\n",
      "    update(a, b)\n",
      "  File \"c:\\Users\\jarjarbinks\\.venv\\kpy\\lib\\site-packages\\IPython\\extensions\\autoreload.py\", line 293, in update_function\n",
      "    setattr(old, name, getattr(new, name))\n",
      "ValueError: __init__() requires a code object with 0 free vars, not 1\n",
      "]\n"
     ]
    },
    {
     "name": "stdout",
     "output_type": "stream",
     "text": [
      "The autoreload extension is already loaded. To reload it, use:\n",
      "  %reload_ext autoreload\n"
     ]
    }
   ],
   "source": [
    "import matplotlib.pyplot as plt\n",
    "import matplotlib as mpl\n",
    "import numpy as np\n",
    "from kamo.atom_properties.k39 import Potassium39\n",
    "%matplotlib inline\n",
    "\n",
    "%load_ext autoreload\n",
    "%autoreload 2\n",
    "\n",
    "k = Potassium39()\n",
    "\n",
    "plt.rcParams['figure.dpi'] = 200"
   ]
  },
  {
   "cell_type": "code",
   "execution_count": 29,
   "metadata": {},
   "outputs": [],
   "source": [
    "from kexp.calibrations.magnets import (magnetic_field_to_i_transducer, i_transducer_to_magnetic_field)"
   ]
  },
  {
   "cell_type": "markdown",
   "metadata": {},
   "source": [
    "Outer coil current <--> Magnetic field"
   ]
  },
  {
   "cell_type": "code",
   "execution_count": 16,
   "metadata": {},
   "outputs": [
    {
     "data": {
      "text/plain": [
       "20.577830043459556"
      ]
     },
     "execution_count": 16,
     "metadata": {},
     "output_type": "execute_result"
    }
   ],
   "source": [
    "magnetic_field_to_i_transducer(57.)"
   ]
  },
  {
   "cell_type": "code",
   "execution_count": 13,
   "metadata": {},
   "outputs": [
    {
     "data": {
      "text/plain": [
       "57.01187958420539"
      ]
     },
     "execution_count": 13,
     "metadata": {},
     "output_type": "execute_result"
    }
   ],
   "source": [
    "i_transducer_to_magnetic_field(20.57)"
   ]
  },
  {
   "cell_type": "markdown",
   "metadata": {},
   "source": [
    "Compute ground state microwave transitions"
   ]
  },
  {
   "cell_type": "code",
   "execution_count": 15,
   "metadata": {},
   "outputs": [
    {
     "name": "stdout",
     "output_type": "stream",
     "text": [
      "43.33965678769226\n"
     ]
    }
   ],
   "source": [
    "# what magnetic field?\n",
    "b=60.01\n",
    "\n",
    "# initial and final states\n",
    "\n",
    "F_i = 1\n",
    "mf_i = -1\n",
    "\n",
    "F_f = 1\n",
    "mf_f = 0\n",
    "\n",
    "print(abs(k.get_microwave_transition_frequency(4,0,.5,F_i,mf_i,F_f,mf_f,B=b)))"
   ]
  },
  {
   "cell_type": "markdown",
   "metadata": {},
   "source": [
    "Get scattering lengths"
   ]
  },
  {
   "cell_type": "code",
   "execution_count": 6,
   "metadata": {},
   "outputs": [
    {
     "data": {
      "text/plain": [
       "121.68679072337255"
      ]
     },
     "execution_count": 6,
     "metadata": {},
     "output_type": "execute_result"
    }
   ],
   "source": [
    "f = 1\n",
    "mf = -1\n",
    "\n",
    "k.get_scattering_length(f,mf,550.)"
   ]
  }
 ],
 "metadata": {
  "kernelspec": {
   "display_name": "kpy",
   "language": "python",
   "name": "python3"
  },
  "language_info": {
   "codemirror_mode": {
    "name": "ipython",
    "version": 3
   },
   "file_extension": ".py",
   "mimetype": "text/x-python",
   "name": "python",
   "nbconvert_exporter": "python",
   "pygments_lexer": "ipython3",
   "version": "3.10.11"
  }
 },
 "nbformat": 4,
 "nbformat_minor": 2
}
