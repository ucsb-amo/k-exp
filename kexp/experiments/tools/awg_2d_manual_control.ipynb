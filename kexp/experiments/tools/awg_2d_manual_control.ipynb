{
 "cells": [
  {
   "cell_type": "code",
   "execution_count": 36,
   "id": "411f6136",
   "metadata": {},
   "outputs": [
    {
     "name": "stdout",
     "output_type": "stream",
     "text": [
      "2\n"
     ]
    }
   ],
   "source": [
    "import spcm\n",
    "from spcm import units\n",
    "import numpy as np\n",
    "\n",
    "# card : spcm.Card\n",
    "\n",
    "ip = 'TCPIP::192.168.1.83::INSTR'\n",
    "\n",
    "card = spcm.Card(ip)\n",
    "\n",
    "card.open(ip)\n",
    "\n",
    "# setup card for DDS\n",
    "card.card_mode(spcm.SPC_REP_STD_DDS)\n",
    "\n",
    "# Setup the channels\n",
    "channels = spcm.Channels(card)\n",
    "print(len(channels))\n",
    "channels.enable(True)\n",
    "channels.output_load(50 * units.ohm)\n",
    "channels.amp(.3985 * units.V)\n",
    "card.write_setup()\n",
    "\n",
    "# trigger mode\n",
    "trigger = spcm.Trigger(card)\n",
    "trigger.or_mask(spcm.SPC_TMASK_EXT0) # disable default software trigger\n",
    "trigger.ext0_mode(spcm.SPC_TM_POS) # positive edge\n",
    "trigger.ext0_level0(1.5 * units.V) # Trigger level is 1.5 V (1500 mV)\n",
    "trigger.ext0_coupling(spcm.COUPLING_DC) # set DC coupling\n",
    "card.write_setup()\n",
    "\n",
    "# Setup DDS functionality\n",
    "dds = spcm.DDS(card, channels=channels)\n",
    "dds.reset()\n",
    "\n",
    "dds.trg_src(spcm.SPCM_DDS_TRG_SRC_CARD)\n",
    "\n",
    "# core_list = np.array([hex(2**n) for n in range(20)])\n",
    "\n",
    "# channel2_core_list = [spcm.SPCM_DDS_CORE8,  spcm.SPCM_DDS_CORE9,  spcm.SPCM_DDS_CORE10, spcm.SPCM_DDS_CORE11, spcm.SPCM_DDS_CORE20]\n",
    "\n",
    "dds.cores_on_channel(1, spcm.SPCM_DDS_CORE8,spcm.SPCM_DDS_CORE9,spcm.SPCM_DDS_CORE10,spcm.SPCM_DDS_CORE11)\n",
    "card.start(spcm.M2CMD_CARD_ENABLETRIGGER)"
   ]
  },
  {
   "cell_type": "code",
   "execution_count": 12,
   "id": "810001fb",
   "metadata": {},
   "outputs": [
    {
     "data": {
      "text/plain": [
       "1048575"
      ]
     },
     "execution_count": 12,
     "metadata": {},
     "output_type": "execute_result"
    }
   ],
   "source": [
    "dds.get_cores_on_channel(0)"
   ]
  },
  {
   "cell_type": "code",
   "execution_count": 13,
   "id": "b1137c99",
   "metadata": {},
   "outputs": [
    {
     "data": {
      "text/plain": [
       "256"
      ]
     },
     "execution_count": 13,
     "metadata": {},
     "output_type": "execute_result"
    }
   ],
   "source": [
    "spcm.SPCM_DDS_CORE8"
   ]
  },
  {
   "cell_type": "code",
   "execution_count": 2,
   "id": "50f271d8",
   "metadata": {},
   "outputs": [
    {
     "name": "stdout",
     "output_type": "stream",
     "text": [
      "256\n"
     ]
    }
   ],
   "source": [
    "print(int(spcm.SPCM_DDS_CORE8))"
   ]
  },
  {
   "cell_type": "code",
   "execution_count": 38,
   "id": "81592f3f",
   "metadata": {},
   "outputs": [],
   "source": [
    "def compute_tweezer_1064_phases(n_tweezers,amplitudes):\n",
    "    phase_tweezer_array = np.empty([n_tweezers])\n",
    "    for tweezer_idx in range(n_tweezers):\n",
    "        if tweezer_idx == 0:\n",
    "            phase_tweezer_array[0] = 360\n",
    "        else:\n",
    "            phase_ij = 0\n",
    "            for j in range(1,tweezer_idx):\n",
    "                phase_ij = phase_ij + 2*np.pi*(tweezer_idx - j)*amplitudes[tweezer_idx]\n",
    "            phase_i = (phase_ij % 2*np.pi) * 360\n",
    "            phase_tweezer_array[tweezer_idx] = phase_i\n",
    "    return phase_tweezer_array\n",
    "\n",
    "# horizontal array\n",
    "\n",
    "f_list1 = np.linspace(72.25e6,74.e6,4)\n",
    "\n",
    "n_tweezers1 = len(f_list1)\n",
    "\n",
    "a_list1 = np.array([0.15,0.12,.105,.1])*2\n",
    "\n",
    "f_list1 = np.array(f_list1)\n",
    "a_list1 = np.array(a_list1)\n",
    "\n",
    "phases1 = compute_tweezer_1064_phases(len(f_list1),a_list1)\n",
    "\n",
    "# vertical array\n",
    "rng = .95e6\n",
    "f_list2 = 75.e6 + np.linspace(-rng,rng,4)\n",
    "\n",
    "n_tweezers2 = len(f_list2)\n",
    "\n",
    "a_list2 = np.array([.26,.23,.23,.26])\n",
    "\n",
    "f_list2 = np.array(f_list2)\n",
    "a_list2 = np.array(a_list2)\n",
    "\n",
    "phases2 = compute_tweezer_1064_phases(len(f_list2),a_list2)\n",
    "\n",
    "# def normalize_alist(alist):\n",
    "#     sum = np.sum(alist)\n",
    "#     return alist/sum\n",
    "# a_list = normalize_alist(a_list)\n",
    "\n",
    "for tweezer_idx in range(len(f_list1)):\n",
    "    if tweezer_idx < len(f_list1):\n",
    "        dds[tweezer_idx].amp(a_list1[tweezer_idx])\n",
    "        dds[tweezer_idx].freq(f_list1[tweezer_idx])\n",
    "        dds[tweezer_idx].phase(phases1[tweezer_idx])\n",
    "    else:\n",
    "        dds[tweezer_idx].amp(0.)\n",
    "\n",
    "for tweezer_idx in range(len(f_list2)):\n",
    "    if tweezer_idx < len(f_list2):\n",
    "        tweezer_idx = tweezer_idx + 8\n",
    "        dds[tweezer_idx].amp(a_list2[tweezer_idx-8])\n",
    "        dds[tweezer_idx].freq(f_list2[tweezer_idx-8])\n",
    "        dds[tweezer_idx].phase(phases2[tweezer_idx-8])\n",
    "    else:\n",
    "        dds[tweezer_idx].amp(0.)\n",
    "    \n",
    "dds.exec_at_trg()\n",
    "dds.write_to_card()\n",
    "trigger.force()\n",
    "\n",
    "# Start command including enable of trigger engine\n",
    "\n",
    "# input(\"Press Enter to Exit\")"
   ]
  },
  {
   "cell_type": "code",
   "execution_count": 39,
   "id": "4247b300",
   "metadata": {},
   "outputs": [],
   "source": [
    "# card.close(card._handle)\n",
    "card.stop()\n",
    "card.close(card._handle)"
   ]
  }
 ],
 "metadata": {
  "kernelspec": {
   "display_name": "kpy",
   "language": "python",
   "name": "python3"
  },
  "language_info": {
   "codemirror_mode": {
    "name": "ipython",
    "version": 3
   },
   "file_extension": ".py",
   "mimetype": "text/x-python",
   "name": "python",
   "nbconvert_exporter": "python",
   "pygments_lexer": "ipython3",
   "version": "3.10.11"
  }
 },
 "nbformat": 4,
 "nbformat_minor": 5
}
