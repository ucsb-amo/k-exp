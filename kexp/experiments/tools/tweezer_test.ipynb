{
 "cells": [
  {
   "cell_type": "code",
   "execution_count": 1,
   "metadata": {},
   "outputs": [
    {
     "name": "stdout",
     "output_type": "stream",
     "text": [
      "2\n"
     ]
    }
   ],
   "source": [
    "import spcm\n",
    "from spcm import units\n",
    "import numpy as np\n",
    "\n",
    "# card : spcm.Card\n",
    "\n",
    "ip = 'TCPIP::192.168.1.83::INSTR'\n",
    "\n",
    "card = spcm.Card(ip)\n",
    "\n",
    "card.open(ip)\n",
    "\n",
    "# setup card for DDS\n",
    "card.card_mode(spcm.SPC_REP_STD_DDS)\n",
    "\n",
    "# Setup the channels\n",
    "channels = spcm.Channels(card)\n",
    "print(len(channels))\n",
    "channels.enable(True)\n",
    "channels.output_load(50 * units.ohm)\n",
    "channels.amp(1. * units.V)\n",
    "card.write_setup()\n",
    "\n",
    "# trigger mode\n",
    "trigger = spcm.Trigger(card)\n",
    "trigger.or_mask(spcm.SPC_TMASK_EXT0) # disable default software trigger\n",
    "trigger.ext0_mode(spcm.SPC_TM_POS) # positive edge\n",
    "trigger.ext0_level0(1.5 * units.V) # Trigger level is 1.5 V (1500 mV)\n",
    "trigger.ext0_coupling(spcm.COUPLING_DC) # set DC coupling\n",
    "card.write_setup()\n",
    "\n",
    "# Setup DDS functionality\n",
    "dds = spcm.DDS(card, channels=channels)\n",
    "dds.reset()\n",
    "\n",
    "dds.trg_src(spcm.SPCM_DDS_TRG_SRC_CARD)\n",
    "\n",
    "core_list = [hex(2**n) for n in range(20)]\n",
    "\n",
    "# core_list = [spcm.SPCM_DDS_CORE8,  spcm.SPCM_DDS_CORE9,  spcm.SPCM_DDS_CORE10, spcm.SPCM_DDS_CORE11, spcm.SPCM_DDS_CORE20]\n",
    "\n",
    "# dds.cores_on_channel(1, *core_list)\n",
    "\n",
    "card.start(spcm.M2CMD_CARD_ENABLETRIGGER)"
   ]
  },
  {
   "cell_type": "code",
   "execution_count": 2,
   "metadata": {},
   "outputs": [],
   "source": [
    "# max_f = 1.2e6\n",
    "max_f = .7e6\n",
    "n_tweezers = 1\n",
    "\n",
    "# f_list = [75.e6 - max_f,75.e6,75.e6 + max_f]\n",
    "# f_list = [75.e6 - max_f,75.e6 + max_f]\n",
    "f_list = np.linspace(75.e6 - max_f,75.e6 + max_f,n_tweezers)\n",
    "# f_list = [75.e6]\n",
    "# a_list = np.linspace(1/n_tweezers,1/n_tweezers,n_tweezers)\n",
    "a_list = [.5,.5]\n",
    "\n",
    "for tweezer_idx in range(len(core_list)):\n",
    "    if tweezer_idx < len(f_list):\n",
    "        dds[tweezer_idx].amp(a_list[tweezer_idx])\n",
    "        dds[tweezer_idx].freq(f_list[tweezer_idx])\n",
    "    else:\n",
    "        dds[tweezer_idx].amp(0.)\n",
    "dds.exec_at_trg()\n",
    "dds.write_to_card()\n",
    "\n",
    "# Start command including enable of trigger engine\n",
    "\n",
    "# input(\"Press Enter to Exit\")"
   ]
  },
  {
   "cell_type": "code",
   "execution_count": 2,
   "metadata": {},
   "outputs": [],
   "source": [
    "def add_tweezers_to_buffer(n_tweezers, freq_spacing=0.7e6 * 2, amp_list=[]):\n",
    "    max_f = freq_spacing\n",
    "    n_tweezers = n_tweezers\n",
    "    amp_list = [.2,.215]\n",
    "\n",
    "    # f_list = [75.e6 - max_f,75.e6,75.e6 + max_f]\n",
    "    # f_list = [75.e6 - max_f,75.e6 + max_f]\n",
    "    f_list = np.linspace(75.e6 - (n_tweezers-1)/2 * max_f,\n",
    "                         75.e6 + (n_tweezers-1)/2 * max_f,\n",
    "                         n_tweezers)\n",
    "    \n",
    "    if not amp_list:\n",
    "        # a_list = np.linspace(1/n_tweezers,1/n_tweezers,n_tweezers)\n",
    "        a_list = [0.2]*n_tweezers\n",
    "    else:\n",
    "        a_list = amp_list\n",
    "\n",
    "    for tweezer_idx in range(len(core_list)):\n",
    "        if tweezer_idx < len(f_list):\n",
    "            if isinstance(a_list,list):\n",
    "                dds[tweezer_idx].amp(a_list[tweezer_idx])\n",
    "            else:\n",
    "                dds[tweezer_idx].amp(a_list)\n",
    "            dds[tweezer_idx].freq(f_list[tweezer_idx])\n",
    "        else:\n",
    "            dds[tweezer_idx].amp(0.)\n",
    "    dds.exec_at_trg()\n",
    "    dds.write_to_card()\n",
    "\n",
    "add_tweezers_to_buffer(1, amp_list=0.2, freq_spacing = 1.e6)"
   ]
  },
  {
   "cell_type": "code",
   "execution_count": 3,
   "metadata": {},
   "outputs": [],
   "source": [
    "# card.close(card._handle)\n",
    "card.stop()\n",
    "\n",
    "card.close(card._handle)"
   ]
  }
 ],
 "metadata": {
  "kernelspec": {
   "display_name": "kpy",
   "language": "python",
   "name": "python3"
  },
  "language_info": {
   "codemirror_mode": {
    "name": "ipython",
    "version": 3
   },
   "file_extension": ".py",
   "mimetype": "text/x-python",
   "name": "python",
   "nbconvert_exporter": "python",
   "pygments_lexer": "ipython3",
   "version": "3.10.11"
  }
 },
 "nbformat": 4,
 "nbformat_minor": 2
}
