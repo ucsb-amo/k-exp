{
 "cells": [
  {
   "cell_type": "code",
   "execution_count": 1,
   "metadata": {},
   "outputs": [
    {
     "name": "stdout",
     "output_type": "stream",
     "text": [
      "2\n"
     ]
    }
   ],
   "source": [
    "import spcm\n",
    "from spcm import units\n",
    "import numpy as np\n",
    "\n",
    "# card : spcm.Card\n",
    "\n",
    "ip = 'TCPIP::192.168.1.83::INSTR'\n",
    "\n",
    "card = spcm.Card(ip)\n",
    "\n",
    "card.open(ip)\n",
    "\n",
    "# setup card for DDS\n",
    "card.card_mode(spcm.SPC_REP_STD_DDS)\n",
    "\n",
    "# Setup the channels\n",
    "channels = spcm.Channels(card)\n",
    "print(len(channels))\n",
    "channels.enable(True)\n",
    "channels.output_load(50 * units.ohm)\n",
    "channels.amp(2. * units.V)\n",
    "card.write_setup()\n",
    "\n",
    "# trigger mode\n",
    "trigger = spcm.Trigger(card)\n",
    "trigger.or_mask(spcm.SPC_TMASK_EXT0) # disable default software trigger\n",
    "trigger.ext0_mode(spcm.SPC_TM_POS) # positive edge\n",
    "trigger.ext0_level0(1.5 * units.V) # Trigger level is 1.5 V (1500 mV)\n",
    "trigger.ext0_coupling(spcm.COUPLING_DC) # set DC coupling\n",
    "card.write_setup()\n",
    "\n",
    "# Setup DDS functionality\n",
    "dds = spcm.DDS(card, channels=channels)\n",
    "dds.reset()\n",
    "\n",
    "dds.trg_src(spcm.SPCM_DDS_TRG_SRC_CARD)\n",
    "\n",
    "core_list = [hex(2**n) for n in range(20)]\n",
    "\n",
    "# core_list = [spcm.SPCM_DDS_CORE8,  spcm.SPCM_DDS_CORE9,  spcm.SPCM_DDS_CORE10, spcm.SPCM_DDS_CORE11, spcm.SPCM_DDS_CORE20]\n",
    "\n",
    "# dds.cores_on_channel(1, *core_list)\n",
    "\n",
    "card.start(spcm.M2CMD_CARD_ENABLETRIGGER)"
   ]
  },
  {
   "cell_type": "code",
   "execution_count": 2,
   "metadata": {},
   "outputs": [],
   "source": [
    "# max_f = 1.2e6\n",
    "max_f = 3.e6\n",
    "\n",
    "array1 = np.linspace(62.e6,72.e6,4)\n",
    "array2 = np.linspace(78.e6,88.e6,4)\n",
    "\n",
    "# f_list = [75.e6 - max_f,75.e6,75.e6 + max_f]\n",
    "# f_list = [75.e6 - max_f,75.e6 + max_f]\n",
    "# f_list = np.linspace(75.e6 - max_f,75.e6 + max_f,n_tweezers)\n",
    "f_list = np.concatenate([array1,array2])\n",
    "n_tweezers = len(f_list)\n",
    "# f_list = np.array([70.4e6,72.e6,78.e6])\n",
    "# f_list = [75.e6]\n",
    "a_list = np.linspace(1/n_tweezers,1/n_tweezers,n_tweezers)\n",
    "# a_list = [.33,.33,.33]\n",
    "\n",
    "for tweezer_idx in range(len(core_list)):\n",
    "    if tweezer_idx < len(f_list):\n",
    "        dds[tweezer_idx].amp(a_list[tweezer_idx])\n",
    "        dds[tweezer_idx].freq(f_list[tweezer_idx])\n",
    "    else:\n",
    "        dds[tweezer_idx].amp(0.)\n",
    "dds.exec_at_trg()\n",
    "dds.write_to_card()\n",
    "trigger.force()\n",
    "\n",
    "# Start command including enable of trigger engine\n",
    "\n",
    "# input(\"Press Enter to Exit\")"
   ]
  },
  {
   "cell_type": "code",
   "execution_count": 2,
   "metadata": {},
   "outputs": [],
   "source": [
    "def add_tweezers_to_buffer(n_tweezers, freq_spacing=0.7e6 * 2, amp_list=[]):\n",
    "    max_f = freq_spacing\n",
    "    n_tweezers = n_tweezers\n",
    "    amp_list = [.2,.215]\n",
    "\n",
    "    # f_list = [75.e6 - max_f,75.e6,75.e6 + max_f]\n",
    "    # f_list = [75.e6 - max_f,75.e6 + max_f]\n",
    "    f_list = np.linspace(75.e6 - (n_tweezers-1)/2 * max_f,\n",
    "                         75.e6 + (n_tweezers-1)/2 * max_f,\n",
    "                         n_tweezers)\n",
    "    \n",
    "    if not amp_list:\n",
    "        # a_list = np.linspace(1/n_tweezers,1/n_tweezers,n_tweezers)\n",
    "        a_list = [0.2]*n_tweezers\n",
    "    else:\n",
    "        a_list = amp_list\n",
    "\n",
    "    for tweezer_idx in range(len(core_list)):\n",
    "        if tweezer_idx < len(f_list):\n",
    "            if isinstance(a_list,list):\n",
    "                dds[tweezer_idx].amp(a_list[tweezer_idx])\n",
    "            else:\n",
    "                dds[tweezer_idx].amp(a_list)\n",
    "            dds[tweezer_idx].freq(f_list[tweezer_idx])\n",
    "        else:\n",
    "            dds[tweezer_idx].amp(0.)\n",
    "    dds.exec_at_trg()\n",
    "    dds.write_to_card()\n",
    "\n",
    "add_tweezers_to_buffer(1, amp_list=0.2, freq_spacing = 1.e6)"
   ]
  },
  {
   "cell_type": "code",
   "execution_count": 13,
   "metadata": {},
   "outputs": [
    {
     "ename": "SpcmException",
     "evalue": "",
     "output_type": "error",
     "traceback": [
      "\u001b[1;31m---------------------------------------------------------------------------\u001b[0m",
      "\u001b[1;31mSpcmException\u001b[0m                             Traceback (most recent call last)",
      "Cell \u001b[1;32mIn[13], line 2\u001b[0m\n\u001b[0;32m      1\u001b[0m \u001b[38;5;66;03m# card.close(card._handle)\u001b[39;00m\n\u001b[1;32m----> 2\u001b[0m \u001b[43mcard\u001b[49m\u001b[38;5;241;43m.\u001b[39;49m\u001b[43mstop\u001b[49m\u001b[43m(\u001b[49m\u001b[43m)\u001b[49m\n\u001b[0;32m      4\u001b[0m card\u001b[38;5;241m.\u001b[39mclose(card\u001b[38;5;241m.\u001b[39m_handle)\n",
      "File \u001b[1;32mc:\\Users\\jarjarbinks\\.venv\\kpy\\lib\\site-packages\\spcm\\classes_device.py:321\u001b[0m, in \u001b[0;36mDevice.stop\u001b[1;34m(self, *args)\u001b[0m\n\u001b[0;32m    311\u001b[0m \u001b[38;5;28;01mdef\u001b[39;00m \u001b[38;5;21mstop\u001b[39m(\u001b[38;5;28mself\u001b[39m, \u001b[38;5;241m*\u001b[39margs : \u001b[38;5;28mint\u001b[39m) \u001b[38;5;241m-\u001b[39m\u001b[38;5;241m>\u001b[39m \u001b[38;5;28;01mNone\u001b[39;00m:\n\u001b[0;32m    312\u001b[0m \u001b[38;5;250m    \u001b[39m\u001b[38;5;124;03m\"\"\"\u001b[39;00m\n\u001b[0;32m    313\u001b[0m \u001b[38;5;124;03m    Stops the connected card (see command `M2CMD_CARD_STOP` in the manual)\u001b[39;00m\n\u001b[0;32m    314\u001b[0m \n\u001b[1;32m   (...)\u001b[0m\n\u001b[0;32m    318\u001b[0m \u001b[38;5;124;03m        flags that are send together with the stop command (e.g. M2CMD_DATA_STOPDMA)\u001b[39;00m\n\u001b[0;32m    319\u001b[0m \u001b[38;5;124;03m    \"\"\"\u001b[39;00m\n\u001b[1;32m--> 321\u001b[0m     \u001b[38;5;28;43mself\u001b[39;49m\u001b[38;5;241;43m.\u001b[39;49m\u001b[43mcmd\u001b[49m\u001b[43m(\u001b[49m\u001b[43mM2CMD_CARD_STOP\u001b[49m\u001b[43m,\u001b[49m\u001b[43m \u001b[49m\u001b[38;5;241;43m*\u001b[39;49m\u001b[43margs\u001b[49m\u001b[43m)\u001b[49m\n",
      "File \u001b[1;32mc:\\Users\\jarjarbinks\\.venv\\kpy\\lib\\site-packages\\spcm\\classes_device.py:274\u001b[0m, in \u001b[0;36mDevice.cmd\u001b[1;34m(self, *args)\u001b[0m\n\u001b[0;32m    272\u001b[0m \u001b[38;5;28;01mfor\u001b[39;00m arg \u001b[38;5;129;01min\u001b[39;00m args:\n\u001b[0;32m    273\u001b[0m     cmd \u001b[38;5;241m|\u001b[39m\u001b[38;5;241m=\u001b[39m arg\n\u001b[1;32m--> 274\u001b[0m \u001b[38;5;28;43mself\u001b[39;49m\u001b[38;5;241;43m.\u001b[39;49m\u001b[43mset_i\u001b[49m\u001b[43m(\u001b[49m\u001b[43mSPC_M2CMD\u001b[49m\u001b[43m,\u001b[49m\u001b[43m \u001b[49m\u001b[43mcmd\u001b[49m\u001b[43m)\u001b[49m\n",
      "File \u001b[1;32mc:\\Users\\jarjarbinks\\.venv\\kpy\\lib\\site-packages\\spcm\\classes_device.py:440\u001b[0m, in \u001b[0;36mDevice.set_i\u001b[1;34m(self, register, value)\u001b[0m\n\u001b[0;32m    428\u001b[0m \u001b[38;5;250m\u001b[39m\u001b[38;5;124;03m\"\"\"\u001b[39;00m\n\u001b[0;32m    429\u001b[0m \u001b[38;5;124;03mWrite the value of a specific register to the card (see the user manual of your device for all the available registers)\u001b[39;00m\n\u001b[0;32m    430\u001b[0m \u001b[38;5;124;03m\u001b[39;00m\n\u001b[1;32m   (...)\u001b[0m\n\u001b[0;32m    436\u001b[0m \u001b[38;5;124;03m    The value that is written to the card.\u001b[39;00m\n\u001b[0;32m    437\u001b[0m \u001b[38;5;124;03m\"\"\"\u001b[39;00m\n\u001b[0;32m    439\u001b[0m \u001b[38;5;28mself\u001b[39m\u001b[38;5;241m.\u001b[39m_check_closed()\n\u001b[1;32m--> 440\u001b[0m \u001b[38;5;28;43mself\u001b[39;49m\u001b[38;5;241;43m.\u001b[39;49m\u001b[43m_check_error\u001b[49m\u001b[43m(\u001b[49m\u001b[43mspcm_dwSetParam_i64\u001b[49m\u001b[43m(\u001b[49m\u001b[38;5;28;43mself\u001b[39;49m\u001b[38;5;241;43m.\u001b[39;49m\u001b[43m_handle\u001b[49m\u001b[43m,\u001b[49m\u001b[43m \u001b[49m\u001b[43mregister\u001b[49m\u001b[43m,\u001b[49m\u001b[43m \u001b[49m\u001b[43mvalue\u001b[49m\u001b[43m)\u001b[49m\u001b[43m)\u001b[49m\n",
      "File \u001b[1;32mc:\\Users\\jarjarbinks\\.venv\\kpy\\lib\\site-packages\\spcm\\classes_device.py:498\u001b[0m, in \u001b[0;36mDevice._check_error\u001b[1;34m(self, dwErr)\u001b[0m\n\u001b[0;32m    496\u001b[0m \u001b[38;5;28;01mif\u001b[39;00m dwErr \u001b[38;5;129;01mnot\u001b[39;00m \u001b[38;5;129;01min\u001b[39;00m [ERR_OK, ERR_TIMEOUT] \u001b[38;5;129;01mand\u001b[39;00m \u001b[38;5;28mself\u001b[39m\u001b[38;5;241m.\u001b[39m_throw_error:\n\u001b[0;32m    497\u001b[0m     \u001b[38;5;28mself\u001b[39m\u001b[38;5;241m.\u001b[39mget_error_info()\n\u001b[1;32m--> 498\u001b[0m     \u001b[38;5;28;01mraise\u001b[39;00m SpcmException(\u001b[38;5;28mself\u001b[39m\u001b[38;5;241m.\u001b[39m_last_error)\n\u001b[0;32m    499\u001b[0m \u001b[38;5;28;01melif\u001b[39;00m dwErr \u001b[38;5;241m==\u001b[39m ERR_TIMEOUT:\n\u001b[0;32m    500\u001b[0m     \u001b[38;5;28;01mraise\u001b[39;00m SpcmTimeout(\u001b[38;5;124m\"\u001b[39m\u001b[38;5;124mA card timeout occured\u001b[39m\u001b[38;5;124m\"\u001b[39m)\n",
      "\u001b[1;31mSpcmException\u001b[0m: "
     ]
    }
   ],
   "source": [
    "# card.close(card._handle)\n",
    "card.stop()\n",
    "\n",
    "card.close(card._handle)"
   ]
  }
 ],
 "metadata": {
  "kernelspec": {
   "display_name": "kpy",
   "language": "python",
   "name": "python3"
  },
  "language_info": {
   "codemirror_mode": {
    "name": "ipython",
    "version": 3
   },
   "file_extension": ".py",
   "mimetype": "text/x-python",
   "name": "python",
   "nbconvert_exporter": "python",
   "pygments_lexer": "ipython3",
   "version": "3.10.11"
  }
 },
 "nbformat": 4,
 "nbformat_minor": 2
}
