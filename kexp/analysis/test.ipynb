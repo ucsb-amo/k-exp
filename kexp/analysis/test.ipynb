{
 "cells": [
  {
   "cell_type": "code",
   "execution_count": 2,
   "metadata": {},
   "outputs": [
    {
     "name": "stdout",
     "output_type": "stream",
     "text": [
      "(slice(None, None, None), 1, slice(None, None, None), 3)\n",
      "Resulting shape: (3, 5)\n",
      "Resulting array:\n",
      " [[0.18568613 0.72604743 0.00254518 0.2085948  0.08731132]\n",
      " [0.19466985 0.46266217 0.89985306 0.23928318 0.50088042]\n",
      " [0.29769219 0.01488556 0.75017604 0.36908707 0.46691284]]\n"
     ]
    }
   ],
   "source": [
    "import numpy as np\n",
    "\n",
    "# Create an examplse 4D array\n",
    "arr = np.random.rand(3, 4, 5, 6)\n",
    "\n",
    "# Specify the dimensions to slice\n",
    "# For example, if we want to slice out a 2D array from dimensions (1, 2) in the 4D array\n",
    "slice_dims = (1, slice(None), 3)  # (dimension_index_to_slice, slice_expression, dimension_index_to_slice)\n",
    "\n",
    "# Create a slicing tuple for the array\n",
    "slicing_tuple = tuple(slice(None) if i not in slice_dims else slice_dims[slice_dims.index(i)] for i in range(arr.ndim))\n",
    "print(slicing_tuple)\n",
    "# Extract the 2D slice\n",
    "result = arr[slicing_tuple]\n",
    "\n",
    "print(\"Resulting shape:\", result.shape)\n",
    "print(\"Resulting array:\\n\", result)\n"
   ]
  }
 ],
 "metadata": {
  "kernelspec": {
   "display_name": "kpy",
   "language": "python",
   "name": "python3"
  },
  "language_info": {
   "codemirror_mode": {
    "name": "ipython",
    "version": 3
   },
   "file_extension": ".py",
   "mimetype": "text/x-python",
   "name": "python",
   "nbconvert_exporter": "python",
   "pygments_lexer": "ipython3",
   "version": "3.10.11"
  }
 },
 "nbformat": 4,
 "nbformat_minor": 2
}
